{
 "cells": [
  {
   "cell_type": "code",
   "execution_count": 1,
   "metadata": {},
   "outputs": [],
   "source": [
    "# 데이터셋 가져오기\n",
    "import pandas as pd\n",
    "import json"
   ]
  },
  {
   "cell_type": "code",
   "execution_count": 2,
   "metadata": {},
   "outputs": [],
   "source": [
    "# csv 파일 읽기\n",
    "df = pd.read_csv('./dataset/meta_key_tk_223.csv')\n",
    "\n",
    "# 영화 개체를 저장하기 위한 리스트 초기화\n",
    "movies = []"
   ]
  },
  {
   "cell_type": "code",
   "execution_count": 4,
   "metadata": {},
   "outputs": [],
   "source": [
    "for index, row in df.iterrows():\n",
    "    movie_entry = {\n",
    "        \"movie_info\": {\n",
    "            \"imdb_id\": row[\"imdb_id\"],\n",
    "            \"title\": row[\"title\"],\n",
    "            \"genres\": [genre.strip().lower() for genre in row[\"genres\"].strip(\"[]\").replace(\"'\", \"\").split(\",\")],\n",
    "            \"keywords\": [keyword.strip().lower() for keyword in row[\"keywords\"].strip(\"[]\").replace(\"'\", \"\").split(\",\")],\n",
    "            \"popularity\": row[\"popularity\"],\n",
    "            \"vote_average\": row[\"vote_average\"]\n",
    "        },\n",
    "        \"overview_tk\": [word.strip().lower() for word in row[\"overview_tk\"].strip(\"[]\").replace(\"'\", \"\").split(\",\")],\n",
    "        \"tagline_tk\": [word.strip().lower() for word in row[\"tagline_tk\"].strip(\"[]\").replace(\"'\", \"\").split(\",\")]\n",
    "    }\n",
    "    # 리스트에 영화 개체 넣기\n",
    "    movies.append(movie_entry)\n"
   ]
  },
  {
   "cell_type": "code",
   "execution_count": 7,
   "metadata": {},
   "outputs": [],
   "source": [
    "# 영화 개체를 json 파일에 작성\n",
    "with open('./dataset/labelling_223.json', 'w') as json_file:\n",
    "    json.dump(movies, json_file, indent=4)"
   ]
  }
 ],
 "metadata": {
  "kernelspec": {
   "display_name": "llm_rec_test",
   "language": "python",
   "name": "python3"
  },
  "language_info": {
   "codemirror_mode": {
    "name": "ipython",
    "version": 3
   },
   "file_extension": ".py",
   "mimetype": "text/x-python",
   "name": "python",
   "nbconvert_exporter": "python",
   "pygments_lexer": "ipython3",
   "version": "3.8.19"
  }
 },
 "nbformat": 4,
 "nbformat_minor": 2
}
