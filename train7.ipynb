{
 "cells": [
  {
   "cell_type": "code",
   "execution_count": 1,
   "metadata": {},
   "outputs": [
    {
     "name": "stderr",
     "output_type": "stream",
     "text": [
      "2024-04-19 11:35:37.171708: I tensorflow/core/platform/cpu_feature_guard.cc:193] This TensorFlow binary is optimized with oneAPI Deep Neural Network Library (oneDNN) to use the following CPU instructions in performance-critical operations:  AVX2 AVX512F AVX512_VNNI FMA\n",
      "To enable them in other operations, rebuild TensorFlow with the appropriate compiler flags.\n",
      "2024-04-19 11:35:37.280464: I tensorflow/core/util/port.cc:104] oneDNN custom operations are on. You may see slightly different numerical results due to floating-point round-off errors from different computation orders. To turn them off, set the environment variable `TF_ENABLE_ONEDNN_OPTS=0`.\n",
      "2024-04-19 11:35:37.767893: W tensorflow/compiler/xla/stream_executor/platform/default/dso_loader.cc:64] Could not load dynamic library 'libnvinfer.so.7'; dlerror: libnvinfer.so.7: cannot open shared object file: No such file or directory; LD_LIBRARY_PATH: /usr/local/cuda/lib64:\n",
      "2024-04-19 11:35:37.767950: W tensorflow/compiler/xla/stream_executor/platform/default/dso_loader.cc:64] Could not load dynamic library 'libnvinfer_plugin.so.7'; dlerror: libnvinfer_plugin.so.7: cannot open shared object file: No such file or directory; LD_LIBRARY_PATH: /usr/local/cuda/lib64:\n",
      "2024-04-19 11:35:37.767955: W tensorflow/compiler/tf2tensorrt/utils/py_utils.cc:38] TF-TRT Warning: Cannot dlopen some TensorRT libraries. If you would like to use Nvidia GPU with TensorRT, please make sure the missing libraries mentioned above are installed properly.\n"
     ]
    }
   ],
   "source": [
    "import torch\n",
    "from transformers import (\n",
    "    AutoModelForCausalLM,\n",
    "    LlamaTokenizerFast,\n",
    "    TrainingArguments,\n",
    "    Trainer,\n",
    "    BitsAndBytesConfig,\n",
    ")\n",
    "from peft import (\n",
    "    LoraConfig,\n",
    "    get_peft_model,\n",
    ")"
   ]
  },
  {
   "cell_type": "code",
   "execution_count": 2,
   "metadata": {},
   "outputs": [],
   "source": [
    "# https://huggingface.co/meta-llama/Llama-2-7b-hf\n",
    "# base_model = \"meta-llama/Llama-2-7b-hf\"\n",
    "base_model = \"meta-llama/Llama-2-7b-chat-hf\"\n",
    "# base_model=\"beomi/open-llama-2-ko-7b\"\n",
    "# base_model = \"huggingface-projects/llama-2-7b-chat\"\n",
    "# base_model = \"TinyPixel/Llama-2-7B-bf16-sharded\""
   ]
  },
  {
   "cell_type": "code",
   "execution_count": 3,
   "metadata": {},
   "outputs": [],
   "source": [
    "# # Fine-tuned model\n",
    "# new_model = \"llama-2-7b-hf-fine-tuned-test1\""
   ]
  },
  {
   "cell_type": "code",
   "execution_count": 3,
   "metadata": {},
   "outputs": [],
   "source": [
    "# QLoRA 모델을 사용하기 위한 설정\n",
    "\n",
    "bnb_config = BitsAndBytesConfig(\n",
    "    load_in_4bit=True,\n",
    "    bnb_4bit_use_double_quant=True,\n",
    "    bnb_4bit_quant_type=\"nf4\",\n",
    "    bnb_4bit_compute_dtype=torch.bfloat16 \n",
    ")\n",
    "\n"
   ]
  },
  {
   "cell_type": "code",
   "execution_count": 4,
   "metadata": {},
   "outputs": [
    {
     "data": {
      "application/vnd.jupyter.widget-view+json": {
       "model_id": "6abd30b36ca0413fbab0fa36fbc97a25",
       "version_major": 2,
       "version_minor": 0
      },
      "text/plain": [
       "Loading checkpoint shards:   0%|          | 0/2 [00:00<?, ?it/s]"
      ]
     },
     "metadata": {},
     "output_type": "display_data"
    }
   ],
   "source": [
    "# 라마2 모델 불러오기\n",
    "model = AutoModelForCausalLM.from_pretrained(\n",
    "    base_model,\n",
    "    quantization_config=bnb_config,\n",
    "    device_map=\"auto\",\n",
    ")\n",
    "model.config.use_cache = False\n",
    "model.config.pretraining_tp = 1"
   ]
  },
  {
   "cell_type": "code",
   "execution_count": 5,
   "metadata": {},
   "outputs": [],
   "source": [
    "# 토크나이저 로드\n",
    "import os\n",
    "os.environ[\"TOKENIZERS_PARALLELISM\"] = \"false\" # 토크나이저 병렬처리 방지(오류 방지)\n",
    "os.environ['TRANSFORMERS_NO_ADVISORY_WARNINGS'] = 'true' # __cell__ 오류 방지\n",
    "\n",
    "tokenizer = LlamaTokenizerFast.from_pretrained(\n",
    "    base_model,\n",
    "    trust_remote_code=True\n",
    ")\n",
    "tokenizer.pad_token = tokenizer.eos_token # 패딩 토큰을 문장의 끝으로 설정 </s>\n",
    "tokenizer.padding_side = \"right\" # 패딩을 문장 뒤에 추가"
   ]
  },
  {
   "cell_type": "code",
   "execution_count": 7,
   "metadata": {},
   "outputs": [],
   "source": [
    "# 학습 양식\n",
    "import json\n",
    "from datasets import load_dataset\n",
    "file_name = 'preprocess/dataset3/new_ratings_7.json'"
   ]
  },
  {
   "cell_type": "code",
   "execution_count": 8,
   "metadata": {},
   "outputs": [],
   "source": [
    "import json\n",
    "\n",
    "# JSON 파일 불러오기\n",
    "input_file = file_name\n",
    "with open(input_file, 'r') as f:\n",
    "    data = json.load(f)\n",
    "\n",
    "# 불러온 데이터 확인\n",
    "# print(data)"
   ]
  },
  {
   "cell_type": "code",
   "execution_count": 9,
   "metadata": {},
   "outputs": [
    {
     "name": "stdout",
     "output_type": "stream",
     "text": [
      "[{'title': 'Toy Story (1995)', 'rating': 4.0, 'imdbId': 'tt114709', 'timestamp': 964982703}, {'title': 'Grumpier Old Men (1995)', 'rating': 4.0, 'imdbId': 'tt113228', 'timestamp': 964981247}, {'title': 'Heat (1995)', 'rating': 4.0, 'imdbId': 'tt113277', 'timestamp': 964982224}, {'title': 'Seven (a.k.a. Se7en) (1995)', 'rating': 5.0, 'imdbId': 'tt114369', 'timestamp': 964983815}, {'title': 'Usual Suspects, The (1995)', 'rating': 5.0, 'imdbId': 'tt114814', 'timestamp': 964982931}, {'title': 'From Dusk Till Dawn (1996)', 'rating': 3.0, 'imdbId': 'tt116367', 'timestamp': 964982400}, {'title': 'Bottle Rocket (1996)', 'rating': 5.0, 'imdbId': 'tt115734', 'timestamp': 964980868}, {'title': 'Braveheart (1995)', 'rating': 4.0, 'imdbId': 'tt112573', 'timestamp': 964982176}, {'title': 'Rob Roy (1995)', 'rating': 5.0, 'imdbId': 'tt114287', 'timestamp': 964984041}, {'title': 'Canadian Bacon (1995)', 'rating': 5.0, 'imdbId': 'tt109370', 'timestamp': 964984100}]\n",
      "<class 'list'>\n",
      "{'title': 'Toy Story (1995)', 'rating': 4.0, 'imdbId': 'tt114709', 'timestamp': 964982703}\n",
      "<class 'dict'>\n",
      "[{'title': 'Canadian Bacon (1995)'}, {'title': 'Rob Roy (1995)'}, {'title': 'Seven (a.k.a. Se7en) (1995)'}, {'title': 'Usual Suspects, The (1995)'}, {'title': 'Bottle Rocket (1996)'}, {'title': 'Toy Story (1995)'}, {'title': 'Heat (1995)'}, {'title': 'Braveheart (1995)'}, {'title': 'Grumpier Old Men (1995)'}, {'title': 'From Dusk Till Dawn (1996)'}]\n"
     ]
    }
   ],
   "source": [
    "# print(data[1])\n",
    "\n",
    "print(data[0][\"ratings\"]) # 영화 평점들 정보 모음\n",
    "print(type(data[0][\"ratings\"])) \n",
    "\n",
    "print(data[0][\"ratings\"][0]) # 평점 1개\n",
    "print(type(data[0][\"ratings\"][0])) \n",
    "print(data[0][\"rank\"])"
   ]
  },
  {
   "cell_type": "code",
   "execution_count": 10,
   "metadata": {},
   "outputs": [],
   "source": [
    "instruction = '''\n",
    "I will sort the movie list in descending order based on user rating information. I will show the title for the corresponding movie. It must return in JSON format.\n",
    "'''"
   ]
  },
  {
   "cell_type": "code",
   "execution_count": 11,
   "metadata": {},
   "outputs": [],
   "source": [
    "# 데이터 매핑 함수 정의\n",
    "def map_data_to_format(example):\n",
    "\n",
    "    user_ratings_str = json.dumps(example['ratings'], ensure_ascii=False)\n",
    "    rank_list_str = json.dumps(example[\"rank\"], ensure_ascii=False)\n",
    "    \n",
    "    text = (\n",
    "        f\"###instruction:\\n{instruction}\\n\\n\"\n",
    "        f\"user_rating_information:\\n{user_ratings_str}\\n\\n\"\n",
    "        f\"###response:\\n{rank_list_str}\\n\\n\"\n",
    "    )\n",
    "    \n",
    "    # completion은 모델이 생성해야 할 예상 출력을 포함함\n",
    "    # 여기서는 우선순위에 따라 정렬된 영화 imdb_id의 리스트를 반환합니다.\n",
    "    completion = f\"{{\\\"rank\\\": {rank_list_str}}}\"\n",
    "    \n",
    "    return {'text': text, 'completion': completion}"
   ]
  },
  {
   "cell_type": "code",
   "execution_count": 12,
   "metadata": {},
   "outputs": [
    {
     "data": {
      "application/vnd.jupyter.widget-view+json": {
       "model_id": "715a1ad9ab244d379d12b9925d3641f2",
       "version_major": 2,
       "version_minor": 0
      },
      "text/plain": [
       "Downloading data files:   0%|          | 0/1 [00:00<?, ?it/s]"
      ]
     },
     "metadata": {},
     "output_type": "display_data"
    },
    {
     "data": {
      "application/vnd.jupyter.widget-view+json": {
       "model_id": "a35b4b386b734ce3a2e60a8b8caadb30",
       "version_major": 2,
       "version_minor": 0
      },
      "text/plain": [
       "Extracting data files:   0%|          | 0/1 [00:00<?, ?it/s]"
      ]
     },
     "metadata": {},
     "output_type": "display_data"
    },
    {
     "data": {
      "application/vnd.jupyter.widget-view+json": {
       "model_id": "ac081bde630b42b88fa861cacd112262",
       "version_major": 2,
       "version_minor": 0
      },
      "text/plain": [
       "Generating train split: 0 examples [00:00, ? examples/s]"
      ]
     },
     "metadata": {},
     "output_type": "display_data"
    }
   ],
   "source": [
    "# 데이터셋 로드\n",
    "data = load_dataset('json', data_files=file_name, split=\"train\")"
   ]
  },
  {
   "cell_type": "code",
   "execution_count": 13,
   "metadata": {},
   "outputs": [
    {
     "name": "stdout",
     "output_type": "stream",
     "text": [
      "Dataset({\n",
      "    features: ['rank', 'userId', 'ratings'],\n",
      "    num_rows: 2000\n",
      "})\n"
     ]
    }
   ],
   "source": [
    "print(data)"
   ]
  },
  {
   "cell_type": "code",
   "execution_count": 15,
   "metadata": {},
   "outputs": [],
   "source": [
    "# print(data['ratings'])\n"
   ]
  },
  {
   "cell_type": "code",
   "execution_count": 16,
   "metadata": {},
   "outputs": [],
   "source": [
    "# print(data['order']) # [['tt109370', 'tt114287', 'tt114369', 'tt114814', 'tt115734', 'tt114709', 'tt113277', 'tt112573', 'tt113228', 'tt116367'], ...]"
   ]
  },
  {
   "cell_type": "code",
   "execution_count": 17,
   "metadata": {},
   "outputs": [],
   "source": [
    "# print(data['userId']) # [1, 2, 3, 4, 5, 6, 7, 8, 9, 10, ...]"
   ]
  },
  {
   "cell_type": "code",
   "execution_count": 14,
   "metadata": {},
   "outputs": [
    {
     "data": {
      "application/vnd.jupyter.widget-view+json": {
       "model_id": "04ab7a6f1a974b99a249f648dc09b1bc",
       "version_major": 2,
       "version_minor": 0
      },
      "text/plain": [
       "Map:   0%|          | 0/2000 [00:00<?, ? examples/s]"
      ]
     },
     "metadata": {},
     "output_type": "display_data"
    }
   ],
   "source": [
    "# 데이터 매핑 적용\n",
    "mapped_data = data.map(map_data_to_format)"
   ]
  },
  {
   "cell_type": "code",
   "execution_count": 15,
   "metadata": {},
   "outputs": [
    {
     "name": "stdout",
     "output_type": "stream",
     "text": [
      "Dataset({\n",
      "    features: ['rank', 'userId', 'ratings', 'text', 'completion'],\n",
      "    num_rows: 2000\n",
      "})\n"
     ]
    }
   ],
   "source": [
    "print(mapped_data)\n"
   ]
  },
  {
   "cell_type": "code",
   "execution_count": 16,
   "metadata": {},
   "outputs": [
    {
     "data": {
      "application/vnd.jupyter.widget-view+json": {
       "model_id": "3c239db9ef154af995b358d846d83bc4",
       "version_major": 2,
       "version_minor": 0
      },
      "text/plain": [
       "Map:   0%|          | 0/1800 [00:00<?, ? examples/s]"
      ]
     },
     "metadata": {},
     "output_type": "display_data"
    },
    {
     "name": "stderr",
     "output_type": "stream",
     "text": [
      "Asking to truncate to max_length but no maximum length is provided and the model has no predefined maximum length. Default to no truncation.\n"
     ]
    },
    {
     "data": {
      "application/vnd.jupyter.widget-view+json": {
       "model_id": "d6202a067c3d4736992f1453231cb44a",
       "version_major": 2,
       "version_minor": 0
      },
      "text/plain": [
       "Map:   0%|          | 0/200 [00:00<?, ? examples/s]"
      ]
     },
     "metadata": {},
     "output_type": "display_data"
    }
   ],
   "source": [
    "# 데이터셋 분할\n",
    "split_data = mapped_data.train_test_split(test_size=0.1)  # 10%를 테스트셋으로 사용\n",
    "\n",
    "train_set = split_data['train']\n",
    "eval_set = split_data['test']\n",
    "\n",
    "train_set = train_set.map(lambda samples: tokenizer(samples[\"text\"], padding=True, truncation=True, return_tensors=\"pt\"), batched=True)\n",
    "eval_set = eval_set.map(lambda samples: tokenizer(samples[\"text\"], padding=True, truncation=True, return_tensors=\"pt\"), batched=True)\n",
    "\n",
    "# lora 파라미터 설정\n",
    "peft_params = LoraConfig(\n",
    "    lora_alpha=16,\n",
    "    lora_dropout=0.1,\n",
    "    r=64,\n",
    "    bias=\"none\",\n",
    "    task_type=\"CAUSAL_LM\",\n",
    ")\n"
   ]
  },
  {
   "cell_type": "code",
   "execution_count": 17,
   "metadata": {},
   "outputs": [
    {
     "data": {
      "text/plain": [
       "Dataset({\n",
       "    features: ['rank', 'userId', 'ratings', 'text', 'completion', 'input_ids', 'attention_mask'],\n",
       "    num_rows: 1800\n",
       "})"
      ]
     },
     "execution_count": 17,
     "metadata": {},
     "output_type": "execute_result"
    }
   ],
   "source": [
    "train_set"
   ]
  },
  {
   "cell_type": "code",
   "execution_count": 18,
   "metadata": {},
   "outputs": [
    {
     "name": "stdout",
     "output_type": "stream",
     "text": [
      "###instruction:\n",
      "\n",
      "I will sort the movie list in descending order based on user rating information. I will show the title for the corresponding movie. It must return in JSON format.\n",
      "\n",
      "\n",
      "user_rating_information:\n",
      "[{\"imdbId\": \"tt427152\", \"rating\": 3.0, \"timestamp\": 1516155080, \"title\": \"Dinner for Schmucks (2010)\"}, {\"imdbId\": \"tt1386588\", \"rating\": 3.0, \"timestamp\": 1516141839, \"title\": \"Other Guys, The (2010)\"}, {\"imdbId\": \"tt446029\", \"rating\": 3.5, \"timestamp\": 1516141083, \"title\": \"Scott Pilgrim vs. the World (2010)\"}, {\"imdbId\": \"tt1117523\", \"rating\": 5.0, \"timestamp\": 1516153440, \"title\": \"Jackass 2.5 (2007)\"}, {\"imdbId\": \"tt889573\", \"rating\": 3.0, \"timestamp\": 1516152708, \"title\": \"Switch, The (2010)\"}, {\"imdbId\": \"tt1285016\", \"rating\": 3.5, \"timestamp\": 1516140981, \"title\": \"Social Network, The (2010)\"}, {\"imdbId\": \"tt840361\", \"rating\": 3.0, \"timestamp\": 1516140726, \"title\": \"Town, The (2010)\"}, {\"imdbId\": \"tt1116184\", \"rating\": 5.0, \"timestamp\": 1516153068, \"title\": \"Jackass 3D (2010)\"}, {\"imdbId\": \"tt1245526\", \"rating\": 4.0, \"timestamp\": 1516141256, \"title\": \"Red (2010)\"}, {\"imdbId\": \"tt1231583\", \"rating\": 3.5, \"timestamp\": 1516151406, \"title\": \"Due Date (2010)\"}]\n",
      "\n",
      "###response:\n",
      "[{\"title\": \"Jackass 2.5 (2007)\"}, {\"title\": \"Jackass 3D (2010)\"}, {\"title\": \"Red (2010)\"}, {\"title\": \"Due Date (2010)\"}, {\"title\": \"Scott Pilgrim vs. the World (2010)\"}, {\"title\": \"Social Network, The (2010)\"}, {\"title\": \"Dinner for Schmucks (2010)\"}, {\"title\": \"Switch, The (2010)\"}, {\"title\": \"Other Guys, The (2010)\"}, {\"title\": \"Town, The (2010)\"}]\n",
      "\n",
      "\n",
      "\n",
      "\n",
      "<class 'str'>\n",
      "\n",
      "\n",
      "###instruction:\n",
      "\n",
      "I will sort the movie list in descending order based on user rating information. I will show the title for the corresponding movie. It must return in JSON format.\n",
      "\n",
      "\n",
      "user_rating_information:\n",
      "[{\"imdbId\": \"tt1276104\", \"rating\": 4.0, \"timestamp\": 1521489192, \"title\": \"Looper (2012)\"}, {\"imdbId\": \"tt1659337\", \"rating\": 5.0, \"timestamp\": 1521488950, \"title\": \"Perks of Being a Wallflower, The (2012)\"}, {\"imdbId\": \"tt2106476\", \"rating\": 4.0, \"timestamp\": 1523788902, \"title\": \"Hunt, The (Jagten) (2012)\"}, {\"imdbId\": \"tt1397280\", \"rating\": 3.5, \"timestamp\": 1529611221, \"title\": \"Taken 2 (2012)\"}, {\"imdbId\": \"tt1045658\", \"rating\": 4.0, \"timestamp\": 1521489732, \"title\": \"Silver Linings Playbook (2012)\"}, {\"imdbId\": \"tt454876\", \"rating\": 4.5, \"timestamp\": 1521489658, \"title\": \"Life of Pi (2012)\"}, {\"imdbId\": \"tt903624\", \"rating\": 4.5, \"timestamp\": 1521489734, \"title\": \"Hobbit: An Unexpected Journey, The (2012)\"}, {\"imdbId\": \"tt1853728\", \"rating\": 5.0, \"timestamp\": 1521488759, \"title\": \"Django Unchained (2012)\"}, {\"imdbId\": \"tt1707386\", \"rating\": 4.0, \"timestamp\": 1524172811, \"title\": \"Misérables, Les (2012)\"}, {\"imdbId\": \"tt1483013\", \"rating\": 4.0, \"timestamp\": 1522533578, \"title\": \"Oblivion (2013)\"}]\n",
      "\n",
      "###response:\n",
      "[{\"title\": \"Perks of Being a Wallflower, The (2012)\"}, {\"title\": \"Django Unchained (2012)\"}, {\"title\": \"Hobbit: An Unexpected Journey, The (2012)\"}, {\"title\": \"Life of Pi (2012)\"}, {\"title\": \"Misérables, Les (2012)\"}, {\"title\": \"Hunt, The (Jagten) (2012)\"}, {\"title\": \"Oblivion (2013)\"}, {\"title\": \"Silver Linings Playbook (2012)\"}, {\"title\": \"Looper (2012)\"}, {\"title\": \"Taken 2 (2012)\"}]\n",
      "\n",
      "\n"
     ]
    }
   ],
   "source": [
    "print(train_set[3][\"text\"])\n",
    "print(\"\\n\")\n",
    "print(type(train_set[3][\"text\"]))\n",
    "print(\"\\n\")\n",
    "# print(train_set[20][\"text\"])\n",
    "print(train_set[79][\"text\"])"
   ]
  },
  {
   "cell_type": "code",
   "execution_count": 19,
   "metadata": {},
   "outputs": [
    {
     "name": "stdout",
     "output_type": "stream",
     "text": [
      "###instruction:\n",
      "\n",
      "I will sort the movie list in descending order based on user rating information. I will show the title for the corresponding movie. It must return in JSON format.\n",
      "\n",
      "\n",
      "user_rating_information:\n",
      "[{\"imdbId\": \"tt112792\", \"rating\": 4.0, \"timestamp\": 832059371, \"title\": \"Dangerous Minds (1995)\"}, {\"imdbId\": \"tt112431\", \"rating\": 5.0, \"timestamp\": 832059080, \"title\": \"Babe (1995)\"}, {\"imdbId\": \"tt113855\", \"rating\": 3.0, \"timestamp\": 832059393, \"title\": \"Mortal Kombat (1995)\"}, {\"imdbId\": \"tt113347\", \"rating\": 4.0, \"timestamp\": 832059892, \"title\": \"How to Make an American Quilt (1995)\"}, {\"imdbId\": \"tt114148\", \"rating\": 2.0, \"timestamp\": 832059371, \"title\": \"Pocahontas (1995)\"}, {\"imdbId\": \"tt113419\", \"rating\": 4.0, \"timestamp\": 832059509, \"title\": \"Indian in the Cupboard, The (1995)\"}, {\"imdbId\": \"tt113862\", \"rating\": 5.0, \"timestamp\": 832059339, \"title\": \"Mr. Holland's Opus (1995)\"}, {\"imdbId\": \"tt112379\", \"rating\": 5.0, \"timestamp\": 832060151, \"title\": \"Antonia's Line (Antonia) (1995)\"}, {\"imdbId\": \"tt116483\", \"rating\": 1.0, \"timestamp\": 832059697, \"title\": \"Happy Gilmore (1996)\"}, {\"imdbId\": \"tt117110\", \"rating\": 4.0, \"timestamp\": 832059716, \"title\": \"Muppet Treasure Island (1996)\"}]\n",
      "\n",
      "###response:\n",
      "[{\"title\": \"Antonia's Line (Antonia) (1995)\"}, {\"title\": \"Mr. Holland's Opus (1995)\"}, {\"title\": \"Babe (1995)\"}, {\"title\": \"How to Make an American Quilt (1995)\"}, {\"title\": \"Muppet Treasure Island (1996)\"}, {\"title\": \"Indian in the Cupboard, The (1995)\"}, {\"title\": \"Dangerous Minds (1995)\"}, {\"title\": \"Mortal Kombat (1995)\"}, {\"title\": \"Pocahontas (1995)\"}, {\"title\": \"Happy Gilmore (1996)\"}]\n",
      "\n",
      "\n",
      "###instruction:\n",
      "\n",
      "I will sort the movie list in descending order based on user rating information. I will show the title for the corresponding movie. It must return in JSON format.\n",
      "\n",
      "\n",
      "user_rating_information:\n",
      "[{\"imdbId\": \"tt110912\", \"rating\": 4.5, \"timestamp\": 1217324757, \"title\": \"Pulp Fiction (1994)\"}, {\"imdbId\": \"tt111161\", \"rating\": 5.0, \"timestamp\": 1217324771, \"title\": \"Shawshank Redemption, The (1994)\"}, {\"imdbId\": \"tt109040\", \"rating\": 3.5, \"timestamp\": 1217324835, \"title\": \"Ace Ventura: Pet Detective (1994)\"}, {\"imdbId\": \"tt109830\", \"rating\": 4.0, \"timestamp\": 1217324762, \"title\": \"Forrest Gump (1994)\"}, {\"imdbId\": \"tt111257\", \"rating\": 3.5, \"timestamp\": 1217324831, \"title\": \"Speed (1994)\"}, {\"imdbId\": \"tt106977\", \"rating\": 4.5, \"timestamp\": 1217324789, \"title\": \"Fugitive, The (1993)\"}, {\"imdbId\": \"tt108052\", \"rating\": 4.5, \"timestamp\": 1217324706, \"title\": \"Schindler's List (1993)\"}, {\"imdbId\": \"tt103064\", \"rating\": 4.5, \"timestamp\": 1217324801, \"title\": \"Terminator 2: Judgment Day (1991)\"}, {\"imdbId\": \"tt99348\", \"rating\": 4.0, \"timestamp\": 1217324799, \"title\": \"Dances with Wolves (1990)\"}, {\"imdbId\": \"tt102926\", \"rating\": 4.5, \"timestamp\": 1217324766, \"title\": \"Silence of the Lambs, The (1991)\"}]\n",
      "\n",
      "###response:\n",
      "[{\"title\": \"Shawshank Redemption, The (1994)\"}, {\"title\": \"Terminator 2: Judgment Day (1991)\"}, {\"title\": \"Fugitive, The (1993)\"}, {\"title\": \"Silence of the Lambs, The (1991)\"}, {\"title\": \"Pulp Fiction (1994)\"}, {\"title\": \"Schindler's List (1993)\"}, {\"title\": \"Dances with Wolves (1990)\"}, {\"title\": \"Forrest Gump (1994)\"}, {\"title\": \"Ace Ventura: Pet Detective (1994)\"}, {\"title\": \"Speed (1994)\"}]\n",
      "\n",
      "\n"
     ]
    }
   ],
   "source": [
    "print(eval_set[3][\"text\"])\n",
    "# print(eval_set[20][\"text\"])\n",
    "print(eval_set[9][\"text\"])\n"
   ]
  },
  {
   "cell_type": "code",
   "execution_count": 20,
   "metadata": {},
   "outputs": [
    {
     "name": "stdout",
     "output_type": "stream",
     "text": [
      "###instruction:\n",
      "\n",
      "I will sort the movie list in descending order based on user rating information. I will show the title for the corresponding movie. It must return in JSON format.\n",
      "\n",
      "\n",
      "user_rating_information:\n",
      "[{\"imdbId\": \"tt465430\", \"rating\": 5.0, \"timestamp\": 1520409461, \"title\": \"Cottage, The (2008)\"}, {\"imdbId\": \"tt1155056\", \"rating\": 2.5, \"timestamp\": 1520408916, \"title\": \"I Love You, Man (2009)\"}, {\"imdbId\": \"tt26676\", \"rating\": 4.5, \"timestamp\": 1520409094, \"title\": \"Man on the Flying Trapeze (1935)\"}, {\"imdbId\": \"tt489049\", \"rating\": 2.0, \"timestamp\": 1520408893, \"title\": \"Fanboys (2009)\"}, {\"imdbId\": \"tt1078912\", \"rating\": 4.0, \"timestamp\": 1520408807, \"title\": \"Night at the Museum: Battle of the Smithsonian (2009)\"}, {\"imdbId\": \"tt1119646\", \"rating\": 3.5, \"timestamp\": 1520408816, \"title\": \"Hangover, The (2009)\"}, {\"imdbId\": \"tt415679\", \"rating\": 5.0, \"timestamp\": 1520409113, \"title\": \"Boy Eats Girl (2005)\"}, {\"imdbId\": \"tt780567\", \"rating\": 4.0, \"timestamp\": 1520408934, \"title\": \"Imagine That (2009)\"}, {\"imdbId\": \"tt1041829\", \"rating\": 3.0, \"timestamp\": 1520408463, \"title\": \"Proposal, The (2009)\"}, {\"imdbId\": \"tt1389762\", \"rating\": 5.0, \"timestamp\": 1520408920, \"title\": \"Garfield's Pet Force (2009)\"}]\n",
      "\n",
      "###response:\n",
      "[{\"title\": \"Cottage, The (2008)\"}, {\"title\": \"Boy Eats Girl (2005)\"}, {\"title\": \"Garfield's Pet Force (2009)\"}, {\"title\": \"Man on the Flying Trapeze (1935)\"}, {\"title\": \"Imagine That (2009)\"}, {\"title\": \"Night at the Museum: Battle of the Smithsonian (2009)\"}, {\"title\": \"Hangover, The (2009)\"}, {\"title\": \"Proposal, The (2009)\"}, {\"title\": \"I Love You, Man (2009)\"}, {\"title\": \"Fanboys (2009)\"}]\n",
      "\n",
      "\n",
      "###instruction:\n",
      "\n",
      "I will sort the movie list in descending order based on user rating information. I will show the title for the corresponding movie. It must return in JSON format.\n",
      "\n",
      "\n",
      "user_rating_information:\n",
      "[{\"imdbId\": \"tt138704\", \"rating\": 4.5, \"timestamp\": 1431957966, \"title\": \"Pi (1998)\"}, {\"imdbId\": \"tt47296\", \"rating\": 4.0, \"timestamp\": 1522172361, \"title\": \"On the Waterfront (1954)\"}, {\"imdbId\": \"tt75148\", \"rating\": 5.0, \"timestamp\": 1431957501, \"title\": \"Rocky (1976)\"}, {\"imdbId\": \"tt95953\", \"rating\": 5.0, \"timestamp\": 1440773613, \"title\": \"Rain Man (1988)\"}, {\"imdbId\": \"tt88847\", \"rating\": 4.0, \"timestamp\": 1431957248, \"title\": \"Breakfast Club, The (1985)\"}, {\"imdbId\": \"tt84516\", \"rating\": 4.0, \"timestamp\": 1431957928, \"title\": \"Poltergeist (1982)\"}, {\"imdbId\": \"tt120746\", \"rating\": 3.5, \"timestamp\": 1431957566, \"title\": \"Mask of Zorro, The (1998)\"}, {\"imdbId\": \"tt34492\", \"rating\": 3.5, \"timestamp\": 1522172366, \"title\": \"Bambi (1942)\"}, {\"imdbId\": \"tt120815\", \"rating\": 4.0, \"timestamp\": 1431957058, \"title\": \"Saving Private Ryan (1998)\"}, {\"imdbId\": \"tt97523\", \"rating\": 3.5, \"timestamp\": 1431957358, \"title\": \"Honey, I Shrunk the Kids (1989)\"}]\n",
      "\n",
      "###response:\n",
      "[{\"title\": \"Rain Man (1988)\"}, {\"title\": \"Rocky (1976)\"}, {\"title\": \"Pi (1998)\"}, {\"title\": \"On the Waterfront (1954)\"}, {\"title\": \"Poltergeist (1982)\"}, {\"title\": \"Breakfast Club, The (1985)\"}, {\"title\": \"Saving Private Ryan (1998)\"}, {\"title\": \"Bambi (1942)\"}, {\"title\": \"Mask of Zorro, The (1998)\"}, {\"title\": \"Honey, I Shrunk the Kids (1989)\"}]\n",
      "\n",
      "\n",
      "###instruction:\n",
      "\n",
      "I will sort the movie list in descending order based on user rating information. I will show the title for the corresponding movie. It must return in JSON format.\n",
      "\n",
      "\n",
      "user_rating_information:\n",
      "[{\"imdbId\": \"tt145660\", \"rating\": 3.0, \"timestamp\": 1443201238, \"title\": \"Austin Powers: The Spy Who Shagged Me (1999)\"}, {\"imdbId\": \"tt130827\", \"rating\": 4.5, \"timestamp\": 1443200946, \"title\": \"Run Lola Run (Lola rennt) (1998)\"}, {\"imdbId\": \"tt87332\", \"rating\": 5.0, \"timestamp\": 1443201173, \"title\": \"Ghostbusters (a.k.a. Ghost Busters) (1984)\"}, {\"imdbId\": \"tt66765\", \"rating\": 5.0, \"timestamp\": 1443201032, \"title\": \"Monty Python's And Now for Something Completely Different (1971)\"}, {\"imdbId\": \"tt80339\", \"rating\": 4.0, \"timestamp\": 1443200129, \"title\": \"Airplane! (1980)\"}, {\"imdbId\": \"tt169547\", \"rating\": 5.0, \"timestamp\": 1443199797, \"title\": \"American Beauty (1999)\"}, {\"imdbId\": \"tt91042\", \"rating\": 3.5, \"timestamp\": 1443201007, \"title\": \"Ferris Bueller's Day Off (1986)\"}, {\"imdbId\": \"tt137523\", \"rating\": 5.0, \"timestamp\": 1443200442, \"title\": \"Fight Club (1999)\"}, {\"imdbId\": \"tt120601\", \"rating\": 3.0, \"timestamp\": 1443199921, \"title\": \"Being John Malkovich (1999)\"}, {\"imdbId\": \"tt119698\", \"rating\": 3.5, \"timestamp\": 1443200472, \"title\": \"Princess Mononoke (Mononoke-hime) (1997)\"}]\n",
      "\n",
      "###response:\n",
      "[{\"title\": \"Ghostbusters (a.k.a. Ghost Busters) (1984)\"}, {\"title\": \"Monty Python's And Now for Something Completely Different (1971)\"}, {\"title\": \"Fight Club (1999)\"}, {\"title\": \"American Beauty (1999)\"}, {\"title\": \"Run Lola Run (Lola rennt) (1998)\"}, {\"title\": \"Airplane! (1980)\"}, {\"title\": \"Ferris Bueller's Day Off (1986)\"}, {\"title\": \"Princess Mononoke (Mononoke-hime) (1997)\"}, {\"title\": \"Austin Powers: The Spy Who Shagged Me (1999)\"}, {\"title\": \"Being John Malkovich (1999)\"}]\n",
      "\n",
      "\n"
     ]
    }
   ],
   "source": [
    "print(eval_set[90][\"text\"])\n",
    "print(eval_set[50][\"text\"])\n",
    "print(eval_set[12][\"text\"])"
   ]
  },
  {
   "cell_type": "code",
   "execution_count": 21,
   "metadata": {},
   "outputs": [
    {
     "name": "stdout",
     "output_type": "stream",
     "text": [
      "{\"rank\": [{\"title\": \"Jackass 2.5 (2007)\"}, {\"title\": \"Jackass 3D (2010)\"}, {\"title\": \"Red (2010)\"}, {\"title\": \"Due Date (2010)\"}, {\"title\": \"Scott Pilgrim vs. the World (2010)\"}, {\"title\": \"Social Network, The (2010)\"}, {\"title\": \"Dinner for Schmucks (2010)\"}, {\"title\": \"Switch, The (2010)\"}, {\"title\": \"Other Guys, The (2010)\"}, {\"title\": \"Town, The (2010)\"}]}\n",
      "{\"rank\": [{\"title\": \"Perks of Being a Wallflower, The (2012)\"}, {\"title\": \"Django Unchained (2012)\"}, {\"title\": \"Hobbit: An Unexpected Journey, The (2012)\"}, {\"title\": \"Life of Pi (2012)\"}, {\"title\": \"Misérables, Les (2012)\"}, {\"title\": \"Hunt, The (Jagten) (2012)\"}, {\"title\": \"Oblivion (2013)\"}, {\"title\": \"Silver Linings Playbook (2012)\"}, {\"title\": \"Looper (2012)\"}, {\"title\": \"Taken 2 (2012)\"}]}\n"
     ]
    }
   ],
   "source": [
    "print(train_set[3][\"completion\"])\n",
    "# print(train_set[20][\"completion\"])\n",
    "print(train_set[79][\"completion\"])"
   ]
  },
  {
   "cell_type": "code",
   "execution_count": 23,
   "metadata": {},
   "outputs": [],
   "source": [
    "model = get_peft_model(model, peft_params)\n",
    "\n",
    "# prameter\n",
    "epochs = 1 # 10\n",
    "batch_size = 1\n",
    "lr = 2e-4\n",
    "\n",
    "training_params = TrainingArguments(\n",
    "    output_dir=\"models7\",\n",
    "    num_train_epochs=epochs,\n",
    "    per_device_train_batch_size=batch_size,\n",
    "    gradient_accumulation_steps=16,\n",
    "    optim=\"adamw_torch\",\n",
    "    save_strategy=\"epoch\",\n",
    "    evaluation_strategy=\"steps\",\n",
    "    logging_strategy=\"steps\",\n",
    "    eval_steps=20,\n",
    "    logging_steps=20,\n",
    "    learning_rate=lr,\n",
    "    weight_decay=0.001,\n",
    "    fp16=False,\n",
    "    bf16=False,\n",
    "    max_grad_norm=0.3,\n",
    "    max_steps=-1,\n",
    "    warmup_ratio=0.03,\n",
    "    group_by_length=True,\n",
    "    lr_scheduler_type=\"cosine\",\n",
    "    report_to=\"tensorboard\",\n",
    "    dataloader_num_workers=1,\n",
    ")\n"
   ]
  },
  {
   "cell_type": "code",
   "execution_count": 80,
   "metadata": {},
   "outputs": [],
   "source": [
    "# ! wandb login --relogin\n",
    "# torch.cuda.empty_cache()\n",
    "# import gc\n",
    "# gc.collect()\n",
    "# import gc\n",
    "# torch.cuda.empty_cache()\n",
    "# gc.collect()"
   ]
  },
  {
   "cell_type": "code",
   "execution_count": 24,
   "metadata": {},
   "outputs": [
    {
     "name": "stderr",
     "output_type": "stream",
     "text": [
      "/home/gpuadmin/anaconda3/envs/llm_test/lib/python3.8/site-packages/accelerate/accelerator.py:436: FutureWarning: Passing the following arguments to `Accelerator` is deprecated and will be removed in version 1.0 of Accelerate: dict_keys(['dispatch_batches', 'split_batches', 'even_batches', 'use_seedable_sampler']). Please pass an `accelerate.DataLoaderConfiguration` instead: \n",
      "dataloader_config = DataLoaderConfiguration(dispatch_batches=None, split_batches=False, even_batches=True, use_seedable_sampler=True)\n",
      "  warnings.warn(\n"
     ]
    },
    {
     "data": {
      "application/vnd.jupyter.widget-view+json": {
       "model_id": "c5207e07567b49b284efdd0cafaca976",
       "version_major": 2,
       "version_minor": 0
      },
      "text/plain": [
       "  0%|          | 0/112 [00:00<?, ?it/s]"
      ]
     },
     "metadata": {},
     "output_type": "display_data"
    },
    {
     "name": "stdout",
     "output_type": "stream",
     "text": [
      "{'loss': 0.79, 'grad_norm': 0.059538308531045914, 'learning_rate': 0.00018936326403234125, 'epoch': 0.18}\n"
     ]
    },
    {
     "data": {
      "application/vnd.jupyter.widget-view+json": {
       "model_id": "2379e336988c485cb209e617a3d5f83d",
       "version_major": 2,
       "version_minor": 0
      },
      "text/plain": [
       "  0%|          | 0/25 [00:00<?, ?it/s]"
      ]
     },
     "metadata": {},
     "output_type": "display_data"
    },
    {
     "name": "stdout",
     "output_type": "stream",
     "text": [
      "{'eval_loss': 0.6115174889564514, 'eval_runtime': 48.6369, 'eval_samples_per_second': 4.112, 'eval_steps_per_second': 0.514, 'epoch': 0.18}\n",
      "{'loss': 0.5356, 'grad_norm': 0.05809849128127098, 'learning_rate': 0.00015000000000000001, 'epoch': 0.36}\n"
     ]
    },
    {
     "data": {
      "application/vnd.jupyter.widget-view+json": {
       "model_id": "74fd4190257648aa9a7cd2f5ddee94fe",
       "version_major": 2,
       "version_minor": 0
      },
      "text/plain": [
       "  0%|          | 0/25 [00:00<?, ?it/s]"
      ]
     },
     "metadata": {},
     "output_type": "display_data"
    },
    {
     "name": "stdout",
     "output_type": "stream",
     "text": [
      "{'eval_loss': 0.49864256381988525, 'eval_runtime': 48.4783, 'eval_samples_per_second': 4.126, 'eval_steps_per_second': 0.516, 'epoch': 0.36}\n",
      "{'loss': 0.4872, 'grad_norm': 0.08045662194490433, 'learning_rate': 9.418551710895243e-05, 'epoch': 0.53}\n"
     ]
    },
    {
     "data": {
      "application/vnd.jupyter.widget-view+json": {
       "model_id": "be1b5b9fa4ab4bb7b7ede8cb3e289786",
       "version_major": 2,
       "version_minor": 0
      },
      "text/plain": [
       "  0%|          | 0/25 [00:00<?, ?it/s]"
      ]
     },
     "metadata": {},
     "output_type": "display_data"
    },
    {
     "name": "stdout",
     "output_type": "stream",
     "text": [
      "{'eval_loss': 0.4929836690425873, 'eval_runtime': 48.5549, 'eval_samples_per_second': 4.119, 'eval_steps_per_second': 0.515, 'epoch': 0.53}\n",
      "{'loss': 0.4937, 'grad_norm': 0.12181545048952103, 'learning_rate': 4.028414082972141e-05, 'epoch': 0.71}\n"
     ]
    },
    {
     "data": {
      "application/vnd.jupyter.widget-view+json": {
       "model_id": "1df7c4d136cf43f68f466a508ea946d7",
       "version_major": 2,
       "version_minor": 0
      },
      "text/plain": [
       "  0%|          | 0/25 [00:00<?, ?it/s]"
      ]
     },
     "metadata": {},
     "output_type": "display_data"
    },
    {
     "name": "stdout",
     "output_type": "stream",
     "text": [
      "{'eval_loss': 0.4955301284790039, 'eval_runtime': 48.8222, 'eval_samples_per_second': 4.096, 'eval_steps_per_second': 0.512, 'epoch': 0.71}\n",
      "{'loss': 0.4892, 'grad_norm': 0.1044938787817955, 'learning_rate': 6.030737921409169e-06, 'epoch': 0.89}\n"
     ]
    },
    {
     "data": {
      "application/vnd.jupyter.widget-view+json": {
       "model_id": "889950e974474a7fbe61195098581b01",
       "version_major": 2,
       "version_minor": 0
      },
      "text/plain": [
       "  0%|          | 0/25 [00:00<?, ?it/s]"
      ]
     },
     "metadata": {},
     "output_type": "display_data"
    },
    {
     "name": "stdout",
     "output_type": "stream",
     "text": [
      "{'eval_loss': 0.4941518306732178, 'eval_runtime': 48.5707, 'eval_samples_per_second': 4.118, 'eval_steps_per_second': 0.515, 'epoch': 0.89}\n",
      "{'train_runtime': 2123.5741, 'train_samples_per_second': 0.848, 'train_steps_per_second': 0.053, 'train_loss': 0.5520987042358944, 'epoch': 1.0}\n"
     ]
    },
    {
     "data": {
      "text/plain": [
       "TrainOutput(global_step=112, training_loss=0.5520987042358944, metrics={'train_runtime': 2123.5741, 'train_samples_per_second': 0.848, 'train_steps_per_second': 0.053, 'train_loss': 0.5520987042358944, 'epoch': 1.0})"
      ]
     },
     "execution_count": 24,
     "metadata": {},
     "output_type": "execute_result"
    }
   ],
   "source": [
    "import transformers\n",
    "import warnings\n",
    "warnings.filterwarnings(\"ignore\", category=UserWarning)\n",
    "\n",
    "trainer = Trainer(\n",
    "    model=model,\n",
    "    args=training_params,\n",
    "    train_dataset=train_set,\n",
    "    eval_dataset=eval_set,\n",
    "    tokenizer=tokenizer,\n",
    "    data_collator=transformers.DataCollatorForLanguageModeling(tokenizer, mlm=False),\n",
    ")\n",
    "\n",
    "trainer.train()"
   ]
  },
  {
   "cell_type": "code",
   "execution_count": 25,
   "metadata": {},
   "outputs": [
    {
     "data": {
      "text/plain": [
       "Launching TensorBoard..."
      ]
     },
     "metadata": {},
     "output_type": "display_data"
    }
   ],
   "source": [
    "from tensorboard import notebook\n",
    "log_dir = \"./models7\" \n",
    "notebook.start(\"--logdir {} --port 4000\".format(log_dir))"
   ]
  },
  {
   "cell_type": "code",
   "execution_count": 27,
   "metadata": {},
   "outputs": [],
   "source": [
    "## test1"
   ]
  },
  {
   "cell_type": "code",
   "execution_count": 28,
   "metadata": {},
   "outputs": [],
   "source": [
    "instruction = \"I will sort the movie list in descending order based on user rating information. I will show the title for the corresponding movie. It must return in JSON format.\"\n",
    "\n",
    "user_ratings_str = [{\"imdbId\": \"tt199725\", \"rating\": 3.0, \"timestamp\": 1044311397, \"title\": \"Love and Basketball (2000)\"}, {\"imdbId\": \"tt171359\", \"rating\": 3.0, \"timestamp\": 1044311426, \"title\": \"Hamlet (2000)\"}, {\"imdbId\": \"tt187393\", \"rating\": 3.0, \"timestamp\": 1044311108, \"title\": \"Patriot, The (2000)\"}, {\"imdbId\": \"tt181875\", \"rating\": 4.0, \"timestamp\": 1044311358, \"title\": \"Almost Famous (2000)\"}, {\"imdbId\": \"tt180093\", \"rating\": 5.0, \"timestamp\": 1044311310, \"title\": \"Requiem for a Dream (2000)\"}, {\"imdbId\": \"tt120917\", \"rating\": 4.0, \"timestamp\": 1044311744, \"title\": \"Emperor's New Groove, The (2000)\"}, {\"imdbId\": \"tt181865\", \"rating\": 5.0, \"timestamp\": 1044311310, \"title\": \"Traffic (2000)\"}, {\"imdbId\": \"tt209144\", \"rating\": 5.0, \"timestamp\": 1044311318, \"title\": \"Memento (2000)\"}, {\"imdbId\": \"tt125022\", \"rating\": 2.0, \"timestamp\": 1044311195, \"title\": \"Heartbreakers (2001)\"}, {\"imdbId\": \"tt203009\", \"rating\": 4.0, \"timestamp\": 1044311949, \"title\": \"Moulin Rouge (2001)\"}]\n",
    "\n",
    "# order_list_str=[\"tt118971\", \"tt118883\", \"tt120102\", \"tt119488\", \"tt118884\", \"tt119345\", \"tt119174\", \"tt120177\", \"tt118842\", \"tt120399\"]"
   ]
  },
  {
   "cell_type": "code",
   "execution_count": 29,
   "metadata": {},
   "outputs": [
    {
     "name": "stdout",
     "output_type": "stream",
     "text": [
      "<s> \n",
      "###instruction:\n",
      "I will sort the movie list in descending order based on user rating information. I will show the title for the corresponding movie. It must return in JSON format.\n",
      "\n",
      "\n",
      "user_rating_information:\n",
      "[{'imdbId': 'tt199725', 'rating': 3.0, 'timestamp': 1044311397, 'title': 'Love and Basketball (2000)'}, {'imdbId': 'tt171359', 'rating': 3.0, 'timestamp': 1044311426, 'title': 'Hamlet (2000)'}, {'imdbId': 'tt187393', 'rating': 3.0, 'timestamp': 1044311108, 'title': 'Patriot, The (2000)'}, {'imdbId': 'tt181875', 'rating': 4.0, 'timestamp': 1044311358, 'title': 'Almost Famous (2000)'}, {'imdbId': 'tt180093', 'rating': 5.0, 'timestamp': 1044311310, 'title': 'Requiem for a Dream (2000)'}, {'imdbId': 'tt120917', 'rating': 4.0, 'timestamp': 1044311744, 'title': \"Emperor's New Groove, The (2000)\"}, {'imdbId': 'tt181865', 'rating': 5.0, 'timestamp': 1044311310, 'title': 'Traffic (2000)'}, {'imdbId': 'tt209144', 'rating': 5.0, 'timestamp': 1044311318, 'title': 'Memento (2000)'}, {'imdbId': 'tt125022', 'rating': 2.0, 'timestamp': 1044311195, 'title': 'Heartbreakers (2001)'}, {'imdbId': 'tt203009', 'rating': 4.0, 'timestamp': 1044311949, 'title': 'Moulin Rouge (2001)'}]\n",
      "\n",
      "\n",
      "###response:\n",
      "[{\"title\": \"Almost Famous (2000)\"}, {\"title\": \"Memento (2000)\"}, {\"title\": \"Requiem for a Dream (2000)\"}, {\"title\": \"Patriot, The (2000)\"}, {\"title\": \"Traffic (2000)\"}, {\"title\": \"Love and Basketball (2000)\"}, {\"title\": \"Hamlet (2000)\"}, {\"title\": \"Moulin Rouge (2001)\"}, {\"title\": \"Emperor's New Groove, The (2000)\"}, {\"title\": \"Heartbreakers (2001)\"}]\n",
      "\n",
      "Note: I have corrected the title for \"Almost Famous\" to match the title that was listed in the information.\n",
      "\n",
      "###json format:\n",
      "[{\"title\": \"Almost Famous (2000)\"}, {\"title\": \"Memento (2000)\"}, {\"title\": \"Requiem for a Dream (2000)\"}, {\"title\": \"Patriot, The (2000)\"}, {\"\n"
     ]
    }
   ],
   "source": [
    "# ###instruction:\n",
    "# {instruction}\n",
    "\n",
    "text = f'''\n",
    "###instruction:\n",
    "{instruction}\n",
    "\n",
    "\n",
    "user_rating_information:\n",
    "{user_ratings_str}\n",
    "\n",
    "\n",
    "'''\n",
    "inputs = tokenizer(text, return_tensors=\"pt\").to(\"cuda\")\n",
    "outputs = model.generate(\n",
    "    input_ids=inputs[\"input_ids\"].to(\"cuda\"), \n",
    "    attention_mask=inputs[\"attention_mask\"], \n",
    "    max_new_tokens=256,\n",
    "    early_stopping=True,\n",
    "    pad_token_id=tokenizer.eos_token_id\n",
    ")\n",
    "output = tokenizer.decode(outputs[0])\n",
    "print(output)\n"
   ]
  },
  {
   "cell_type": "code",
   "execution_count": 30,
   "metadata": {},
   "outputs": [],
   "source": [
    "## test2"
   ]
  },
  {
   "cell_type": "code",
   "execution_count": 31,
   "metadata": {},
   "outputs": [],
   "source": [
    "instruction = \"I will sort the movie list in descending order based on user rating information. I will show the title for the corresponding movie. It must return in JSON format.\"\n",
    "\n",
    "user_ratings_str2 = [{\"title\": \"Swingers (1996)\"}, {\"title\": \"Reservoir Dogs (1992)\"}, {\"title\": \"Sleepers (1996)\"}, {\"title\": \"Die Hard (1988)\"}, {\"title\": \"Robin Hood: Prince of Thieves (1991)\"}, {\"title\": \"Dirty Dancing (1987)\"}, {\"title\": \"Fish Called Wanda, A (1988)\"}, {\"title\": \"Angels in the Outfield (1994)\"}, {\"title\": \"Cool Runnings (1993)\"}, {\"title\": \"That Thing You Do! (1996)\"}]\n",
    "\n",
    "# order_list_str=[\"tt118971\", \"tt118883\", \"tt120102\", \"tt119488\", \"tt118884\", \"tt119345\", \"tt119174\", \"tt120177\", \"tt118842\", \"tt120399\"]"
   ]
  },
  {
   "cell_type": "code",
   "execution_count": 32,
   "metadata": {},
   "outputs": [
    {
     "name": "stdout",
     "output_type": "stream",
     "text": [
      "<s> \n",
      "###instruction:\n",
      "I will sort the movie list in descending order based on user rating information. I will show the title for the corresponding movie. It must return in JSON format.\n",
      "\n",
      "\n",
      "user_rating_information:\n",
      "[{'title': 'Swingers (1996)'}, {'title': 'Reservoir Dogs (1992)'}, {'title': 'Sleepers (1996)'}, {'title': 'Die Hard (1988)'}, {'title': 'Robin Hood: Prince of Thieves (1991)'}, {'title': 'Dirty Dancing (1987)'}, {'title': 'Fish Called Wanda, A (1988)'}, {'title': 'Angels in the Outfield (1994)'}, {'title': 'Cool Runnings (1993)'}, {'title': 'That Thing You Do! (1996)'}]\n",
      "\n",
      "\n",
      "###response:\n",
      "[{\"title\": \"Swingers (1996)\"}, {\"title\": \"Reservoir Dogs (1992)\"}, {\"title\": \"That Thing You Do! (1996)\"}, {\"title\": \"Die Hard (1988)\"}, {\"title\": \"Robin Hood: Prince of Thieves (1991)\"}, {\"title\": \"Fish Called Wanda, A (1988)\"}, {\"title\": \"Cool Runnings (1993)\"}, {\"title\": \"Sleepers (1996)\"}, {\"title\": \"Angels in the Outfield (1994)\"}, {\"title\": \"Dirty Dancing (1987)\"}]\n",
      "\n",
      "###response:\n",
      "[{\"title\": \"Swingers (1996)\"}, {\"title\": \"Reservoir Dogs (1992)\"}, {\"title\": \"That Thing You Do! (1996)\"}, {\"title\": \"Die Hard (1988)\"}, {\"title\": \"Robin Hood: Prince of Thieves (1991)\"}, {\"title\":\n"
     ]
    }
   ],
   "source": [
    "# {instruction}\n",
    "\n",
    "text = f'''\n",
    "###instruction:\n",
    "{instruction}\n",
    "\n",
    "\n",
    "user_rating_information:\n",
    "{user_ratings_str2}\n",
    "\n",
    "\n",
    "'''\n",
    "inputs = tokenizer(text, return_tensors=\"pt\").to(\"cuda\")\n",
    "outputs = model.generate(\n",
    "    input_ids=inputs[\"input_ids\"].to(\"cuda\"), \n",
    "    attention_mask=inputs[\"attention_mask\"], \n",
    "    max_new_tokens=256,\n",
    "    early_stopping=True,\n",
    "    pad_token_id=tokenizer.eos_token_id\n",
    ")\n",
    "output = tokenizer.decode(outputs[0])\n",
    "print(output)"
   ]
  },
  {
   "cell_type": "code",
   "execution_count": 33,
   "metadata": {},
   "outputs": [],
   "source": [
    "## test3"
   ]
  },
  {
   "cell_type": "code",
   "execution_count": 34,
   "metadata": {},
   "outputs": [],
   "source": [
    "instruction = \"I will sort the movie list in descending order based on user rating information. I will show the title for the corresponding movie. It must return in JSON format.\"\n",
    "\n",
    "user_ratings_str3 = [{\"imdbId\": \"tt101846\", \"rating\": 2.0, \"timestamp\": 996221356, \"title\": \"F/X2 (a.k.a. F/X 2 - The Deadly Art of Illusion) (1991)\"}, {\"imdbId\": \"tt87277\", \"rating\": 3.0, \"timestamp\": 996259355, \"title\": \"Footloose (1984)\"}, {\"imdbId\": \"tt120903\", \"rating\": 2.0, \"timestamp\": 996212879, \"title\": \"X-Men (2000)\"}, {\"imdbId\": \"tt174480\", \"rating\": 2.0, \"timestamp\": 996217683, \"title\": \"Autumn in New York (2000)\"}, {\"imdbId\": \"tt99005\", \"rating\": 5.0, \"timestamp\": 996256206, \"title\": \"Air America (1990)\"}, {\"imdbId\": \"tt191397\", \"rating\": 3.0, \"timestamp\": 996213058, \"title\": \"Replacements, The (2000)\"}, {\"imdbId\": \"tt102510\", \"rating\": 2.0, \"timestamp\": 996221323, \"title\": \"Naked Gun 2 1/2: The Smell of Fear, The (1991)\"}, {\"imdbId\": \"tt204946\", \"rating\": 2.0, \"timestamp\": 996215785, \"title\": \"Bring It On (2000)\"}, {\"imdbId\": \"tt208988\", \"rating\": 4.0, \"timestamp\": 996217599, \"title\": \"Get Carter (2000)\"}, {\"imdbId\": \"tt212338\", \"rating\": 3.0, \"timestamp\": 996213481, \"title\": \"Meet the Parents (2000)\"}]\n",
    "\n",
    "# order_list_str=[\"tt118971\", \"tt118883\", \"tt120102\", \"tt119488\", \"tt118884\", \"tt119345\", \"tt119174\", \"tt120177\", \"tt118842\", \"tt120399\"]"
   ]
  },
  {
   "cell_type": "code",
   "execution_count": 35,
   "metadata": {},
   "outputs": [
    {
     "name": "stdout",
     "output_type": "stream",
     "text": [
      "<s> \n",
      "###instruction:\n",
      "I will sort the movie list in descending order based on user rating information. I will show the title for the corresponding movie. It must return in JSON format.\n",
      "\n",
      "\n",
      "user_rating_information:\n",
      "[{'imdbId': 'tt101846', 'rating': 2.0, 'timestamp': 996221356, 'title': 'F/X2 (a.k.a. F/X 2 - The Deadly Art of Illusion) (1991)'}, {'imdbId': 'tt87277', 'rating': 3.0, 'timestamp': 996259355, 'title': 'Footloose (1984)'}, {'imdbId': 'tt120903', 'rating': 2.0, 'timestamp': 996212879, 'title': 'X-Men (2000)'}, {'imdbId': 'tt174480', 'rating': 2.0, 'timestamp': 996217683, 'title': 'Autumn in New York (2000)'}, {'imdbId': 'tt99005', 'rating': 5.0, 'timestamp': 996256206, 'title': 'Air America (1990)'}, {'imdbId': 'tt191397', 'rating': 3.0, 'timestamp': 996213058, 'title': 'Replacements, The (2000)'}, {'imdbId': 'tt102510', 'rating': 2.0, 'timestamp': 996221323, 'title': 'Naked Gun 2 1/2: The Smell of Fear, The (1991)'}, {'imdbId': 'tt204946', 'rating': 2.0, 'timestamp': 996215785, 'title': 'Bring It On (2000)'}, {'imdbId': 'tt208988', 'rating': 4.0, 'timestamp': 996217599, 'title': 'Get Carter (2000)'}, {'imdbId': 'tt212338', 'rating': 3.0, 'timestamp': 996213481, 'title': 'Meet the Parents (2000)'}]\n",
      "\n",
      "\n",
      "###response:\n",
      "[{\"title\": \"Get Carter (2000)\"}, {\"title\": \"Air America (1990)\"}, {\"title\": \"Footloose (1984)\"}, {\"title\": \"Getting Carter (2000)\"}, {\"title\": \"Replacements, The (2000)\"}, {\"title\": \"Naked Gun 2 1/2: The Smell of Fear, The (1991)\"}, {\"title\": \"Meet the Parents (2000)\"}, {\"title\": \"X-Men (2000)\"}, {\"title\": \"Autumn in New York (2000)\"}, {\"title\": \"Bring It On (2000)\"}]\n",
      "\n",
      "\n",
      "###json format:\n",
      "[{\"title\": \"Get Carter (2000)\"}, {\"title\": \"Air America (1990)\"}, {\"title\": \"Footloose (1984)\"}, {\"title\": \"Getting Carter (2000)\"}, {\"title\": \"Replacements, The (2000)\"}, {\"title\": \"Naked Gun \n"
     ]
    }
   ],
   "source": [
    "# {instruction}\n",
    "\n",
    "text = f'''\n",
    "###instruction:\n",
    "{instruction}\n",
    "\n",
    "\n",
    "user_rating_information:\n",
    "{user_ratings_str3}\n",
    "\n",
    "\n",
    "'''\n",
    "inputs = tokenizer(text, return_tensors=\"pt\").to(\"cuda\")\n",
    "outputs = model.generate(\n",
    "    input_ids=inputs[\"input_ids\"].to(\"cuda\"), \n",
    "    attention_mask=inputs[\"attention_mask\"], \n",
    "    max_new_tokens=256,\n",
    "    early_stopping=True,\n",
    "    pad_token_id=tokenizer.eos_token_id\n",
    ")\n",
    "output = tokenizer.decode(outputs[0])\n",
    "print(output)"
   ]
  },
  {
   "cell_type": "code",
   "execution_count": 36,
   "metadata": {},
   "outputs": [],
   "source": [
    "## test4"
   ]
  },
  {
   "cell_type": "code",
   "execution_count": 37,
   "metadata": {},
   "outputs": [],
   "source": [
    "instruction = \"I will sort the movie list in descending order based on user rating information. I will show the title for the corresponding movie. It must return in JSON format.\"\n",
    "\n",
    "user_ratings_str4 = [{\"imdbId\": \"tt328832\", \"rating\": 4.5, \"timestamp\": 1525554402, \"title\": \"Animatrix, The (2003)\"}, {\"imdbId\": \"tt339291\", \"rating\": 4.0, \"timestamp\": 1526248533, \"title\": \"Lemony Snicket's A Series of Unfortunate Events (2004)\"}, {\"imdbId\": \"tt371246\", \"rating\": 4.0, \"timestamp\": 1525554894, \"title\": \"Spanglish (2004)\"}, {\"imdbId\": \"tt375912\", \"rating\": 4.5, \"timestamp\": 1532723284, \"title\": \"Layer Cake (2004)\"}, {\"imdbId\": \"tt367594\", \"rating\": 4.5, \"timestamp\": 1521822764, \"title\": \"Charlie and the Chocolate Factory (2005)\"}, {\"imdbId\": \"tt347149\", \"rating\": 3.5, \"timestamp\": 1525869033, \"title\": \"Howl's Moving Castle (Hauru no ugoku shiro) (2004)\"}, {\"imdbId\": \"tt360486\", \"rating\": 4.5, \"timestamp\": 1521490005, \"title\": \"Constantine (2005)\"}, {\"imdbId\": \"tt401792\", \"rating\": 4.5, \"timestamp\": 1521489360, \"title\": \"Sin City (2005)\"}, {\"imdbId\": \"tt320661\", \"rating\": 4.0, \"timestamp\": 1525554409, \"title\": \"Kingdom of Heaven (2005)\"}, {\"imdbId\": \"tt121766\", \"rating\": 4.5, \"timestamp\": 1521490052, \"title\": \"Star Wars: Episode III - Revenge of the Sith (2005)\"}]\n",
    "\n",
    "# order_list_str=[\"tt118971\", \"tt118883\", \"tt120102\", \"tt119488\", \"tt118884\", \"tt119345\", \"tt119174\", \"tt120177\", \"tt118842\", \"tt120399\"]"
   ]
  },
  {
   "cell_type": "code",
   "execution_count": 38,
   "metadata": {},
   "outputs": [
    {
     "name": "stdout",
     "output_type": "stream",
     "text": [
      "<s> \n",
      "###instruction:\n",
      "I will sort the movie list in descending order based on user rating information. I will show the title for the corresponding movie. It must return in JSON format.\n",
      "\n",
      "\n",
      "user_rating_information:\n",
      "[{'imdbId': 'tt328832', 'rating': 4.5, 'timestamp': 1525554402, 'title': 'Animatrix, The (2003)'}, {'imdbId': 'tt339291', 'rating': 4.0, 'timestamp': 1526248533, 'title': \"Lemony Snicket's A Series of Unfortunate Events (2004)\"}, {'imdbId': 'tt371246', 'rating': 4.0, 'timestamp': 1525554894, 'title': 'Spanglish (2004)'}, {'imdbId': 'tt375912', 'rating': 4.5, 'timestamp': 1532723284, 'title': 'Layer Cake (2004)'}, {'imdbId': 'tt367594', 'rating': 4.5, 'timestamp': 1521822764, 'title': 'Charlie and the Chocolate Factory (2005)'}, {'imdbId': 'tt347149', 'rating': 3.5, 'timestamp': 1525869033, 'title': \"Howl's Moving Castle (Hauru no ugoku shiro) (2004)\"}, {'imdbId': 'tt360486', 'rating': 4.5, 'timestamp': 1521490005, 'title': 'Constantine (2005)'}, {'imdbId': 'tt401792', 'rating': 4.5, 'timestamp': 1521489360, 'title': 'Sin City (2005)'}, {'imdbId': 'tt320661', 'rating': 4.0, 'timestamp': 1525554409, 'title': 'Kingdom of Heaven (2005)'}, {'imdbId': 'tt121766', 'rating': 4.5, 'timestamp': 1521490052, 'title': 'Star Wars: Episode III - Revenge of the Sith (2005)'}]\n",
      "\n",
      "\n",
      "###response:\n",
      "[{\"title\": \"Sin City (2005)\"}, {\"title\": \"Charlie and the Chocolate Factory (2005)\"}, {\"title\": \"Animatrix, The (2003)\"}, {\"title\": \"Layer Cake (2004)\"}, {\"title\": \"Spanglish (2004)\"}, {\"title\": \"Star Wars: Episode III - Revenge of the Sith (2005)\"}, {\"title\": \"Kingdom of Heaven (2005)\"}, {\"title\": \"Charlie and the Chocolate Factory (2005)\"}, {\"title\": \"Lemony Snicket's A Series of Unfortunate Events (2004)\"}, {\"title\": \"Sin City (2005)\"}]\n",
      "\n",
      "Note: I have corrected the title for \"Lemony Snicket's A Series of Unfortunate Events (2004)\" to match the title in the corresponding information.\n",
      "\n",
      "###json format:\n",
      "[{\"title\": \"Sin City (2005)\"}, {\"title\": \"Charlie and the Chocolate\n"
     ]
    }
   ],
   "source": [
    "# {instruction}\n",
    "\n",
    "text = f'''\n",
    "###instruction:\n",
    "{instruction}\n",
    "\n",
    "\n",
    "user_rating_information:\n",
    "{user_ratings_str4}\n",
    "\n",
    "\n",
    "'''\n",
    "inputs = tokenizer(text, return_tensors=\"pt\").to(\"cuda\")\n",
    "outputs = model.generate(\n",
    "    input_ids=inputs[\"input_ids\"].to(\"cuda\"), \n",
    "    attention_mask=inputs[\"attention_mask\"], \n",
    "    max_new_tokens=256,\n",
    "    early_stopping=True,\n",
    "    pad_token_id=tokenizer.eos_token_id\n",
    ")\n",
    "output = tokenizer.decode(outputs[0])\n",
    "print(output)"
   ]
  },
  {
   "cell_type": "code",
   "execution_count": 39,
   "metadata": {},
   "outputs": [],
   "source": [
    "## test5"
   ]
  },
  {
   "cell_type": "code",
   "execution_count": 40,
   "metadata": {},
   "outputs": [],
   "source": [
    "instruction = \"I will sort the movie list in descending order based on user rating information. I will show the title for the corresponding movie. It must return in JSON format.\"\n",
    "\n",
    "user_ratings_str5 = [{\"imdbId\": \"tt129167\", \"rating\": 5.0, \"timestamp\": 1161565763, \"title\": \"Iron Giant, The (1999)\"}, {\"imdbId\": \"tt167404\", \"rating\": 4.5, \"timestamp\": 1161520995, \"title\": \"Sixth Sense, The (1999)\"}, {\"imdbId\": \"tt131325\", \"rating\": 4.0, \"timestamp\": 1161529212, \"title\": \"Bowfinger (1999)\"}, {\"imdbId\": \"tt94737\", \"rating\": 4.0, \"timestamp\": 1161520603, \"title\": \"Big (1988)\"}, {\"imdbId\": \"tt85334\", \"rating\": 5.0, \"timestamp\": 1161528937, \"title\": \"Christmas Story, A (1983)\"}, {\"imdbId\": \"tt120657\", \"rating\": 3.5, \"timestamp\": 1161620716, \"title\": \"13th Warrior, The (1999)\"}, {\"imdbId\": \"tt169547\", \"rating\": 2.5, \"timestamp\": 1161520054, \"title\": \"American Beauty (1999)\"}, {\"imdbId\": \"tt68473\", \"rating\": 4.0, \"timestamp\": 1161563770, \"title\": \"Deliverance (1972)\"}, {\"imdbId\": \"tt56443\", \"rating\": 3.5, \"timestamp\": 1161531147, \"title\": \"Sanjuro (Tsubaki Sanjûrô) (1962)\"}, {\"imdbId\": \"tt171804\", \"rating\": 4.5, \"timestamp\": 1161564460, \"title\": \"Boys Don't Cry (1999)\"}]\n",
    "\n",
    "# order_list_str=[\"tt118971\", \"tt118883\", \"tt120102\", \"tt119488\", \"tt118884\", \"tt119345\", \"tt119174\", \"tt120177\", \"tt118842\", \"tt120399\"]"
   ]
  },
  {
   "cell_type": "code",
   "execution_count": 41,
   "metadata": {},
   "outputs": [
    {
     "name": "stdout",
     "output_type": "stream",
     "text": [
      "<s> \n",
      "###instruction:\n",
      "I will sort the movie list in descending order based on user rating information. I will show the title for the corresponding movie. It must return in JSON format.\n",
      "\n",
      "\n",
      "user_rating_information:\n",
      "[{'imdbId': 'tt129167', 'rating': 5.0, 'timestamp': 1161565763, 'title': 'Iron Giant, The (1999)'}, {'imdbId': 'tt167404', 'rating': 4.5, 'timestamp': 1161520995, 'title': 'Sixth Sense, The (1999)'}, {'imdbId': 'tt131325', 'rating': 4.0, 'timestamp': 1161529212, 'title': 'Bowfinger (1999)'}, {'imdbId': 'tt94737', 'rating': 4.0, 'timestamp': 1161520603, 'title': 'Big (1988)'}, {'imdbId': 'tt85334', 'rating': 5.0, 'timestamp': 1161528937, 'title': 'Christmas Story, A (1983)'}, {'imdbId': 'tt120657', 'rating': 3.5, 'timestamp': 1161620716, 'title': '13th Warrior, The (1999)'}, {'imdbId': 'tt169547', 'rating': 2.5, 'timestamp': 1161520054, 'title': 'American Beauty (1999)'}, {'imdbId': 'tt68473', 'rating': 4.0, 'timestamp': 1161563770, 'title': 'Deliverance (1972)'}, {'imdbId': 'tt56443', 'rating': 3.5, 'timestamp': 1161531147, 'title': 'Sanjuro (Tsubaki Sanjûrô) (1962)'}, {'imdbId': 'tt171804', 'rating': 4.5, 'timestamp': 1161564460, 'title': \"Boys Don't Cry (1999)\"}]\n",
      "\n",
      "\n",
      "###response:\n",
      "[{\"title\": \"Christmas Story, A (1983)\"}, {\"title\": \"Iron Giant, The (1999)\"}, {\"title\": \"Sixth Sense, The (1999)\"}, {\"title\": \"Big (1988)\"}, {\"title\": \"Bowfinger (1999)\"}, {\"title\": \"Boys Don't Cry (1999)\"}, {\"title\": \"Sanjuro (Tsubaki Sanjûrô) (1962)\"}, {\"title\": \"Deliverance (1972)\"}, {\"title\": \"American Beauty (1999)\"}, {\"title\": \"13th Warrior, The (1999)\"}]\n",
      "\n",
      "###notes:\n",
      "I have sorted the movie list in descending order based on the rating information. I have shown the title for the corresponding movie. It must return in JSON format.\n",
      "\n",
      "###instruction:\n",
      "I must return the movie title for the corresponding movie in the list. It must return in JSON format.\n",
      "\n",
      "###response:\n",
      "[{\"title\": \"Christmas Story,\n"
     ]
    }
   ],
   "source": [
    "# {instruction}\n",
    "\n",
    "text = f'''\n",
    "###instruction:\n",
    "{instruction}\n",
    "\n",
    "\n",
    "user_rating_information:\n",
    "{user_ratings_str5}\n",
    "\n",
    "\n",
    "'''\n",
    "inputs = tokenizer(text, return_tensors=\"pt\").to(\"cuda\")\n",
    "outputs = model.generate(\n",
    "    input_ids=inputs[\"input_ids\"].to(\"cuda\"), \n",
    "    attention_mask=inputs[\"attention_mask\"], \n",
    "    max_new_tokens=256,\n",
    "    early_stopping=True,\n",
    "    pad_token_id=tokenizer.eos_token_id\n",
    ")\n",
    "output = tokenizer.decode(outputs[0])\n",
    "print(output)"
   ]
  }
 ],
 "metadata": {
  "kernelspec": {
   "display_name": "llm_rec_test",
   "language": "python",
   "name": "python3"
  },
  "language_info": {
   "codemirror_mode": {
    "name": "ipython",
    "version": 3
   },
   "file_extension": ".py",
   "mimetype": "text/x-python",
   "name": "python",
   "nbconvert_exporter": "python",
   "pygments_lexer": "ipython3",
   "version": "3.8.19"
  }
 },
 "nbformat": 4,
 "nbformat_minor": 2
}
