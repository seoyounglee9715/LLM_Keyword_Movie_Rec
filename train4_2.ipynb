{
 "cells": [
  {
   "cell_type": "code",
   "execution_count": 1,
   "metadata": {},
   "outputs": [
    {
     "name": "stderr",
     "output_type": "stream",
     "text": [
      "2024-04-18 23:47:03.892800: I tensorflow/core/platform/cpu_feature_guard.cc:193] This TensorFlow binary is optimized with oneAPI Deep Neural Network Library (oneDNN) to use the following CPU instructions in performance-critical operations:  AVX2 AVX512F AVX512_VNNI FMA\n",
      "To enable them in other operations, rebuild TensorFlow with the appropriate compiler flags.\n",
      "2024-04-18 23:47:04.104870: I tensorflow/core/util/port.cc:104] oneDNN custom operations are on. You may see slightly different numerical results due to floating-point round-off errors from different computation orders. To turn them off, set the environment variable `TF_ENABLE_ONEDNN_OPTS=0`.\n",
      "2024-04-18 23:47:04.871413: W tensorflow/compiler/xla/stream_executor/platform/default/dso_loader.cc:64] Could not load dynamic library 'libnvinfer.so.7'; dlerror: libnvinfer.so.7: cannot open shared object file: No such file or directory; LD_LIBRARY_PATH: /usr/local/cuda/lib64:\n",
      "2024-04-18 23:47:04.871573: W tensorflow/compiler/xla/stream_executor/platform/default/dso_loader.cc:64] Could not load dynamic library 'libnvinfer_plugin.so.7'; dlerror: libnvinfer_plugin.so.7: cannot open shared object file: No such file or directory; LD_LIBRARY_PATH: /usr/local/cuda/lib64:\n",
      "2024-04-18 23:47:04.871580: W tensorflow/compiler/tf2tensorrt/utils/py_utils.cc:38] TF-TRT Warning: Cannot dlopen some TensorRT libraries. If you would like to use Nvidia GPU with TensorRT, please make sure the missing libraries mentioned above are installed properly.\n"
     ]
    }
   ],
   "source": [
    "import torch\n",
    "from transformers import (\n",
    "    AutoModelForCausalLM,\n",
    "    LlamaTokenizerFast,\n",
    "    TrainingArguments,\n",
    "    Trainer,\n",
    "    BitsAndBytesConfig,\n",
    ")\n",
    "from peft import (\n",
    "    LoraConfig,\n",
    "    get_peft_model,\n",
    ")"
   ]
  },
  {
   "cell_type": "code",
   "execution_count": 2,
   "metadata": {},
   "outputs": [],
   "source": [
    "# https://huggingface.co/meta-llama/Llama-2-7b-hf\n",
    "# base_model = \"meta-llama/Llama-2-7b-hf\"\n",
    "base_model = \"meta-llama/Llama-2-7b-chat-hf\"\n",
    "# base_model=\"beomi/open-llama-2-ko-7b\"\n",
    "# base_model = \"huggingface-projects/llama-2-7b-chat\"\n",
    "# base_model = \"TinyPixel/Llama-2-7B-bf16-sharded\""
   ]
  },
  {
   "cell_type": "code",
   "execution_count": 3,
   "metadata": {},
   "outputs": [],
   "source": [
    "# # Fine-tuned model\n",
    "# new_model = \"llama-2-7b-hf-fine-tuned-test1\""
   ]
  },
  {
   "cell_type": "code",
   "execution_count": 3,
   "metadata": {},
   "outputs": [],
   "source": [
    "# QLoRA 모델을 사용하기 위한 설정\n",
    "\n",
    "bnb_config = BitsAndBytesConfig(\n",
    "    load_in_4bit=True,\n",
    "    bnb_4bit_use_double_quant=True,\n",
    "    bnb_4bit_quant_type=\"nf4\",\n",
    "    bnb_4bit_compute_dtype=torch.bfloat16 \n",
    ")\n",
    "\n"
   ]
  },
  {
   "cell_type": "code",
   "execution_count": 4,
   "metadata": {},
   "outputs": [
    {
     "data": {
      "application/vnd.jupyter.widget-view+json": {
       "model_id": "63b6dc5c90404555a913029ff9c4aaee",
       "version_major": 2,
       "version_minor": 0
      },
      "text/plain": [
       "Loading checkpoint shards:   0%|          | 0/2 [00:00<?, ?it/s]"
      ]
     },
     "metadata": {},
     "output_type": "display_data"
    }
   ],
   "source": [
    "# 라마2 모델 불러오기\n",
    "model = AutoModelForCausalLM.from_pretrained(\n",
    "    base_model,\n",
    "    quantization_config=bnb_config,\n",
    "    device_map=\"auto\",\n",
    ")\n",
    "model.config.use_cache = False\n",
    "model.config.pretraining_tp = 1"
   ]
  },
  {
   "cell_type": "code",
   "execution_count": 5,
   "metadata": {},
   "outputs": [],
   "source": [
    "# 토크나이저 로드\n",
    "import os\n",
    "os.environ[\"TOKENIZERS_PARALLELISM\"] = \"false\" # 토크나이저 병렬처리 방지(오류 방지)\n",
    "os.environ['TRANSFORMERS_NO_ADVISORY_WARNINGS'] = 'true' # __cell__ 오류 방지\n",
    "\n",
    "tokenizer = LlamaTokenizerFast.from_pretrained(\n",
    "    base_model,\n",
    "    trust_remote_code=True\n",
    ")\n",
    "tokenizer.pad_token = tokenizer.eos_token # 패딩 토큰을 문장의 끝으로 설정 </s>\n",
    "tokenizer.padding_side = \"right\" # 패딩을 문장 뒤에 추가"
   ]
  },
  {
   "cell_type": "code",
   "execution_count": 6,
   "metadata": {},
   "outputs": [],
   "source": [
    "# 학습 양식\n",
    "import json\n",
    "from datasets import load_dataset\n",
    "file_name = 'preprocess/dataset3/new_ratings_4.json'"
   ]
  },
  {
   "cell_type": "code",
   "execution_count": 7,
   "metadata": {},
   "outputs": [],
   "source": [
    "import json\n",
    "\n",
    "# JSON 파일 불러오기\n",
    "input_file = file_name\n",
    "with open(input_file, 'r') as f:\n",
    "    data = json.load(f)\n",
    "\n",
    "# 불러온 데이터 확인\n",
    "# print(data)"
   ]
  },
  {
   "cell_type": "code",
   "execution_count": 8,
   "metadata": {},
   "outputs": [
    {
     "name": "stdout",
     "output_type": "stream",
     "text": [
      "[{'title': 'Toy Story (1995)', 'rating': 4.0, 'imdbId': 'tt114709', 'timestamp': 964982703}, {'title': 'Grumpier Old Men (1995)', 'rating': 4.0, 'imdbId': 'tt113228', 'timestamp': 964981247}, {'title': 'Heat (1995)', 'rating': 4.0, 'imdbId': 'tt113277', 'timestamp': 964982224}, {'title': 'Seven (a.k.a. Se7en) (1995)', 'rating': 5.0, 'imdbId': 'tt114369', 'timestamp': 964983815}, {'title': 'Usual Suspects, The (1995)', 'rating': 5.0, 'imdbId': 'tt114814', 'timestamp': 964982931}, {'title': 'From Dusk Till Dawn (1996)', 'rating': 3.0, 'imdbId': 'tt116367', 'timestamp': 964982400}, {'title': 'Bottle Rocket (1996)', 'rating': 5.0, 'imdbId': 'tt115734', 'timestamp': 964980868}, {'title': 'Braveheart (1995)', 'rating': 4.0, 'imdbId': 'tt112573', 'timestamp': 964982176}, {'title': 'Rob Roy (1995)', 'rating': 5.0, 'imdbId': 'tt114287', 'timestamp': 964984041}, {'title': 'Canadian Bacon (1995)', 'rating': 5.0, 'imdbId': 'tt109370', 'timestamp': 964984100}]\n",
      "<class 'list'>\n",
      "{'title': 'Toy Story (1995)', 'rating': 4.0, 'imdbId': 'tt114709', 'timestamp': 964982703}\n",
      "<class 'dict'>\n",
      "[{'title': 'Canadian Bacon (1995)'}, {'title': 'Rob Roy (1995)'}, {'title': 'Seven (a.k.a. Se7en) (1995)'}, {'title': 'Usual Suspects, The (1995)'}, {'title': 'Bottle Rocket (1996)'}, {'title': 'Toy Story (1995)'}, {'title': 'Heat (1995)'}, {'title': 'Braveheart (1995)'}, {'title': 'Grumpier Old Men (1995)'}, {'title': 'From Dusk Till Dawn (1996)'}]\n"
     ]
    }
   ],
   "source": [
    "# print(data[1])\n",
    "\n",
    "print(data[0][\"ratings\"]) # 영화 평점들 정보 모음\n",
    "print(type(data[0][\"ratings\"])) \n",
    "\n",
    "print(data[0][\"ratings\"][0]) # 평점 1개\n",
    "print(type(data[0][\"ratings\"][0])) \n",
    "print(data[0][\"rank\"])"
   ]
  },
  {
   "cell_type": "code",
   "execution_count": 9,
   "metadata": {},
   "outputs": [],
   "source": [
    "instruction = '''\n",
    "I will recommend the list of movies sorted according to user ratings information. And I will show the metadata for the corresponding movie. It must return in JSON format.\n",
    "'''"
   ]
  },
  {
   "cell_type": "code",
   "execution_count": 10,
   "metadata": {},
   "outputs": [],
   "source": [
    "# 데이터 매핑 함수 정의\n",
    "def map_data_to_format(example):\n",
    "\n",
    "    user_ratings_str = json.dumps(example['ratings'], ensure_ascii=False)\n",
    "    rank_list_str = json.dumps(example[\"rank\"], ensure_ascii=False)\n",
    "    \n",
    "    text = (\n",
    "        f\"###instruction:\\n{instruction}\\n\\n\"\n",
    "        f\"user_ratings_info:\\n{user_ratings_str}\\n\\n\"\n",
    "        f\"###rank:\\n{rank_list_str}\\n\\n\"\n",
    "    )\n",
    "    \n",
    "    # completion은 모델이 생성해야 할 예상 출력을 포함함\n",
    "    # 여기서는 우선순위에 따라 정렬된 영화 imdb_id의 리스트를 반환합니다.\n",
    "    completion = f\"{{\\\"rank\\\": {rank_list_str}}}\"\n",
    "    \n",
    "    return {'text': text, 'completion': completion}"
   ]
  },
  {
   "cell_type": "code",
   "execution_count": 11,
   "metadata": {},
   "outputs": [],
   "source": [
    "# 데이터셋 로드\n",
    "data = load_dataset('json', data_files=file_name, split=\"train\")"
   ]
  },
  {
   "cell_type": "code",
   "execution_count": 12,
   "metadata": {},
   "outputs": [
    {
     "name": "stdout",
     "output_type": "stream",
     "text": [
      "Dataset({\n",
      "    features: ['userId', 'ratings', 'rank'],\n",
      "    num_rows: 10084\n",
      "})\n"
     ]
    }
   ],
   "source": [
    "print(data)"
   ]
  },
  {
   "cell_type": "code",
   "execution_count": 15,
   "metadata": {},
   "outputs": [],
   "source": [
    "# print(data['ratings'])\n"
   ]
  },
  {
   "cell_type": "code",
   "execution_count": 16,
   "metadata": {},
   "outputs": [],
   "source": [
    "# print(data['order']) # [['tt109370', 'tt114287', 'tt114369', 'tt114814', 'tt115734', 'tt114709', 'tt113277', 'tt112573', 'tt113228', 'tt116367'], ...]"
   ]
  },
  {
   "cell_type": "code",
   "execution_count": 17,
   "metadata": {},
   "outputs": [],
   "source": [
    "# print(data['userId']) # [1, 2, 3, 4, 5, 6, 7, 8, 9, 10, ...]"
   ]
  },
  {
   "cell_type": "code",
   "execution_count": 13,
   "metadata": {},
   "outputs": [],
   "source": [
    "# 데이터 매핑 적용\n",
    "mapped_data = data.map(map_data_to_format)"
   ]
  },
  {
   "cell_type": "code",
   "execution_count": 14,
   "metadata": {},
   "outputs": [
    {
     "name": "stdout",
     "output_type": "stream",
     "text": [
      "Dataset({\n",
      "    features: ['userId', 'ratings', 'rank', 'text', 'completion'],\n",
      "    num_rows: 10084\n",
      "})\n"
     ]
    }
   ],
   "source": [
    "print(mapped_data)\n"
   ]
  },
  {
   "cell_type": "code",
   "execution_count": 15,
   "metadata": {},
   "outputs": [
    {
     "data": {
      "application/vnd.jupyter.widget-view+json": {
       "model_id": "f00306ea244044ff9a2029f2f2312c58",
       "version_major": 2,
       "version_minor": 0
      },
      "text/plain": [
       "Map:   0%|          | 0/9075 [00:00<?, ? examples/s]"
      ]
     },
     "metadata": {},
     "output_type": "display_data"
    },
    {
     "name": "stderr",
     "output_type": "stream",
     "text": [
      "Asking to truncate to max_length but no maximum length is provided and the model has no predefined maximum length. Default to no truncation.\n"
     ]
    },
    {
     "data": {
      "application/vnd.jupyter.widget-view+json": {
       "model_id": "095b4c187c4c4c34874f77f872b04521",
       "version_major": 2,
       "version_minor": 0
      },
      "text/plain": [
       "Map:   0%|          | 0/1009 [00:00<?, ? examples/s]"
      ]
     },
     "metadata": {},
     "output_type": "display_data"
    }
   ],
   "source": [
    "# 데이터셋 분할\n",
    "split_data = mapped_data.train_test_split(test_size=0.1)  # 10%를 테스트셋으로 사용\n",
    "\n",
    "train_set = split_data['train']\n",
    "eval_set = split_data['test']\n",
    "\n",
    "train_set = train_set.map(lambda samples: tokenizer(samples[\"text\"], padding=True, truncation=True, return_tensors=\"pt\"), batched=True)\n",
    "eval_set = eval_set.map(lambda samples: tokenizer(samples[\"text\"], padding=True, truncation=True, return_tensors=\"pt\"), batched=True)\n",
    "\n",
    "# lora 파라미터 설정\n",
    "peft_params = LoraConfig(\n",
    "    lora_alpha=16,\n",
    "    lora_dropout=0.1,\n",
    "    r=64,\n",
    "    bias=\"none\",\n",
    "    task_type=\"CAUSAL_LM\",\n",
    ")\n"
   ]
  },
  {
   "cell_type": "code",
   "execution_count": 16,
   "metadata": {},
   "outputs": [
    {
     "name": "stdout",
     "output_type": "stream",
     "text": [
      "###instruction:\n",
      "\n",
      "I will recommend the list of movies sorted according to user ratings information. And I will show the metadata for the corresponding movie. It must return in JSON format.\n",
      "\n",
      "\n",
      "user_ratings_info:\n",
      "[{\"imdbId\": \"tt119488\", \"rating\": 5.0, \"timestamp\": 1013394501, \"title\": \"L.A. Confidential (1997)\"}, {\"imdbId\": \"tt119468\", \"rating\": 5.0, \"timestamp\": 1019584596, \"title\": \"Kiss the Girls (1997)\"}, {\"imdbId\": \"tt119164\", \"rating\": 5.0, \"timestamp\": 1013395394, \"title\": \"Full Monty, The (1997)\"}, {\"imdbId\": \"tt118971\", \"rating\": 4.0, \"timestamp\": 1013398024, \"title\": \"The Devil's Advocate (1997)\"}, {\"imdbId\": \"tt119177\", \"rating\": 5.0, \"timestamp\": 1013395308, \"title\": \"Gattaca (1997)\"}, {\"imdbId\": \"tt83131\", \"rating\": 5.0, \"timestamp\": 1019585417, \"title\": \"Stripes (1981)\"}, {\"imdbId\": \"tt120201\", \"rating\": 5.0, \"timestamp\": 1019580795, \"title\": \"Starship Troopers (1997)\"}, {\"imdbId\": \"tt119395\", \"rating\": 5.0, \"timestamp\": 1019581043, \"title\": \"Jackal, The (1997)\"}, {\"imdbId\": \"tt120082\", \"rating\": 5.0, \"timestamp\": 1019584576, \"title\": \"Scream 2 (1997)\"}, {\"imdbId\": \"tt120347\", \"rating\": 4.0, \"timestamp\": 1019584656, \"title\": \"Tomorrow Never Dies (1997)\"}]\n",
      "\n",
      "###rank:\n",
      "[{\"title\": \"Stripes (1981)\"}, {\"title\": \"Kiss the Girls (1997)\"}, {\"title\": \"Scream 2 (1997)\"}, {\"title\": \"Jackal, The (1997)\"}, {\"title\": \"Starship Troopers (1997)\"}, {\"title\": \"Full Monty, The (1997)\"}, {\"title\": \"Gattaca (1997)\"}, {\"title\": \"L.A. Confidential (1997)\"}, {\"title\": \"Tomorrow Never Dies (1997)\"}, {\"title\": \"The Devil's Advocate (1997)\"}]\n",
      "\n",
      "\n",
      "\n",
      "\n",
      "<class 'str'>\n",
      "\n",
      "\n",
      "###instruction:\n",
      "\n",
      "I will recommend the list of movies sorted according to user ratings information. And I will show the metadata for the corresponding movie. It must return in JSON format.\n",
      "\n",
      "\n",
      "user_ratings_info:\n",
      "[{\"imdbId\": \"tt37988\", \"rating\": 3.5, \"timestamp\": 1086191943, \"title\": \"Picture of Dorian Gray, The (1945)\"}, {\"imdbId\": \"tt54188\", \"rating\": 3.0, \"timestamp\": 1087832241, \"title\": \"Please Don't Eat the Daisies (1960)\"}, {\"imdbId\": \"tt44008\", \"rating\": 3.5, \"timestamp\": 1086369863, \"title\": \"Christmas Carol, A (Scrooge) (1951)\"}, {\"imdbId\": \"tt100133\", \"rating\": 3.0, \"timestamp\": 1086369856, \"title\": \"Memphis Belle (1990)\"}, {\"imdbId\": \"tt44030\", \"rating\": 3.0, \"timestamp\": 1089386934, \"title\": \"Show Boat (1951)\"}, {\"imdbId\": \"tt22913\", \"rating\": 4.0, \"timestamp\": 1086613169, \"title\": \"Freaks (1932)\"}, {\"imdbId\": \"tt20641\", \"rating\": 3.5, \"timestamp\": 1086871736, \"title\": \"Anna Christie (1930)\"}, {\"imdbId\": \"tt22835\", \"rating\": 3.5, \"timestamp\": 1099315938, \"title\": \"Dr. Jekyll and Mr. Hyde (1931)\"}, {\"imdbId\": \"tt377752\", \"rating\": 4.0, \"timestamp\": 1123721652, \"title\": \"Dear Frankie (2004)\"}, {\"imdbId\": \"tt338512\", \"rating\": 3.5, \"timestamp\": 1106057688, \"title\": \"Two Brothers (Deux frères) (2004)\"}]\n",
      "\n",
      "###rank:\n",
      "[{\"title\": \"Dear Frankie (2004)\"}, {\"title\": \"Freaks (1932)\"}, {\"title\": \"Two Brothers (Deux frères) (2004)\"}, {\"title\": \"Dr. Jekyll and Mr. Hyde (1931)\"}, {\"title\": \"Anna Christie (1930)\"}, {\"title\": \"Christmas Carol, A (Scrooge) (1951)\"}, {\"title\": \"Picture of Dorian Gray, The (1945)\"}, {\"title\": \"Show Boat (1951)\"}, {\"title\": \"Please Don't Eat the Daisies (1960)\"}, {\"title\": \"Memphis Belle (1990)\"}]\n",
      "\n",
      "\n"
     ]
    }
   ],
   "source": [
    "print(train_set[3][\"text\"])\n",
    "print(\"\\n\")\n",
    "print(type(train_set[3][\"text\"]))\n",
    "print(\"\\n\")\n",
    "# print(train_set[20][\"text\"])\n",
    "print(train_set[120][\"text\"])"
   ]
  },
  {
   "cell_type": "code",
   "execution_count": 17,
   "metadata": {},
   "outputs": [
    {
     "name": "stdout",
     "output_type": "stream",
     "text": [
      "###instruction:\n",
      "\n",
      "I will recommend the list of movies sorted according to user ratings information. And I will show the metadata for the corresponding movie. It must return in JSON format.\n",
      "\n",
      "\n",
      "user_ratings_info:\n",
      "[{\"imdbId\": \"tt120744\", \"rating\": 2.5, \"timestamp\": 1237713993, \"title\": \"Man in the Iron Mask, The (1998)\"}, {\"imdbId\": \"tt120632\", \"rating\": 2.0, \"timestamp\": 1237851732, \"title\": \"City of Angels (1998)\"}, {\"imdbId\": \"tt127723\", \"rating\": 2.5, \"timestamp\": 1237713979, \"title\": \"Can't Hardly Wait (1998)\"}, {\"imdbId\": \"tt120591\", \"rating\": 2.0, \"timestamp\": 1237710564, \"title\": \"Armageddon (1998)\"}, {\"imdbId\": \"tt138704\", \"rating\": 3.5, \"timestamp\": 1237851228, \"title\": \"Pi (1998)\"}, {\"imdbId\": \"tt129387\", \"rating\": 3.0, \"timestamp\": 1237712921, \"title\": \"There's Something About Mary (1998)\"}, {\"imdbId\": \"tt75148\", \"rating\": 2.0, \"timestamp\": 1237713426, \"title\": \"Rocky (1976)\"}, {\"imdbId\": \"tt95953\", \"rating\": 3.5, \"timestamp\": 1237857063, \"title\": \"Rain Man (1988)\"}, {\"imdbId\": \"tt97239\", \"rating\": 2.0, \"timestamp\": 1237713417, \"title\": \"Driving Miss Daisy (1989)\"}, {\"imdbId\": \"tt65063\", \"rating\": 3.5, \"timestamp\": 1237763859, \"title\": \"Take the Money and Run (1969)\"}]\n",
      "\n",
      "###rank:\n",
      "[{\"title\": \"Rain Man (1988)\"}, {\"title\": \"Pi (1998)\"}, {\"title\": \"Take the Money and Run (1969)\"}, {\"title\": \"There's Something About Mary (1998)\"}, {\"title\": \"Man in the Iron Mask, The (1998)\"}, {\"title\": \"Can't Hardly Wait (1998)\"}, {\"title\": \"City of Angels (1998)\"}, {\"title\": \"Rocky (1976)\"}, {\"title\": \"Driving Miss Daisy (1989)\"}, {\"title\": \"Armageddon (1998)\"}]\n",
      "\n",
      "\n",
      "###instruction:\n",
      "\n",
      "I will recommend the list of movies sorted according to user ratings information. And I will show the metadata for the corresponding movie. It must return in JSON format.\n",
      "\n",
      "\n",
      "user_ratings_info:\n",
      "[{\"imdbId\": \"tt84412\", \"rating\": 4.0, \"timestamp\": 941641264, \"title\": \"Night Shift (1982)\"}, {\"imdbId\": \"tt71110\", \"rating\": 4.0, \"timestamp\": 941640394, \"title\": \"Airport 1975 (1974)\"}, {\"imdbId\": \"tt75648\", \"rating\": 5.0, \"timestamp\": 941640822, \"title\": \"Airport '77 (1977)\"}, {\"imdbId\": \"tt76636\", \"rating\": 3.0, \"timestamp\": 941640433, \"title\": \"Rollercoaster (1977)\"}, {\"imdbId\": \"tt72308\", \"rating\": 4.0, \"timestamp\": 941640714, \"title\": \"Towering Inferno, The (1974)\"}, {\"imdbId\": \"tt63442\", \"rating\": 5.0, \"timestamp\": 941729293, \"title\": \"Planet of the Apes (1968)\"}, {\"imdbId\": \"tt122933\", \"rating\": 3.0, \"timestamp\": 940420065, \"title\": \"Analyze This (1999)\"}, {\"imdbId\": \"tt139134\", \"rating\": 3.0, \"timestamp\": 940419770, \"title\": \"Cruel Intentions (1999)\"}, {\"imdbId\": \"tt120735\", \"rating\": 5.0, \"timestamp\": 940361870, \"title\": \"Lock, Stock & Two Smoking Barrels (1998)\"}, {\"imdbId\": \"tt94964\", \"rating\": 4.0, \"timestamp\": 941639928, \"title\": \"Dead Ringers (1988)\"}]\n",
      "\n",
      "###rank:\n",
      "[{\"title\": \"Planet of the Apes (1968)\"}, {\"title\": \"Airport '77 (1977)\"}, {\"title\": \"Lock, Stock & Two Smoking Barrels (1998)\"}, {\"title\": \"Night Shift (1982)\"}, {\"title\": \"Towering Inferno, The (1974)\"}, {\"title\": \"Airport 1975 (1974)\"}, {\"title\": \"Dead Ringers (1988)\"}, {\"title\": \"Rollercoaster (1977)\"}, {\"title\": \"Analyze This (1999)\"}, {\"title\": \"Cruel Intentions (1999)\"}]\n",
      "\n",
      "\n"
     ]
    }
   ],
   "source": [
    "print(eval_set[3][\"text\"])\n",
    "# print(eval_set[20][\"text\"])\n",
    "print(eval_set[120][\"text\"])"
   ]
  },
  {
   "cell_type": "code",
   "execution_count": 18,
   "metadata": {},
   "outputs": [
    {
     "name": "stdout",
     "output_type": "stream",
     "text": [
      "{\"rank\": [{\"title\": \"Stripes (1981)\"}, {\"title\": \"Kiss the Girls (1997)\"}, {\"title\": \"Scream 2 (1997)\"}, {\"title\": \"Jackal, The (1997)\"}, {\"title\": \"Starship Troopers (1997)\"}, {\"title\": \"Full Monty, The (1997)\"}, {\"title\": \"Gattaca (1997)\"}, {\"title\": \"L.A. Confidential (1997)\"}, {\"title\": \"Tomorrow Never Dies (1997)\"}, {\"title\": \"The Devil's Advocate (1997)\"}]}\n",
      "{\"rank\": [{\"title\": \"Dear Frankie (2004)\"}, {\"title\": \"Freaks (1932)\"}, {\"title\": \"Two Brothers (Deux frères) (2004)\"}, {\"title\": \"Dr. Jekyll and Mr. Hyde (1931)\"}, {\"title\": \"Anna Christie (1930)\"}, {\"title\": \"Christmas Carol, A (Scrooge) (1951)\"}, {\"title\": \"Picture of Dorian Gray, The (1945)\"}, {\"title\": \"Show Boat (1951)\"}, {\"title\": \"Please Don't Eat the Daisies (1960)\"}, {\"title\": \"Memphis Belle (1990)\"}]}\n"
     ]
    }
   ],
   "source": [
    "print(train_set[3][\"completion\"])\n",
    "# print(train_set[20][\"completion\"])\n",
    "print(train_set[120][\"completion\"])"
   ]
  },
  {
   "cell_type": "code",
   "execution_count": 19,
   "metadata": {},
   "outputs": [],
   "source": [
    "model = get_peft_model(model, peft_params)\n",
    "\n",
    "# prameter\n",
    "epochs = 3 # 10\n",
    "batch_size = 2\n",
    "lr = 2e-4\n",
    "\n",
    "training_params = TrainingArguments(\n",
    "    output_dir=\"models4\",\n",
    "    num_train_epochs=epochs,\n",
    "    per_device_train_batch_size=batch_size,\n",
    "    gradient_accumulation_steps=16,\n",
    "    optim=\"adamw_torch\",\n",
    "    save_strategy=\"epoch\",\n",
    "    evaluation_strategy=\"steps\",\n",
    "    logging_strategy=\"steps\",\n",
    "    eval_steps=20,\n",
    "    logging_steps=20,\n",
    "    learning_rate=lr,\n",
    "    weight_decay=0.001,\n",
    "    fp16=False,\n",
    "    bf16=False,\n",
    "    max_grad_norm=0.3,\n",
    "    max_steps=-1,\n",
    "    warmup_ratio=0.03,\n",
    "    group_by_length=True,\n",
    "    lr_scheduler_type=\"cosine\",\n",
    "    report_to=\"tensorboard\",\n",
    "    dataloader_num_workers=1,\n",
    ")\n"
   ]
  },
  {
   "cell_type": "code",
   "execution_count": 20,
   "metadata": {},
   "outputs": [],
   "source": [
    "# ! wandb login --relogin\n",
    "# torch.cuda.empty_cache()\n",
    "# import gc\n",
    "# gc.collect()\n",
    "# import gc\n",
    "# torch.cuda.empty_cache()\n",
    "# gc.collect()"
   ]
  },
  {
   "cell_type": "code",
   "execution_count": 21,
   "metadata": {},
   "outputs": [
    {
     "name": "stderr",
     "output_type": "stream",
     "text": [
      "/home/gpuadmin/anaconda3/envs/llm_test/lib/python3.8/site-packages/accelerate/accelerator.py:436: FutureWarning: Passing the following arguments to `Accelerator` is deprecated and will be removed in version 1.0 of Accelerate: dict_keys(['dispatch_batches', 'split_batches', 'even_batches', 'use_seedable_sampler']). Please pass an `accelerate.DataLoaderConfiguration` instead: \n",
      "dataloader_config = DataLoaderConfiguration(dispatch_batches=None, split_batches=False, even_batches=True, use_seedable_sampler=True)\n",
      "  warnings.warn(\n"
     ]
    },
    {
     "data": {
      "application/vnd.jupyter.widget-view+json": {
       "model_id": "1af8320e45414db3829d7afca071623a",
       "version_major": 2,
       "version_minor": 0
      },
      "text/plain": [
       "  0%|          | 0/849 [00:00<?, ?it/s]"
      ]
     },
     "metadata": {},
     "output_type": "display_data"
    },
    {
     "name": "stdout",
     "output_type": "stream",
     "text": [
      "{'loss': 0.9255, 'grad_norm': 0.06926549226045609, 'learning_rate': 0.00015384615384615385, 'epoch': 0.07}\n"
     ]
    },
    {
     "data": {
      "application/vnd.jupyter.widget-view+json": {
       "model_id": "482b3da2837f46598ae256734127c7a5",
       "version_major": 2,
       "version_minor": 0
      },
      "text/plain": [
       "  0%|          | 0/127 [00:00<?, ?it/s]"
      ]
     },
     "metadata": {},
     "output_type": "display_data"
    },
    {
     "name": "stdout",
     "output_type": "stream",
     "text": [
      "{'eval_loss': 0.778734564781189, 'eval_runtime': 249.3284, 'eval_samples_per_second': 4.047, 'eval_steps_per_second': 0.509, 'epoch': 0.07}\n",
      "{'loss': 0.6226, 'grad_norm': 0.041824668645858765, 'learning_rate': 0.00019985723465913057, 'epoch': 0.14}\n"
     ]
    },
    {
     "data": {
      "application/vnd.jupyter.widget-view+json": {
       "model_id": "504c963eb04546958a39b0bf0e9c7e53",
       "version_major": 2,
       "version_minor": 0
      },
      "text/plain": [
       "  0%|          | 0/127 [00:00<?, ?it/s]"
      ]
     },
     "metadata": {},
     "output_type": "display_data"
    },
    {
     "name": "stdout",
     "output_type": "stream",
     "text": [
      "{'eval_loss': 0.5262750387191772, 'eval_runtime': 249.5934, 'eval_samples_per_second': 4.043, 'eval_steps_per_second': 0.509, 'epoch': 0.14}\n",
      "{'loss': 0.5125, 'grad_norm': 0.225928395986557, 'learning_rate': 0.00019915895699076222, 'epoch': 0.21}\n"
     ]
    },
    {
     "data": {
      "application/vnd.jupyter.widget-view+json": {
       "model_id": "9fc4856372914490aebf07e155651d93",
       "version_major": 2,
       "version_minor": 0
      },
      "text/plain": [
       "  0%|          | 0/127 [00:00<?, ?it/s]"
      ]
     },
     "metadata": {},
     "output_type": "display_data"
    },
    {
     "name": "stdout",
     "output_type": "stream",
     "text": [
      "{'eval_loss': 0.548079252243042, 'eval_runtime': 249.3142, 'eval_samples_per_second': 4.047, 'eval_steps_per_second': 0.509, 'epoch': 0.21}\n",
      "{'loss': 0.572, 'grad_norm': 0.09280885756015778, 'learning_rate': 0.00019788300765977138, 'epoch': 0.28}\n"
     ]
    },
    {
     "data": {
      "application/vnd.jupyter.widget-view+json": {
       "model_id": "1cd06f1c938f46b2a0875c9054623e37",
       "version_major": 2,
       "version_minor": 0
      },
      "text/plain": [
       "  0%|          | 0/127 [00:00<?, ?it/s]"
      ]
     },
     "metadata": {},
     "output_type": "display_data"
    },
    {
     "name": "stdout",
     "output_type": "stream",
     "text": [
      "{'eval_loss': 0.5069624185562134, 'eval_runtime': 249.3519, 'eval_samples_per_second': 4.046, 'eval_steps_per_second': 0.509, 'epoch': 0.28}\n",
      "{'loss': 0.5258, 'grad_norm': 0.17636224627494812, 'learning_rate': 0.00019603681998124953, 'epoch': 0.35}\n"
     ]
    },
    {
     "data": {
      "application/vnd.jupyter.widget-view+json": {
       "model_id": "3057f7f2d19341e8b2c881c360227442",
       "version_major": 2,
       "version_minor": 0
      },
      "text/plain": [
       "  0%|          | 0/127 [00:00<?, ?it/s]"
      ]
     },
     "metadata": {},
     "output_type": "display_data"
    },
    {
     "name": "stdout",
     "output_type": "stream",
     "text": [
      "{'eval_loss': 0.5505338311195374, 'eval_runtime': 248.6127, 'eval_samples_per_second': 4.059, 'eval_steps_per_second': 0.511, 'epoch': 0.35}\n",
      "{'loss': 0.553, 'grad_norm': 0.37490931153297424, 'learning_rate': 0.00019363114931545992, 'epoch': 0.42}\n"
     ]
    },
    {
     "data": {
      "application/vnd.jupyter.widget-view+json": {
       "model_id": "b7a9dc2e25f24c21bf747ca6cd766608",
       "version_major": 2,
       "version_minor": 0
      },
      "text/plain": [
       "  0%|          | 0/127 [00:00<?, ?it/s]"
      ]
     },
     "metadata": {},
     "output_type": "display_data"
    },
    {
     "name": "stdout",
     "output_type": "stream",
     "text": [
      "{'eval_loss': 0.5625100135803223, 'eval_runtime': 248.8614, 'eval_samples_per_second': 4.054, 'eval_steps_per_second': 0.51, 'epoch': 0.42}\n",
      "{'loss': 0.5467, 'grad_norm': 0.3346288800239563, 'learning_rate': 0.00019068001041019138, 'epoch': 0.49}\n"
     ]
    },
    {
     "data": {
      "application/vnd.jupyter.widget-view+json": {
       "model_id": "ae501ce0266a4c77a30966796c997666",
       "version_major": 2,
       "version_minor": 0
      },
      "text/plain": [
       "  0%|          | 0/127 [00:00<?, ?it/s]"
      ]
     },
     "metadata": {},
     "output_type": "display_data"
    },
    {
     "name": "stdout",
     "output_type": "stream",
     "text": [
      "{'eval_loss': 0.5376761555671692, 'eval_runtime': 249.9929, 'eval_samples_per_second': 4.036, 'eval_steps_per_second': 0.508, 'epoch': 0.49}\n",
      "{'loss': 0.5416, 'grad_norm': 0.5041536092758179, 'learning_rate': 0.0001872005957548546, 'epoch': 0.56}\n"
     ]
    },
    {
     "data": {
      "application/vnd.jupyter.widget-view+json": {
       "model_id": "d482d6187f0f4269a638d32002972d0f",
       "version_major": 2,
       "version_minor": 0
      },
      "text/plain": [
       "  0%|          | 0/127 [00:00<?, ?it/s]"
      ]
     },
     "metadata": {},
     "output_type": "display_data"
    },
    {
     "name": "stdout",
     "output_type": "stream",
     "text": [
      "{'eval_loss': 0.5528645515441895, 'eval_runtime': 249.8711, 'eval_samples_per_second': 4.038, 'eval_steps_per_second': 0.508, 'epoch': 0.56}\n",
      "{'loss': 0.537, 'grad_norm': 0.3419206738471985, 'learning_rate': 0.00018321317542196645, 'epoch': 0.63}\n"
     ]
    },
    {
     "data": {
      "application/vnd.jupyter.widget-view+json": {
       "model_id": "76e54f5f40aa463181f2faa9e0fb758e",
       "version_major": 2,
       "version_minor": 0
      },
      "text/plain": [
       "  0%|          | 0/127 [00:00<?, ?it/s]"
      ]
     },
     "metadata": {},
     "output_type": "display_data"
    },
    {
     "name": "stdout",
     "output_type": "stream",
     "text": [
      "{'eval_loss': 0.5224953293800354, 'eval_runtime': 248.6948, 'eval_samples_per_second': 4.057, 'eval_steps_per_second': 0.511, 'epoch': 0.63}\n",
      "{'loss': 0.5302, 'grad_norm': 0.3017891049385071, 'learning_rate': 0.00017874097897951737, 'epoch': 0.71}\n"
     ]
    },
    {
     "data": {
      "application/vnd.jupyter.widget-view+json": {
       "model_id": "603f79c1e5c44e37b344ce08f048b6b6",
       "version_major": 2,
       "version_minor": 0
      },
      "text/plain": [
       "  0%|          | 0/127 [00:00<?, ?it/s]"
      ]
     },
     "metadata": {},
     "output_type": "display_data"
    },
    {
     "name": "stdout",
     "output_type": "stream",
     "text": [
      "{'eval_loss': 0.5277785658836365, 'eval_runtime': 248.84, 'eval_samples_per_second': 4.055, 'eval_steps_per_second': 0.51, 'epoch': 0.71}\n",
      "{'loss': 0.5277, 'grad_norm': 0.4384436011314392, 'learning_rate': 0.0001738100601621661, 'epoch': 0.78}\n"
     ]
    },
    {
     "data": {
      "application/vnd.jupyter.widget-view+json": {
       "model_id": "68382a26fd7844b28a3ecee2c220883d",
       "version_major": 2,
       "version_minor": 0
      },
      "text/plain": [
       "  0%|          | 0/127 [00:00<?, ?it/s]"
      ]
     },
     "metadata": {},
     "output_type": "display_data"
    },
    {
     "name": "stdout",
     "output_type": "stream",
     "text": [
      "{'eval_loss': 0.5270357131958008, 'eval_runtime': 249.0507, 'eval_samples_per_second': 4.051, 'eval_steps_per_second': 0.51, 'epoch': 0.78}\n",
      "{'loss': 0.5326, 'grad_norm': 0.5656489729881287, 'learning_rate': 0.00016844914508964935, 'epoch': 0.85}\n"
     ]
    },
    {
     "data": {
      "application/vnd.jupyter.widget-view+json": {
       "model_id": "5923b3e594424a4f867c006ae1cde382",
       "version_major": 2,
       "version_minor": 0
      },
      "text/plain": [
       "  0%|          | 0/127 [00:00<?, ?it/s]"
      ]
     },
     "metadata": {},
     "output_type": "display_data"
    },
    {
     "name": "stdout",
     "output_type": "stream",
     "text": [
      "{'eval_loss': 0.530788242816925, 'eval_runtime': 248.8318, 'eval_samples_per_second': 4.055, 'eval_steps_per_second': 0.51, 'epoch': 0.85}\n",
      "{'loss': 0.5316, 'grad_norm': 0.45501819252967834, 'learning_rate': 0.00016268946491664139, 'epoch': 0.92}\n"
     ]
    },
    {
     "data": {
      "application/vnd.jupyter.widget-view+json": {
       "model_id": "931aaa0de3724f27b92a6e499f94084c",
       "version_major": 2,
       "version_minor": 0
      },
      "text/plain": [
       "  0%|          | 0/127 [00:00<?, ?it/s]"
      ]
     },
     "metadata": {},
     "output_type": "display_data"
    },
    {
     "name": "stdout",
     "output_type": "stream",
     "text": [
      "{'eval_loss': 0.5305572152137756, 'eval_runtime': 249.5595, 'eval_samples_per_second': 4.043, 'eval_steps_per_second': 0.509, 'epoch': 0.92}\n",
      "{'loss': 0.5358, 'grad_norm': 0.33306074142456055, 'learning_rate': 0.00015656457388899838, 'epoch': 0.99}\n"
     ]
    },
    {
     "data": {
      "application/vnd.jupyter.widget-view+json": {
       "model_id": "ccf479a2f0344ab8bb70ecf6591dfd75",
       "version_major": 2,
       "version_minor": 0
      },
      "text/plain": [
       "  0%|          | 0/127 [00:00<?, ?it/s]"
      ]
     },
     "metadata": {},
     "output_type": "display_data"
    },
    {
     "name": "stdout",
     "output_type": "stream",
     "text": [
      "{'eval_loss': 0.5295989513397217, 'eval_runtime': 248.3519, 'eval_samples_per_second': 4.063, 'eval_steps_per_second': 0.511, 'epoch': 0.99}\n",
      "{'loss': 0.5275, 'grad_norm': 0.45929309725761414, 'learning_rate': 0.00015011015386633952, 'epoch': 1.06}\n"
     ]
    },
    {
     "data": {
      "application/vnd.jupyter.widget-view+json": {
       "model_id": "43129bf797474abfb1e3c44559821413",
       "version_major": 2,
       "version_minor": 0
      },
      "text/plain": [
       "  0%|          | 0/127 [00:00<?, ?it/s]"
      ]
     },
     "metadata": {},
     "output_type": "display_data"
    },
    {
     "name": "stdout",
     "output_type": "stream",
     "text": [
      "{'eval_loss': 0.5246859788894653, 'eval_runtime': 249.2739, 'eval_samples_per_second': 4.048, 'eval_steps_per_second': 0.509, 'epoch': 1.06}\n",
      "{'loss': 0.533, 'grad_norm': 0.4511389434337616, 'learning_rate': 0.00014336380644975965, 'epoch': 1.13}\n"
     ]
    },
    {
     "data": {
      "application/vnd.jupyter.widget-view+json": {
       "model_id": "eb44ff3fd0814dfea82d76fd568391e4",
       "version_major": 2,
       "version_minor": 0
      },
      "text/plain": [
       "  0%|          | 0/127 [00:00<?, ?it/s]"
      ]
     },
     "metadata": {},
     "output_type": "display_data"
    },
    {
     "name": "stdout",
     "output_type": "stream",
     "text": [
      "{'eval_loss': 0.5338025093078613, 'eval_runtime': 249.5665, 'eval_samples_per_second': 4.043, 'eval_steps_per_second': 0.509, 'epoch': 1.13}\n",
      "{'loss': 0.5281, 'grad_norm': 0.4740593731403351, 'learning_rate': 0.00013636483392567885, 'epoch': 1.2}\n"
     ]
    },
    {
     "data": {
      "application/vnd.jupyter.widget-view+json": {
       "model_id": "7759fee54a49492eba902e10f3f6367a",
       "version_major": 2,
       "version_minor": 0
      },
      "text/plain": [
       "  0%|          | 0/127 [00:00<?, ?it/s]"
      ]
     },
     "metadata": {},
     "output_type": "display_data"
    },
    {
     "name": "stdout",
     "output_type": "stream",
     "text": [
      "{'eval_loss': 0.5212991833686829, 'eval_runtime': 247.9202, 'eval_samples_per_second': 4.07, 'eval_steps_per_second': 0.512, 'epoch': 1.2}\n",
      "{'loss': 0.524, 'grad_norm': 0.4726092517375946, 'learning_rate': 0.0001291540103019864, 'epoch': 1.27}\n"
     ]
    },
    {
     "data": {
      "application/vnd.jupyter.widget-view+json": {
       "model_id": "ba2800f90b67428b9d07b7827a8e9bd2",
       "version_major": 2,
       "version_minor": 0
      },
      "text/plain": [
       "  0%|          | 0/127 [00:00<?, ?it/s]"
      ]
     },
     "metadata": {},
     "output_type": "display_data"
    },
    {
     "name": "stdout",
     "output_type": "stream",
     "text": [
      "{'eval_loss': 0.5177518725395203, 'eval_runtime': 249.7152, 'eval_samples_per_second': 4.041, 'eval_steps_per_second': 0.509, 'epoch': 1.27}\n",
      "{'loss': 0.5288, 'grad_norm': 0.41126519441604614, 'learning_rate': 0.00012177334377035738, 'epoch': 1.34}\n"
     ]
    },
    {
     "data": {
      "application/vnd.jupyter.widget-view+json": {
       "model_id": "b26704e192e3456caed332f3658bc82f",
       "version_major": 2,
       "version_minor": 0
      },
      "text/plain": [
       "  0%|          | 0/127 [00:00<?, ?it/s]"
      ]
     },
     "metadata": {},
     "output_type": "display_data"
    },
    {
     "name": "stdout",
     "output_type": "stream",
     "text": [
      "{'eval_loss': 0.5287211537361145, 'eval_runtime': 248.1905, 'eval_samples_per_second': 4.065, 'eval_steps_per_second': 0.512, 'epoch': 1.34}\n",
      "{'loss': 0.5237, 'grad_norm': 0.344573050737381, 'learning_rate': 0.00011426583197856858, 'epoch': 1.41}\n"
     ]
    },
    {
     "data": {
      "application/vnd.jupyter.widget-view+json": {
       "model_id": "eb2909d6b83b4b2f8011bd41c388a331",
       "version_major": 2,
       "version_minor": 0
      },
      "text/plain": [
       "  0%|          | 0/127 [00:00<?, ?it/s]"
      ]
     },
     "metadata": {},
     "output_type": "display_data"
    },
    {
     "name": "stdout",
     "output_type": "stream",
     "text": [
      "{'eval_loss': 0.524730920791626, 'eval_runtime': 248.8127, 'eval_samples_per_second': 4.055, 'eval_steps_per_second': 0.51, 'epoch': 1.41}\n",
      "{'loss': 0.5193, 'grad_norm': 0.4054540991783142, 'learning_rate': 0.00010667521153852603, 'epoch': 1.48}\n"
     ]
    },
    {
     "data": {
      "application/vnd.jupyter.widget-view+json": {
       "model_id": "c084fefd78cd4b1e8154da3d876cedf6",
       "version_major": 2,
       "version_minor": 0
      },
      "text/plain": [
       "  0%|          | 0/127 [00:00<?, ?it/s]"
      ]
     },
     "metadata": {},
     "output_type": "display_data"
    },
    {
     "name": "stdout",
     "output_type": "stream",
     "text": [
      "{'eval_loss': 0.5197791457176208, 'eval_runtime': 248.1501, 'eval_samples_per_second': 4.066, 'eval_steps_per_second': 0.512, 'epoch': 1.48}\n",
      "{'loss': 0.5199, 'grad_norm': 0.4130566716194153, 'learning_rate': 9.904570322930005e-05, 'epoch': 1.55}\n"
     ]
    },
    {
     "data": {
      "application/vnd.jupyter.widget-view+json": {
       "model_id": "2dbfbca938eb470faea5413a01297c0b",
       "version_major": 2,
       "version_minor": 0
      },
      "text/plain": [
       "  0%|          | 0/127 [00:00<?, ?it/s]"
      ]
     },
     "metadata": {},
     "output_type": "display_data"
    },
    {
     "name": "stdout",
     "output_type": "stream",
     "text": [
      "{'eval_loss': 0.5198831558227539, 'eval_runtime': 249.0156, 'eval_samples_per_second': 4.052, 'eval_steps_per_second': 0.51, 'epoch': 1.55}\n",
      "{'loss': 0.5194, 'grad_norm': 0.42987921833992004, 'learning_rate': 9.142175437954095e-05, 'epoch': 1.62}\n"
     ]
    },
    {
     "data": {
      "application/vnd.jupyter.widget-view+json": {
       "model_id": "2139478eb0e547f89574be774a9c698f",
       "version_major": 2,
       "version_minor": 0
      },
      "text/plain": [
       "  0%|          | 0/127 [00:00<?, ?it/s]"
      ]
     },
     "metadata": {},
     "output_type": "display_data"
    },
    {
     "name": "stdout",
     "output_type": "stream",
     "text": [
      "{'eval_loss': 0.5189334154129028, 'eval_runtime': 248.6493, 'eval_samples_per_second': 4.058, 'eval_steps_per_second': 0.511, 'epoch': 1.62}\n",
      "{'loss': 0.5189, 'grad_norm': 0.49171626567840576, 'learning_rate': 8.384777993008154e-05, 'epoch': 1.69}\n"
     ]
    },
    {
     "data": {
      "application/vnd.jupyter.widget-view+json": {
       "model_id": "fac10fa74ca2423fb6785c76ef701e00",
       "version_major": 2,
       "version_minor": 0
      },
      "text/plain": [
       "  0%|          | 0/127 [00:00<?, ?it/s]"
      ]
     },
     "metadata": {},
     "output_type": "display_data"
    },
    {
     "name": "stdout",
     "output_type": "stream",
     "text": [
      "{'eval_loss': 0.5171422958374023, 'eval_runtime': 248.5238, 'eval_samples_per_second': 4.06, 'eval_steps_per_second': 0.511, 'epoch': 1.69}\n",
      "{'loss': 0.5154, 'grad_norm': 0.47523167729377747, 'learning_rate': 7.636790368522208e-05, 'epoch': 1.76}\n"
     ]
    },
    {
     "data": {
      "application/vnd.jupyter.widget-view+json": {
       "model_id": "bd16c6e615a143db8c689bc6ffc33ea5",
       "version_major": 2,
       "version_minor": 0
      },
      "text/plain": [
       "  0%|          | 0/127 [00:00<?, ?it/s]"
      ]
     },
     "metadata": {},
     "output_type": "display_data"
    },
    {
     "name": "stdout",
     "output_type": "stream",
     "text": [
      "{'eval_loss': 0.5138224959373474, 'eval_runtime': 248.4996, 'eval_samples_per_second': 4.06, 'eval_steps_per_second': 0.511, 'epoch': 1.76}\n",
      "{'loss': 0.5138, 'grad_norm': 0.613248884677887, 'learning_rate': 6.90257012600931e-05, 'epoch': 1.83}\n"
     ]
    },
    {
     "data": {
      "application/vnd.jupyter.widget-view+json": {
       "model_id": "c77453b0f7bb4c4d8a6ff79b1d67a64d",
       "version_major": 2,
       "version_minor": 0
      },
      "text/plain": [
       "  0%|          | 0/127 [00:00<?, ?it/s]"
      ]
     },
     "metadata": {},
     "output_type": "display_data"
    },
    {
     "name": "stdout",
     "output_type": "stream",
     "text": [
      "{'eval_loss': 0.5144971013069153, 'eval_runtime': 249.6028, 'eval_samples_per_second': 4.042, 'eval_steps_per_second': 0.509, 'epoch': 1.83}\n",
      "{'loss': 0.5201, 'grad_norm': 0.53241366147995, 'learning_rate': 6.186394622161136e-05, 'epoch': 1.9}\n"
     ]
    },
    {
     "data": {
      "application/vnd.jupyter.widget-view+json": {
       "model_id": "97cc7acd9f63499a8b501110dd00ffbe",
       "version_major": 2,
       "version_minor": 0
      },
      "text/plain": [
       "  0%|          | 0/127 [00:00<?, ?it/s]"
      ]
     },
     "metadata": {},
     "output_type": "display_data"
    },
    {
     "name": "stdout",
     "output_type": "stream",
     "text": [
      "{'eval_loss': 0.5132696032524109, 'eval_runtime': 248.0642, 'eval_samples_per_second': 4.067, 'eval_steps_per_second': 0.512, 'epoch': 1.9}\n",
      "{'loss': 0.519, 'grad_norm': 0.6743530035018921, 'learning_rate': 5.4924360901938574e-05, 'epoch': 1.97}\n"
     ]
    },
    {
     "data": {
      "application/vnd.jupyter.widget-view+json": {
       "model_id": "6be10e1fae9b40fe9b503f663b714bb2",
       "version_major": 2,
       "version_minor": 0
      },
      "text/plain": [
       "  0%|          | 0/127 [00:00<?, ?it/s]"
      ]
     },
     "metadata": {},
     "output_type": "display_data"
    },
    {
     "name": "stdout",
     "output_type": "stream",
     "text": [
      "{'eval_loss': 0.514718234539032, 'eval_runtime': 249.5705, 'eval_samples_per_second': 4.043, 'eval_steps_per_second': 0.509, 'epoch': 1.97}\n",
      "{'loss': 0.5146, 'grad_norm': 0.474791944026947, 'learning_rate': 4.8247373336132565e-05, 'epoch': 2.04}\n"
     ]
    },
    {
     "data": {
      "application/vnd.jupyter.widget-view+json": {
       "model_id": "48ef11d07ac546ec925446115891c303",
       "version_major": 2,
       "version_minor": 0
      },
      "text/plain": [
       "  0%|          | 0/127 [00:00<?, ?it/s]"
      ]
     },
     "metadata": {},
     "output_type": "display_data"
    },
    {
     "name": "stdout",
     "output_type": "stream",
     "text": [
      "{'eval_loss': 0.5144819617271423, 'eval_runtime': 247.826, 'eval_samples_per_second': 4.071, 'eval_steps_per_second': 0.512, 'epoch': 2.04}\n",
      "{'loss': 0.5127, 'grad_norm': 0.8057679533958435, 'learning_rate': 4.187188174000262e-05, 'epoch': 2.12}\n"
     ]
    },
    {
     "data": {
      "application/vnd.jupyter.widget-view+json": {
       "model_id": "c5353dbc97af4e34a4991c6d5db3b73f",
       "version_major": 2,
       "version_minor": 0
      },
      "text/plain": [
       "  0%|          | 0/127 [00:00<?, ?it/s]"
      ]
     },
     "metadata": {},
     "output_type": "display_data"
    },
    {
     "name": "stdout",
     "output_type": "stream",
     "text": [
      "{'eval_loss': 0.5150749683380127, 'eval_runtime': 249.3207, 'eval_samples_per_second': 4.047, 'eval_steps_per_second': 0.509, 'epoch': 2.12}\n",
      "{'loss': 0.5139, 'grad_norm': 0.6454542875289917, 'learning_rate': 3.5835027900253036e-05, 'epoch': 2.19}\n"
     ]
    },
    {
     "data": {
      "application/vnd.jupyter.widget-view+json": {
       "model_id": "45066f048a884870aae5f1e9d3ed22ff",
       "version_major": 2,
       "version_minor": 0
      },
      "text/plain": [
       "  0%|          | 0/127 [00:00<?, ?it/s]"
      ]
     },
     "metadata": {},
     "output_type": "display_data"
    },
    {
     "name": "stdout",
     "output_type": "stream",
     "text": [
      "{'eval_loss': 0.5144269466400146, 'eval_runtime': 247.8562, 'eval_samples_per_second': 4.071, 'eval_steps_per_second': 0.512, 'epoch': 2.19}\n",
      "{'loss': 0.5122, 'grad_norm': 0.39943647384643555, 'learning_rate': 3.017198079707937e-05, 'epoch': 2.26}\n"
     ]
    },
    {
     "data": {
      "application/vnd.jupyter.widget-view+json": {
       "model_id": "e16b566397944229b8b7fc78b87c9b07",
       "version_major": 2,
       "version_minor": 0
      },
      "text/plain": [
       "  0%|          | 0/127 [00:00<?, ?it/s]"
      ]
     },
     "metadata": {},
     "output_type": "display_data"
    },
    {
     "name": "stdout",
     "output_type": "stream",
     "text": [
      "{'eval_loss': 0.512395977973938, 'eval_runtime': 249.4854, 'eval_samples_per_second': 4.044, 'eval_steps_per_second': 0.509, 'epoch': 2.26}\n",
      "{'loss': 0.5155, 'grad_norm': 0.337104469537735, 'learning_rate': 2.491573171976982e-05, 'epoch': 2.33}\n"
     ]
    },
    {
     "data": {
      "application/vnd.jupyter.widget-view+json": {
       "model_id": "2bb25e82ba18471983b8a353cca8840a",
       "version_major": 2,
       "version_minor": 0
      },
      "text/plain": [
       "  0%|          | 0/127 [00:00<?, ?it/s]"
      ]
     },
     "metadata": {},
     "output_type": "display_data"
    },
    {
     "name": "stdout",
     "output_type": "stream",
     "text": [
      "{'eval_loss': 0.5115202069282532, 'eval_runtime': 247.754, 'eval_samples_per_second': 4.073, 'eval_steps_per_second': 0.513, 'epoch': 2.33}\n",
      "{'loss': 0.5118, 'grad_norm': 0.39392998814582825, 'learning_rate': 2.009690206890984e-05, 'epoch': 2.4}\n"
     ]
    },
    {
     "data": {
      "application/vnd.jupyter.widget-view+json": {
       "model_id": "5391d1916e174e16b94f0c1b3f8e929d",
       "version_major": 2,
       "version_minor": 0
      },
      "text/plain": [
       "  0%|          | 0/127 [00:00<?, ?it/s]"
      ]
     },
     "metadata": {},
     "output_type": "display_data"
    },
    {
     "name": "stdout",
     "output_type": "stream",
     "text": [
      "{'eval_loss': 0.5106320381164551, 'eval_runtime': 249.4421, 'eval_samples_per_second': 4.045, 'eval_steps_per_second': 0.509, 'epoch': 2.4}\n",
      "{'loss': 0.51, 'grad_norm': 0.33971506357192993, 'learning_rate': 1.5743564964878867e-05, 'epoch': 2.47}\n"
     ]
    },
    {
     "data": {
      "application/vnd.jupyter.widget-view+json": {
       "model_id": "32a13b698ea54020b10955589f6b2f50",
       "version_major": 2,
       "version_minor": 0
      },
      "text/plain": [
       "  0%|          | 0/127 [00:00<?, ?it/s]"
      ]
     },
     "metadata": {},
     "output_type": "display_data"
    },
    {
     "name": "stdout",
     "output_type": "stream",
     "text": [
      "{'eval_loss': 0.5127219557762146, 'eval_runtime': 248.0631, 'eval_samples_per_second': 4.068, 'eval_steps_per_second': 0.512, 'epoch': 2.47}\n",
      "{'loss': 0.5092, 'grad_norm': 0.3647410571575165, 'learning_rate': 1.1881081701897445e-05, 'epoch': 2.54}\n"
     ]
    },
    {
     "data": {
      "application/vnd.jupyter.widget-view+json": {
       "model_id": "f385536251114bd6b7b2b0fd09cfc68b",
       "version_major": 2,
       "version_minor": 0
      },
      "text/plain": [
       "  0%|          | 0/127 [00:00<?, ?it/s]"
      ]
     },
     "metadata": {},
     "output_type": "display_data"
    },
    {
     "name": "stdout",
     "output_type": "stream",
     "text": [
      "{'eval_loss': 0.5091394186019897, 'eval_runtime': 248.8715, 'eval_samples_per_second': 4.054, 'eval_steps_per_second': 0.51, 'epoch': 2.54}\n",
      "{'loss': 0.5132, 'grad_norm': 0.36646437644958496, 'learning_rate': 8.531954000395991e-06, 'epoch': 2.61}\n"
     ]
    },
    {
     "data": {
      "application/vnd.jupyter.widget-view+json": {
       "model_id": "ddf77b4dd6554fe0b39c96026f819530",
       "version_major": 2,
       "version_minor": 0
      },
      "text/plain": [
       "  0%|          | 0/127 [00:00<?, ?it/s]"
      ]
     },
     "metadata": {},
     "output_type": "display_data"
    },
    {
     "name": "stdout",
     "output_type": "stream",
     "text": [
      "{'eval_loss': 0.5095083117485046, 'eval_runtime': 248.9181, 'eval_samples_per_second': 4.054, 'eval_steps_per_second': 0.51, 'epoch': 2.61}\n",
      "{'loss': 0.5069, 'grad_norm': 0.24490810930728912, 'learning_rate': 5.715692918441029e-06, 'epoch': 2.68}\n"
     ]
    },
    {
     "data": {
      "application/vnd.jupyter.widget-view+json": {
       "model_id": "db39ac0b2bc54383863de7063232f59b",
       "version_major": 2,
       "version_minor": 0
      },
      "text/plain": [
       "  0%|          | 0/127 [00:00<?, ?it/s]"
      ]
     },
     "metadata": {},
     "output_type": "display_data"
    },
    {
     "name": "stdout",
     "output_type": "stream",
     "text": [
      "{'eval_loss': 0.5109763741493225, 'eval_runtime': 248.4894, 'eval_samples_per_second': 4.061, 'eval_steps_per_second': 0.511, 'epoch': 2.68}\n",
      "{'loss': 0.5073, 'grad_norm': 0.3613625466823578, 'learning_rate': 3.4487051859031004e-06, 'epoch': 2.75}\n"
     ]
    },
    {
     "data": {
      "application/vnd.jupyter.widget-view+json": {
       "model_id": "df4344a1d89e4ea1801f21f8ce5c8a34",
       "version_major": 2,
       "version_minor": 0
      },
      "text/plain": [
       "  0%|          | 0/127 [00:00<?, ?it/s]"
      ]
     },
     "metadata": {},
     "output_type": "display_data"
    },
    {
     "name": "stdout",
     "output_type": "stream",
     "text": [
      "{'eval_loss': 0.5097142457962036, 'eval_runtime': 248.4888, 'eval_samples_per_second': 4.061, 'eval_steps_per_second': 0.511, 'epoch': 2.75}\n",
      "{'loss': 0.5051, 'grad_norm': 0.24776563048362732, 'learning_rate': 1.7441976235509917e-06, 'epoch': 2.82}\n"
     ]
    },
    {
     "data": {
      "application/vnd.jupyter.widget-view+json": {
       "model_id": "e99c43be3ac64df795b41a009011fd2c",
       "version_major": 2,
       "version_minor": 0
      },
      "text/plain": [
       "  0%|          | 0/127 [00:00<?, ?it/s]"
      ]
     },
     "metadata": {},
     "output_type": "display_data"
    },
    {
     "name": "stdout",
     "output_type": "stream",
     "text": [
      "{'eval_loss': 0.5102279186248779, 'eval_runtime': 249.1751, 'eval_samples_per_second': 4.049, 'eval_steps_per_second': 0.51, 'epoch': 2.82}\n",
      "{'loss': 0.5126, 'grad_norm': 0.19754429161548615, 'learning_rate': 6.12100203899335e-07, 'epoch': 2.89}\n"
     ]
    },
    {
     "data": {
      "application/vnd.jupyter.widget-view+json": {
       "model_id": "38608a75884341db9530826113b1e0a7",
       "version_major": 2,
       "version_minor": 0
      },
      "text/plain": [
       "  0%|          | 0/127 [00:00<?, ?it/s]"
      ]
     },
     "metadata": {},
     "output_type": "display_data"
    },
    {
     "name": "stdout",
     "output_type": "stream",
     "text": [
      "{'eval_loss': 0.5098575353622437, 'eval_runtime': 248.2058, 'eval_samples_per_second': 4.065, 'eval_steps_per_second': 0.512, 'epoch': 2.89}\n",
      "{'loss': 0.5135, 'grad_norm': 0.21717651188373566, 'learning_rate': 5.900820203481594e-08, 'epoch': 2.96}\n"
     ]
    },
    {
     "data": {
      "application/vnd.jupyter.widget-view+json": {
       "model_id": "b37d0dc9e2114eef83bded912feb83c9",
       "version_major": 2,
       "version_minor": 0
      },
      "text/plain": [
       "  0%|          | 0/127 [00:00<?, ?it/s]"
      ]
     },
     "metadata": {},
     "output_type": "display_data"
    },
    {
     "name": "stdout",
     "output_type": "stream",
     "text": [
      "{'eval_loss': 0.5097571611404419, 'eval_runtime': 249.7982, 'eval_samples_per_second': 4.039, 'eval_steps_per_second': 0.508, 'epoch': 2.96}\n",
      "{'train_runtime': 34593.2217, 'train_samples_per_second': 0.787, 'train_steps_per_second': 0.025, 'train_loss': 0.5345927902329516, 'epoch': 2.99}\n"
     ]
    },
    {
     "data": {
      "text/plain": [
       "TrainOutput(global_step=849, training_loss=0.5345927902329516, metrics={'train_runtime': 34593.2217, 'train_samples_per_second': 0.787, 'train_steps_per_second': 0.025, 'train_loss': 0.5345927902329516, 'epoch': 2.99})"
      ]
     },
     "execution_count": 21,
     "metadata": {},
     "output_type": "execute_result"
    }
   ],
   "source": [
    "import transformers\n",
    "import warnings\n",
    "warnings.filterwarnings(\"ignore\", category=UserWarning)\n",
    "\n",
    "trainer = Trainer(\n",
    "    model=model,\n",
    "    args=training_params,\n",
    "    train_dataset=train_set,\n",
    "    eval_dataset=eval_set,\n",
    "    tokenizer=tokenizer,\n",
    "    data_collator=transformers.DataCollatorForLanguageModeling(tokenizer, mlm=False),\n",
    ")\n",
    "\n",
    "trainer.train()"
   ]
  },
  {
   "cell_type": "code",
   "execution_count": 22,
   "metadata": {},
   "outputs": [
    {
     "data": {
      "text/plain": [
       "Launching TensorBoard..."
      ]
     },
     "metadata": {},
     "output_type": "display_data"
    }
   ],
   "source": [
    "from tensorboard import notebook\n",
    "log_dir = \"./models4\" \n",
    "notebook.start(\"--logdir {} --port 4000\".format(log_dir))"
   ]
  },
  {
   "cell_type": "code",
   "execution_count": 23,
   "metadata": {},
   "outputs": [],
   "source": [
    "instruction = \"I will recommend the list of movies sorted according to user ratings information. And I will show the metadata for the corresponding movie. It must return in JSON format.\"\n",
    "\n",
    "user_ratings_str = [{\"imdbId\": \"tt199725\", \"rating\": 3.0, \"timestamp\": 1044311397, \"title\": \"Love and Basketball (2000)\"}, {\"imdbId\": \"tt171359\", \"rating\": 3.0, \"timestamp\": 1044311426, \"title\": \"Hamlet (2000)\"}, {\"imdbId\": \"tt187393\", \"rating\": 3.0, \"timestamp\": 1044311108, \"title\": \"Patriot, The (2000)\"}, {\"imdbId\": \"tt181875\", \"rating\": 4.0, \"timestamp\": 1044311358, \"title\": \"Almost Famous (2000)\"}, {\"imdbId\": \"tt180093\", \"rating\": 5.0, \"timestamp\": 1044311310, \"title\": \"Requiem for a Dream (2000)\"}, {\"imdbId\": \"tt120917\", \"rating\": 4.0, \"timestamp\": 1044311744, \"title\": \"Emperor's New Groove, The (2000)\"}, {\"imdbId\": \"tt181865\", \"rating\": 5.0, \"timestamp\": 1044311310, \"title\": \"Traffic (2000)\"}, {\"imdbId\": \"tt209144\", \"rating\": 5.0, \"timestamp\": 1044311318, \"title\": \"Memento (2000)\"}, {\"imdbId\": \"tt125022\", \"rating\": 2.0, \"timestamp\": 1044311195, \"title\": \"Heartbreakers (2001)\"}, {\"imdbId\": \"tt203009\", \"rating\": 4.0, \"timestamp\": 1044311949, \"title\": \"Moulin Rouge (2001)\"}]\n",
    "\n",
    "# order_list_str=[\"tt118971\", \"tt118883\", \"tt120102\", \"tt119488\", \"tt118884\", \"tt119345\", \"tt119174\", \"tt120177\", \"tt118842\", \"tt120399\"]"
   ]
  },
  {
   "cell_type": "code",
   "execution_count": 25,
   "metadata": {},
   "outputs": [
    {
     "name": "stdout",
     "output_type": "stream",
     "text": [
      "<s> \n",
      "###instruction:\n",
      "I will recommend the list of movies sorted according to user ratings information. And I will show the metadata for the corresponding movie. It must return in JSON format.\n",
      "\n",
      "\n",
      "user_ratings_info:\n",
      "[{'imdbId': 'tt199725', 'rating': 3.0, 'timestamp': 1044311397, 'title': 'Love and Basketball (2000)'}, {'imdbId': 'tt171359', 'rating': 3.0, 'timestamp': 1044311426, 'title': 'Hamlet (2000)'}, {'imdbId': 'tt187393', 'rating': 3.0, 'timestamp': 1044311108, 'title': 'Patriot, The (2000)'}, {'imdbId': 'tt181875', 'rating': 4.0, 'timestamp': 1044311358, 'title': 'Almost Famous (2000)'}, {'imdbId': 'tt180093', 'rating': 5.0, 'timestamp': 1044311310, 'title': 'Requiem for a Dream (2000)'}, {'imdbId': 'tt120917', 'rating': 4.0, 'timestamp': 1044311744, 'title': \"Emperor's New Groove, The (2000)\"}, {'imdbId': 'tt181865', 'rating': 5.0, 'timestamp': 1044311310, 'title': 'Traffic (2000)'}, {'imdbId': 'tt209144', 'rating': 5.0, 'timestamp': 1044311318, 'title': 'Memento (2000)'}, {'imdbId': 'tt125022', 'rating': 2.0, 'timestamp': 1044311195, 'title': 'Heartbreakers (2001)'}, {'imdbId': 'tt203009', 'rating': 4.0, 'timestamp': 1044311949, 'title': 'Moulin Rouge (2001)'}]\n",
      "\n",
      "\n",
      "\":db\":DB\":\":\":db\":dbsix\":\":\":DB\":\":\":­db\":\":\":\":db\":\":\":DB\":db\":\":db\":\":️\":db\":\":A\":':\":\":\":\":\":\":db\":db\":db\":\":dbdbdb﻿\":️\":\":­db\":\":\":\":\":\":db\":\":\":\":\":db\":\":\":\":\":db\":db\":\":﻿\":\":\":db\":\":\":\":\":\":\":\":\":db\":\":\":\":\":db\":db\":\":\":\":\":\":\":\":\":db\":\":\":\":\":\":\":\":\":\":\":\":\":\":\":\":\":\":\":\":\":\":\":\":\":\":\":\":\":\":\":\":\":\":\":\":\":\":\":\":\":\":\":\":\":\":\":\":\":\":\":\":\":\":\":\":\":\":\":\":\":\":\":\":\":\":\":\":\":\":\":\":\":\":\":\":\":\":\":\":\":\":\":\":\":\":\":\":\":\":\":\":\":\":\":\":\":\":\":\":\":\":\":\":\":\":\":\":\":\":\":\":\":\":\":\":\":\":\":\":\":\":\":\":\":\":\":\":\":\":\":\":\":\n"
     ]
    }
   ],
   "source": [
    "# ###instruction:\n",
    "# {instruction}\n",
    "\n",
    "text = f'''\n",
    "###instruction:\n",
    "{instruction}\n",
    "\n",
    "\n",
    "user_ratings_info:\n",
    "{user_ratings_str}\n",
    "\n",
    "\n",
    "'''\n",
    "inputs = tokenizer(text, return_tensors=\"pt\").to(\"cuda\")\n",
    "outputs = model.generate(\n",
    "    input_ids=inputs[\"input_ids\"].to(\"cuda\"), \n",
    "    attention_mask=inputs[\"attention_mask\"], \n",
    "    max_new_tokens=256,\n",
    "    early_stopping=True,\n",
    "    pad_token_id=tokenizer.eos_token_id\n",
    ")\n",
    "output = tokenizer.decode(outputs[0])\n",
    "print(output)\n"
   ]
  },
  {
   "cell_type": "code",
   "execution_count": null,
   "metadata": {},
   "outputs": [],
   "source": []
  }
 ],
 "metadata": {
  "kernelspec": {
   "display_name": "llm_rec_test",
   "language": "python",
   "name": "python3"
  },
  "language_info": {
   "codemirror_mode": {
    "name": "ipython",
    "version": 3
   },
   "file_extension": ".py",
   "mimetype": "text/x-python",
   "name": "python",
   "nbconvert_exporter": "python",
   "pygments_lexer": "ipython3",
   "version": "3.8.19"
  }
 },
 "nbformat": 4,
 "nbformat_minor": 2
}
