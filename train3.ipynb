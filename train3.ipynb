{
 "cells": [
  {
   "cell_type": "code",
   "execution_count": 1,
   "metadata": {},
   "outputs": [
    {
     "name": "stderr",
     "output_type": "stream",
     "text": [
      "2024-04-17 23:36:21.332751: I tensorflow/core/platform/cpu_feature_guard.cc:193] This TensorFlow binary is optimized with oneAPI Deep Neural Network Library (oneDNN) to use the following CPU instructions in performance-critical operations:  AVX2 AVX512F AVX512_VNNI FMA\n",
      "To enable them in other operations, rebuild TensorFlow with the appropriate compiler flags.\n",
      "2024-04-17 23:36:21.438877: I tensorflow/core/util/port.cc:104] oneDNN custom operations are on. You may see slightly different numerical results due to floating-point round-off errors from different computation orders. To turn them off, set the environment variable `TF_ENABLE_ONEDNN_OPTS=0`.\n",
      "2024-04-17 23:36:21.917713: W tensorflow/compiler/xla/stream_executor/platform/default/dso_loader.cc:64] Could not load dynamic library 'libnvinfer.so.7'; dlerror: libnvinfer.so.7: cannot open shared object file: No such file or directory; LD_LIBRARY_PATH: /usr/local/cuda/lib64:\n",
      "2024-04-17 23:36:21.917767: W tensorflow/compiler/xla/stream_executor/platform/default/dso_loader.cc:64] Could not load dynamic library 'libnvinfer_plugin.so.7'; dlerror: libnvinfer_plugin.so.7: cannot open shared object file: No such file or directory; LD_LIBRARY_PATH: /usr/local/cuda/lib64:\n",
      "2024-04-17 23:36:21.917772: W tensorflow/compiler/tf2tensorrt/utils/py_utils.cc:38] TF-TRT Warning: Cannot dlopen some TensorRT libraries. If you would like to use Nvidia GPU with TensorRT, please make sure the missing libraries mentioned above are installed properly.\n"
     ]
    }
   ],
   "source": [
    "import torch\n",
    "from transformers import (\n",
    "    AutoModelForCausalLM,\n",
    "    LlamaTokenizerFast,\n",
    "    TrainingArguments,\n",
    "    Trainer,\n",
    "    BitsAndBytesConfig,\n",
    ")\n",
    "from peft import (\n",
    "    LoraConfig,\n",
    "    get_peft_model,\n",
    ")"
   ]
  },
  {
   "cell_type": "code",
   "execution_count": 2,
   "metadata": {},
   "outputs": [],
   "source": [
    "# https://huggingface.co/meta-llama/Llama-2-7b-hf\n",
    "# base_model = \"meta-llama/Llama-2-7b-hf\"\n",
    "base_model = \"TinyPixel/Llama-2-7B-bf16-sharded\""
   ]
  },
  {
   "cell_type": "code",
   "execution_count": 3,
   "metadata": {},
   "outputs": [],
   "source": [
    "# # Fine-tuned model\n",
    "# new_model = \"llama-2-7b-hf-fine-tuned-test1\""
   ]
  },
  {
   "cell_type": "code",
   "execution_count": 3,
   "metadata": {},
   "outputs": [],
   "source": [
    "# QLoRA 모델을 사용하기 위한 설정\n",
    "\n",
    "bnb_config = BitsAndBytesConfig(\n",
    "    load_in_4bit=True,\n",
    "    bnb_4bit_use_double_quant=True,\n",
    "    bnb_4bit_quant_type=\"nf4\",\n",
    "    bnb_4bit_compute_dtype=torch.bfloat16 \n",
    ")\n",
    "\n"
   ]
  },
  {
   "cell_type": "code",
   "execution_count": 4,
   "metadata": {},
   "outputs": [
    {
     "data": {
      "application/vnd.jupyter.widget-view+json": {
       "model_id": "b8f88e4b7fcf4b13889be3bb924b0c28",
       "version_major": 2,
       "version_minor": 0
      },
      "text/plain": [
       "Loading checkpoint shards:   0%|          | 0/14 [00:00<?, ?it/s]"
      ]
     },
     "metadata": {},
     "output_type": "display_data"
    }
   ],
   "source": [
    "# 라마2 모델 불러오기\n",
    "model = AutoModelForCausalLM.from_pretrained(\n",
    "    base_model,\n",
    "    quantization_config=bnb_config,\n",
    "    device_map=\"auto\",\n",
    ")\n",
    "model.config.use_cache = False\n",
    "model.config.pretraining_tp = 1"
   ]
  },
  {
   "cell_type": "code",
   "execution_count": 5,
   "metadata": {},
   "outputs": [
    {
     "data": {
      "application/vnd.jupyter.widget-view+json": {
       "model_id": "16a89358791c4ebdaba651f8ebb7e00b",
       "version_major": 2,
       "version_minor": 0
      },
      "text/plain": [
       "tokenizer_config.json:   0%|          | 0.00/676 [00:00<?, ?B/s]"
      ]
     },
     "metadata": {},
     "output_type": "display_data"
    },
    {
     "data": {
      "application/vnd.jupyter.widget-view+json": {
       "model_id": "5c3ad0b043fe4a76bbc26af8aff6b9b3",
       "version_major": 2,
       "version_minor": 0
      },
      "text/plain": [
       "tokenizer.model:   0%|          | 0.00/500k [00:00<?, ?B/s]"
      ]
     },
     "metadata": {},
     "output_type": "display_data"
    },
    {
     "data": {
      "application/vnd.jupyter.widget-view+json": {
       "model_id": "0b5f7f236e1544078eb86c75c2692ff5",
       "version_major": 2,
       "version_minor": 0
      },
      "text/plain": [
       "tokenizer.json:   0%|          | 0.00/1.84M [00:00<?, ?B/s]"
      ]
     },
     "metadata": {},
     "output_type": "display_data"
    },
    {
     "data": {
      "application/vnd.jupyter.widget-view+json": {
       "model_id": "b478628fc27743be8b37831fa2662d3d",
       "version_major": 2,
       "version_minor": 0
      },
      "text/plain": [
       "special_tokens_map.json:   0%|          | 0.00/411 [00:00<?, ?B/s]"
      ]
     },
     "metadata": {},
     "output_type": "display_data"
    }
   ],
   "source": [
    "# 토크나이저 로드\n",
    "import os\n",
    "os.environ[\"TOKENIZERS_PARALLELISM\"] = \"false\" # 토크나이저 병렬처리 방지(오류 방지)\n",
    "os.environ['TRANSFORMERS_NO_ADVISORY_WARNINGS'] = 'true' # __cell__ 오류 방지\n",
    "\n",
    "tokenizer = LlamaTokenizerFast.from_pretrained(\n",
    "    base_model,\n",
    "    trust_remote_code=True\n",
    ")\n",
    "tokenizer.pad_token = tokenizer.eos_token # 패딩 토큰을 문장의 끝으로 설정 </s>\n",
    "tokenizer.padding_side = \"right\" # 패딩을 문장 뒤에 추가"
   ]
  },
  {
   "cell_type": "code",
   "execution_count": 6,
   "metadata": {},
   "outputs": [],
   "source": [
    "# 학습 양식\n",
    "import json\n",
    "from datasets import load_dataset\n",
    "file_name = 'preprocess/dataset3/ratings.json'"
   ]
  },
  {
   "cell_type": "code",
   "execution_count": 7,
   "metadata": {},
   "outputs": [],
   "source": [
    "import json\n",
    "\n",
    "# JSON 파일 불러오기\n",
    "input_file = file_name\n",
    "with open(input_file, 'r') as f:\n",
    "    data = json.load(f)\n",
    "\n",
    "# 불러온 데이터 확인\n",
    "# print(data)"
   ]
  },
  {
   "cell_type": "code",
   "execution_count": 8,
   "metadata": {},
   "outputs": [
    {
     "name": "stdout",
     "output_type": "stream",
     "text": [
      "[{'imdbId': 'tt114709', 'rating': 4, 'title': 'Toy Story (1995)', 'genres': 'Adventure|Animation|Children|Comedy|Fantasy', 'timestamp': 964982703}, {'imdbId': 'tt113228', 'rating': 4, 'title': 'Grumpier Old Men (1995)', 'genres': 'Comedy|Romance', 'timestamp': 964981247}, {'imdbId': 'tt113277', 'rating': 4, 'title': 'Heat (1995)', 'genres': 'Action|Crime|Thriller', 'timestamp': 964982224}, {'imdbId': 'tt114369', 'rating': 5, 'title': 'Seven (a.k.a. Se7en) (1995)', 'genres': 'Mystery|Thriller', 'timestamp': 964983815}, {'imdbId': 'tt114814', 'rating': 5, 'title': 'Usual Suspects, The (1995)', 'genres': 'Crime|Mystery|Thriller', 'timestamp': 964982931}, {'imdbId': 'tt116367', 'rating': 3, 'title': 'From Dusk Till Dawn (1996)', 'genres': 'Action|Comedy|Horror|Thriller', 'timestamp': 964982400}, {'imdbId': 'tt115734', 'rating': 5, 'title': 'Bottle Rocket (1996)', 'genres': 'Adventure|Comedy|Crime|Romance', 'timestamp': 964980868}, {'imdbId': 'tt112573', 'rating': 4, 'title': 'Braveheart (1995)', 'genres': 'Action|Drama|War', 'timestamp': 964982176}, {'imdbId': 'tt114287', 'rating': 5, 'title': 'Rob Roy (1995)', 'genres': 'Action|Drama|Romance|War', 'timestamp': 964984041}, {'imdbId': 'tt109370', 'rating': 5, 'title': 'Canadian Bacon (1995)', 'genres': 'Comedy|War', 'timestamp': 964984100}]\n",
      "<class 'list'>\n",
      "{'imdbId': 'tt114709', 'rating': 4, 'title': 'Toy Story (1995)', 'genres': 'Adventure|Animation|Children|Comedy|Fantasy', 'timestamp': 964982703}\n",
      "<class 'dict'>\n",
      "['tt109370', 'tt114287', 'tt114369', 'tt114814', 'tt115734', 'tt114709', 'tt113277', 'tt112573', 'tt113228', 'tt116367']\n"
     ]
    }
   ],
   "source": [
    "# print(data[1])\n",
    "\n",
    "print(data[0][\"ratings\"]) # 영화 평점들 정보 모음\n",
    "print(type(data[0][\"ratings\"])) \n",
    "\n",
    "print(data[0][\"ratings\"][0]) # 평점 1개\n",
    "print(type(data[0][\"ratings\"][0])) \n",
    "print(data[0][\"order\"])"
   ]
  },
  {
   "cell_type": "code",
   "execution_count": 9,
   "metadata": {},
   "outputs": [],
   "source": [
    "instruction = '''\n",
    "사용자의 영화 평점 기록을 바탕으로 영화를 추천해줍니다. 영화 title 리스트를 생성해주고, 관련한 메타메이터를 보여줍니다. must return json format\n",
    "'''"
   ]
  },
  {
   "cell_type": "code",
   "execution_count": 10,
   "metadata": {},
   "outputs": [],
   "source": [
    "# 데이터 매핑 함수 정의\n",
    "def map_data_to_format(example):\n",
    "\n",
    "    ratings = json.dumps(example['ratings'], ensure_ascii=False)\n",
    "    order_list = json.dumps(example[\"order\"], ensure_ascii=False)\n",
    "    \n",
    "    text = (\n",
    "        f\"user_ratings_info:\\n{ratings}\\n\\n\"\n",
    "        # f\"keyword_info:\\n{genres_str}\\n\\n\"\n",
    "        # f\"overview_tk_str:\\n{overview_tk_str}\\n\\n\"\n",
    "        # f\"tagline_tk_str:\\n{tagline_tk_str}\\n\\n\"\n",
    "    )\n",
    "    \n",
    "    # completion은 모델이 생성해야 할 예상 출력을 포함합니다.\n",
    "\n",
    "    # 여기서는 추천 목록 영화 리스트 imdb_id를 반환합니다.\n",
    "    completion = f\"{{\\\"order_list\\\": {order_list} \\\n",
    "    }}\"\n",
    "    \n",
    "    return {'text': text, 'completion': completion}"
   ]
  },
  {
   "cell_type": "code",
   "execution_count": 11,
   "metadata": {},
   "outputs": [
    {
     "data": {
      "application/vnd.jupyter.widget-view+json": {
       "model_id": "2614dfae3c4243539ad411845bc4f0af",
       "version_major": 2,
       "version_minor": 0
      },
      "text/plain": [
       "Downloading data files:   0%|          | 0/1 [00:00<?, ?it/s]"
      ]
     },
     "metadata": {},
     "output_type": "display_data"
    },
    {
     "data": {
      "application/vnd.jupyter.widget-view+json": {
       "model_id": "337e7f04ec114ebca87268a22ce766bd",
       "version_major": 2,
       "version_minor": 0
      },
      "text/plain": [
       "Extracting data files:   0%|          | 0/1 [00:00<?, ?it/s]"
      ]
     },
     "metadata": {},
     "output_type": "display_data"
    },
    {
     "data": {
      "application/vnd.jupyter.widget-view+json": {
       "model_id": "27e4c17d7170421bb481696c8b4254eb",
       "version_major": 2,
       "version_minor": 0
      },
      "text/plain": [
       "Generating train split: 0 examples [00:00, ? examples/s]"
      ]
     },
     "metadata": {},
     "output_type": "display_data"
    }
   ],
   "source": [
    "# 데이터셋 로드\n",
    "data = load_dataset('json', data_files=file_name, split=\"train\")"
   ]
  },
  {
   "cell_type": "code",
   "execution_count": 12,
   "metadata": {},
   "outputs": [
    {
     "name": "stdout",
     "output_type": "stream",
     "text": [
      "Dataset({\n",
      "    features: ['order', 'ratings', 'userId'],\n",
      "    num_rows: 10084\n",
      "})\n"
     ]
    }
   ],
   "source": [
    "print(data)"
   ]
  },
  {
   "cell_type": "code",
   "execution_count": 13,
   "metadata": {},
   "outputs": [
    {
     "data": {
      "application/vnd.jupyter.widget-view+json": {
       "model_id": "c7d99a8903044085a635e8531ebaa255",
       "version_major": 2,
       "version_minor": 0
      },
      "text/plain": [
       "Map:   0%|          | 0/10084 [00:00<?, ? examples/s]"
      ]
     },
     "metadata": {},
     "output_type": "display_data"
    }
   ],
   "source": [
    "# 데이터 매핑 적용\n",
    "mapped_data = data.map(map_data_to_format)"
   ]
  },
  {
   "cell_type": "code",
   "execution_count": 15,
   "metadata": {},
   "outputs": [],
   "source": [
    "#print(mapped_data['overview_tk'])\n",
    "# print(mapped_data['tagline_tk'])\n",
    "# print(mapped_data['movie_info'])\n",
    "# print(mapped_data['text'])\n",
    "# print(mapped_data['completion'])\n",
    "\n"
   ]
  },
  {
   "cell_type": "code",
   "execution_count": 16,
   "metadata": {},
   "outputs": [
    {
     "name": "stdout",
     "output_type": "stream",
     "text": [
      "Dataset({\n",
      "    features: ['order', 'ratings', 'userId', 'text', 'completion'],\n",
      "    num_rows: 10084\n",
      "})\n"
     ]
    }
   ],
   "source": [
    "print(mapped_data)\n"
   ]
  },
  {
   "cell_type": "code",
   "execution_count": 17,
   "metadata": {},
   "outputs": [
    {
     "data": {
      "application/vnd.jupyter.widget-view+json": {
       "model_id": "637438ed465e4151bd59e64081281805",
       "version_major": 2,
       "version_minor": 0
      },
      "text/plain": [
       "Map:   0%|          | 0/9075 [00:00<?, ? examples/s]"
      ]
     },
     "metadata": {},
     "output_type": "display_data"
    },
    {
     "name": "stderr",
     "output_type": "stream",
     "text": [
      "Asking to truncate to max_length but no maximum length is provided and the model has no predefined maximum length. Default to no truncation.\n"
     ]
    },
    {
     "data": {
      "application/vnd.jupyter.widget-view+json": {
       "model_id": "dc2b9ecd2a3e4ef2a1da4e2ad175c40d",
       "version_major": 2,
       "version_minor": 0
      },
      "text/plain": [
       "Map:   0%|          | 0/1009 [00:00<?, ? examples/s]"
      ]
     },
     "metadata": {},
     "output_type": "display_data"
    }
   ],
   "source": [
    "# 데이터셋 분할\n",
    "split_data = mapped_data.train_test_split(test_size=0.1)  # 10%를 테스트셋으로 사용\n",
    "\n",
    "train_set = split_data['train']\n",
    "eval_set = split_data['test']\n",
    "\n",
    "train_set = train_set.map(lambda samples: tokenizer(samples[\"text\"], padding=True, truncation=True, return_tensors=\"pt\"), batched=True)\n",
    "eval_set = eval_set.map(lambda samples: tokenizer(samples[\"text\"], padding=True, truncation=True, return_tensors=\"pt\"), batched=True)\n",
    "\n",
    "# lora 파라미터 설정\n",
    "peft_params = LoraConfig(\n",
    "    lora_alpha=16,\n",
    "    lora_dropout=0.1,\n",
    "    r=64,\n",
    "    bias=\"none\",\n",
    "    task_type=\"CAUSAL_LM\",\n",
    ")\n"
   ]
  },
  {
   "cell_type": "code",
   "execution_count": 18,
   "metadata": {},
   "outputs": [
    {
     "name": "stdout",
     "output_type": "stream",
     "text": [
      "user_ratings_info:\n",
      "[{\"genres\": \"Action|Drama|War\", \"imdbId\": \"tt120863\", \"rating\": 4, \"timestamp\": 959896591, \"title\": \"Thin Red Line, The (1998)\"}, {\"genres\": \"Drama|Mystery|Thriller\", \"imdbId\": \"tt134273\", \"rating\": 2, \"timestamp\": 959896430, \"title\": \"8MM (1999)\"}, {\"genres\": \"Action|Sci-Fi|Thriller|Western\", \"imdbId\": \"tt70909\", \"rating\": 4, \"timestamp\": 959896237, \"title\": \"Westworld (1973)\"}, {\"genres\": \"Action|Sci-Fi|Thriller\", \"imdbId\": \"tt133093\", \"rating\": 4, \"timestamp\": 959896015, \"title\": \"Matrix, The (1999)\"}, {\"genres\": \"Action|Adventure|Sci-Fi\", \"imdbId\": \"tt120915\", \"rating\": 2, \"timestamp\": 959895496, \"title\": \"Star Wars: Episode I - The Phantom Menace (1999)\"}, {\"genres\": \"Crime|Drama|Mystery|Thriller\", \"imdbId\": \"tt144214\", \"rating\": 3, \"timestamp\": 959896430, \"title\": \"General's Daughter, The (1999)\"}, {\"genres\": \"Thriller\", \"imdbId\": \"tt137363\", \"rating\": 4, \"timestamp\": 959896305, \"title\": \"Arlington Road (1999)\"}, {\"genres\": \"Drama|Horror|Mystery\", \"imdbId\": \"tt167404\", \"rating\": 5, \"timestamp\": 959895941, \"title\": \"Sixth Sense, The (1999)\"}, {\"genres\": \"Action|Mystery\", \"imdbId\": \"tt155267\", \"rating\": 4, \"timestamp\": 959896120, \"title\": \"Thomas Crown Affair, The (1999)\"}, {\"genres\": \"Drama|Mystery|Romance|Thriller\", \"imdbId\": \"tt73802\", \"rating\": 4, \"timestamp\": 959895993, \"title\": \"Three Days of the Condor (3 Days of the Condor) (1975)\"}]\n",
      "\n",
      "\n",
      "user_ratings_info:\n",
      "[{\"genres\": \"Action|Adventure|Comedy|Sci-Fi\", \"imdbId\": \"tt119116\", \"rating\": 3, \"timestamp\": 999708293, \"title\": \"Fifth Element, The (1997)\"}, {\"genres\": \"Action|Crime|Drama|Thriller\", \"imdbId\": \"tt119094\", \"rating\": 3, \"timestamp\": 999708325, \"title\": \"Face/Off (1997)\"}, {\"genres\": \"Action|Comedy|Sci-Fi\", \"imdbId\": \"tt119654\", \"rating\": 5, \"timestamp\": 999708390, \"title\": \"Men in Black (a.k.a. MIB) (1997)\"}, {\"genres\": \"Action|Adventure|Fantasy\", \"imdbId\": \"tt82198\", \"rating\": 3, \"timestamp\": 999708350, \"title\": \"Conan the Barbarian (1982)\"}, {\"genres\": \"Comedy|Romance\", \"imdbId\": \"tt129387\", \"rating\": 3, \"timestamp\": 999707976, \"title\": \"There's Something About Mary (1998)\"}, {\"genres\": \"Children|Comedy|Sci-Fi\", \"imdbId\": \"tt104437\", \"rating\": 3, \"timestamp\": 999708009, \"title\": \"Honey, I Blew Up the Kid (1992)\"}, {\"genres\": \"Action|Adventure|Fantasy\", \"imdbId\": \"tt87469\", \"rating\": 4, \"timestamp\": 999708378, \"title\": \"Indiana Jones and the Temple of Doom (1984)\"}, {\"genres\": \"Action|Horror|Thriller\", \"imdbId\": \"tt120611\", \"rating\": 3, \"timestamp\": 999708337, \"title\": \"Blade (1998)\"}, {\"genres\": \"Action|Adventure|Sci-Fi\", \"imdbId\": \"tt78346\", \"rating\": 4, \"timestamp\": 999708378, \"title\": \"Superman (1978)\"}, {\"genres\": \"Action|Adventure|Sci-Fi|Thriller\", \"imdbId\": \"tt100802\", \"rating\": 3, \"timestamp\": 999708390, \"title\": \"Total Recall (1990)\"}]\n",
      "\n",
      "\n",
      "user_ratings_info:\n",
      "[{\"genres\": \"Action|Adventure|Thriller\", \"imdbId\": \"tt830515\", \"rating\": 4, \"timestamp\": 1273977218, \"title\": \"Quantum of Solace (2008)\"}, {\"genres\": \"Comedy\", \"imdbId\": \"tt430922\", \"rating\": 4, \"timestamp\": 1273977245, \"title\": \"Role Models (2008)\"}, {\"genres\": \"Drama\", \"imdbId\": \"tt1013753\", \"rating\": 4, \"timestamp\": 1273976702, \"title\": \"Milk (2008)\"}, {\"genres\": \"Drama|Fantasy|Romance|Thriller\", \"imdbId\": \"tt1099212\", \"rating\": 2, \"timestamp\": 1273977836, \"title\": \"Twilight (2008)\"}, {\"genres\": \"Crime|Drama\", \"imdbId\": \"tt1205489\", \"rating\": 4, \"timestamp\": 1261937993, \"title\": \"Gran Torino (2008)\"}, {\"genres\": \"Drama\", \"imdbId\": \"tt870111\", \"rating\": 4, \"timestamp\": 1273976991, \"title\": \"Frost/Nixon (2008)\"}, {\"genres\": \"Drama\", \"imdbId\": \"tt1125849\", \"rating\": 4, \"timestamp\": 1261423158, \"title\": \"Wrestler, The (2008)\"}, {\"genres\": \"Drama|Fantasy|Mystery|Romance\", \"imdbId\": \"tt421715\", \"rating\": 4, \"timestamp\": 1246413595, \"title\": \"Curious Case of Benjamin Button, The (2008)\"}, {\"genres\": \"Drama|Thriller|War\", \"imdbId\": \"tt985699\", \"rating\": 3, \"timestamp\": 1249833179, \"title\": \"Valkyrie (2008)\"}, {\"genres\": \"Drama|Romance\", \"imdbId\": \"tt959337\", \"rating\": 4, \"timestamp\": 1251142119, \"title\": \"Revolutionary Road (2008)\"}]\n",
      "\n",
      "\n"
     ]
    }
   ],
   "source": [
    "print(train_set[3][\"text\"])\n",
    "print(train_set[20][\"text\"])\n",
    "print(train_set[120][\"text\"])"
   ]
  },
  {
   "cell_type": "code",
   "execution_count": 28,
   "metadata": {},
   "outputs": [
    {
     "name": "stdout",
     "output_type": "stream",
     "text": [
      "user_ratings_info:\n",
      "[{\"genres\": \"Adventure|Animation|Children|Comedy|Crime\", \"imdbId\": \"tt432283\", \"rating\": 4, \"timestamp\": 1490115587, \"title\": \"Fantastic Mr. Fox (2009)\"}, {\"genres\": \"Drama\", \"imdbId\": \"tt878804\", \"rating\": 4, \"timestamp\": 1490115555, \"title\": \"Blind Side, The  (2009)\"}, {\"genres\": \"Action|Adventure|Sci-Fi|IMAX\", \"imdbId\": \"tt499549\", \"rating\": 3, \"timestamp\": 1490114868, \"title\": \"Avatar (2009)\"}, {\"genres\": \"Action|Crime|Mystery|Thriller\", \"imdbId\": \"tt988045\", \"rating\": 4, \"timestamp\": 1490203284, \"title\": \"Sherlock Holmes (2009)\"}, {\"genres\": \"Action|Drama|Thriller|War\", \"imdbId\": \"tt947810\", \"rating\": 3, \"timestamp\": 1498429805, \"title\": \"Green Zone (2010)\"}, {\"genres\": \"Adventure|Animation|Children|Fantasy|IMAX\", \"imdbId\": \"tt892769\", \"rating\": 2, \"timestamp\": 1523216857, \"title\": \"How to Train Your Dragon (2010)\"}, {\"genres\": \"Action|Comedy\", \"imdbId\": \"tt1250777\", \"rating\": 4, \"timestamp\": 1490114728, \"title\": \"Kick-Ass (2010)\"}, {\"genres\": \"Action|Adventure|Sci-Fi|Thriller|IMAX\", \"imdbId\": \"tt1228705\", \"rating\": 3, \"timestamp\": 1523217071, \"title\": \"Iron Man 2 (2010)\"}, {\"genres\": \"Comedy|Drama\", \"imdbId\": \"tt1341167\", \"rating\": 4, \"timestamp\": 1503761720, \"title\": \"Four Lions (2010)\"}, {\"genres\": \"Animation|Children|Comedy|Crime\", \"imdbId\": \"tt1323594\", \"rating\": 4, \"timestamp\": 1523216677, \"title\": \"Despicable Me (2010)\"}]\n",
      "\n",
      "\n",
      "user_ratings_info:\n",
      "[{\"genres\": \"Children|Musical\", \"imdbId\": \"tt83564\", \"rating\": 4, \"timestamp\": 1307845691, \"title\": \"Annie (1982)\"}, {\"genres\": \"Animation|Children\", \"imdbId\": \"tt92695\", \"rating\": 5, \"timestamp\": 1307845825, \"title\": \"Brave Little Toaster, The (1987)\"}, {\"genres\": \"Drama\", \"imdbId\": \"tt97722\", \"rating\": 4, \"timestamp\": 1307847413, \"title\": \"Lean on Me (1989)\"}, {\"genres\": \"Action|Comedy\", \"imdbId\": \"tt240468\", \"rating\": 4, \"timestamp\": 1307845908, \"title\": \"Kung Pow: Enter the Fist (2002)\"}, {\"genres\": \"Adventure|Animation|Fantasy\", \"imdbId\": \"tt245429\", \"rating\": 5, \"timestamp\": 1307846388, \"title\": \"Spirited Away (Sen to Chihiro no kamikakushi) (2001)\"}, {\"genres\": \"Adventure|Drama\", \"imdbId\": \"tt49833\", \"rating\": 4, \"timestamp\": 1307845777, \"title\": \"Ten Commandments, The (1956)\"}, {\"genres\": \"Comedy|Musical\", \"imdbId\": \"tt61791\", \"rating\": 5, \"timestamp\": 1307846856, \"title\": \"How to Succeed in Business Without Really Trying (1967)\"}, {\"genres\": \"Adventure|Fantasy|IMAX\", \"imdbId\": \"tt304141\", \"rating\": 4, \"timestamp\": 1307847401, \"title\": \"Harry Potter and the Prisoner of Azkaban (2004)\"}, {\"genres\": \"Comedy|Drama|Musical\", \"imdbId\": \"tt404364\", \"rating\": 4, \"timestamp\": 1307846820, \"title\": \"Reefer Madness: The Movie Musical (2005)\"}, {\"genres\": \"Adventure|Animation|Children|Comedy|Fantasy|Musical|Romance\", \"imdbId\": \"tt461770\", \"rating\": 4, \"timestamp\": 1307846901, \"title\": \"Enchanted (2007)\"}]\n",
      "\n",
      "\n",
      "user_ratings_info:\n",
      "[{\"genres\": \"Drama\", \"imdbId\": \"tt67328\", \"rating\": 5, \"timestamp\": 946800180, \"title\": \"Last Picture Show, The (1971)\"}, {\"genres\": \"Drama\", \"imdbId\": \"tt175880\", \"rating\": 4, \"timestamp\": 1106853952, \"title\": \"Magnolia (1999)\"}, {\"genres\": \"Comedy|Drama\", \"imdbId\": \"tt66892\", \"rating\": 3, \"timestamp\": 946800232, \"title\": \"Carnal Knowledge (1971)\"}, {\"genres\": \"Adventure|Drama\", \"imdbId\": \"tt64276\", \"rating\": 3, \"timestamp\": 946800284, \"title\": \"Easy Rider (1969)\"}, {\"genres\": \"Adventure|Comedy|Sci-Fi\", \"imdbId\": \"tt177789\", \"rating\": 4, \"timestamp\": 1106855482, \"title\": \"Galaxy Quest (1999)\"}, {\"genres\": \"Drama|Mystery|Thriller\", \"imdbId\": \"tt134119\", \"rating\": 4, \"timestamp\": 1106855555, \"title\": \"Talented Mr. Ripley, The (1999)\"}, {\"genres\": \"Comedy|Drama\", \"imdbId\": \"tt70290\", \"rating\": 4, \"timestamp\": 949201760, \"title\": \"Last Detail, The (1973)\"}, {\"genres\": \"Drama\", \"imdbId\": \"tt90366\", \"rating\": 1, \"timestamp\": 951113136, \"title\": \"Zed & Two Noughts, A (1985)\"}, {\"genres\": \"Drama\", \"imdbId\": \"tt58625\", \"rating\": 5, \"timestamp\": 951113027, \"title\": \"Woman in the Dunes (Suna no onna) (1964)\"}, {\"genres\": \"Action\", \"imdbId\": \"tt67433\", \"rating\": 2, \"timestamp\": 951113076, \"title\": \"Minnie and Moskowitz (1971)\"}]\n",
      "\n",
      "\n"
     ]
    }
   ],
   "source": [
    "print(eval_set[3][\"text\"])\n",
    "print(eval_set[20][\"text\"])\n",
    "print(eval_set[120][\"text\"])"
   ]
  },
  {
   "cell_type": "code",
   "execution_count": null,
   "metadata": {},
   "outputs": [
    {
     "name": "stdout",
     "output_type": "stream",
     "text": [
      "user_ratings_info:\n",
      "[{\"genres\": \"Action|Drama|War\", \"imdbId\": \"tt120863\", \"rating\": 4, \"timestamp\": 959896591, \"title\": \"Thin Red Line, The (1998)\"}, {\"genres\": \"Drama|Mystery|Thriller\", \"imdbId\": \"tt134273\", \"rating\": 2, \"timestamp\": 959896430, \"title\": \"8MM (1999)\"}, {\"genres\": \"Action|Sci-Fi|Thriller|Western\", \"imdbId\": \"tt70909\", \"rating\": 4, \"timestamp\": 959896237, \"title\": \"Westworld (1973)\"}, {\"genres\": \"Action|Sci-Fi|Thriller\", \"imdbId\": \"tt133093\", \"rating\": 4, \"timestamp\": 959896015, \"title\": \"Matrix, The (1999)\"}, {\"genres\": \"Action|Adventure|Sci-Fi\", \"imdbId\": \"tt120915\", \"rating\": 2, \"timestamp\": 959895496, \"title\": \"Star Wars: Episode I - The Phantom Menace (1999)\"}, {\"genres\": \"Crime|Drama|Mystery|Thriller\", \"imdbId\": \"tt144214\", \"rating\": 3, \"timestamp\": 959896430, \"title\": \"General's Daughter, The (1999)\"}, {\"genres\": \"Thriller\", \"imdbId\": \"tt137363\", \"rating\": 4, \"timestamp\": 959896305, \"title\": \"Arlington Road (1999)\"}, {\"genres\": \"Drama|Horror|Mystery\", \"imdbId\": \"tt167404\", \"rating\": 5, \"timestamp\": 959895941, \"title\": \"Sixth Sense, The (1999)\"}, {\"genres\": \"Action|Mystery\", \"imdbId\": \"tt155267\", \"rating\": 4, \"timestamp\": 959896120, \"title\": \"Thomas Crown Affair, The (1999)\"}, {\"genres\": \"Drama|Mystery|Romance|Thriller\", \"imdbId\": \"tt73802\", \"rating\": 4, \"timestamp\": 959895993, \"title\": \"Three Days of the Condor (3 Days of the Condor) (1975)\"}]\n",
      "\n",
      "\n",
      "user_ratings_info:\n",
      "[{\"genres\": \"Action|Adventure|Comedy|Sci-Fi\", \"imdbId\": \"tt119116\", \"rating\": 3, \"timestamp\": 999708293, \"title\": \"Fifth Element, The (1997)\"}, {\"genres\": \"Action|Crime|Drama|Thriller\", \"imdbId\": \"tt119094\", \"rating\": 3, \"timestamp\": 999708325, \"title\": \"Face/Off (1997)\"}, {\"genres\": \"Action|Comedy|Sci-Fi\", \"imdbId\": \"tt119654\", \"rating\": 5, \"timestamp\": 999708390, \"title\": \"Men in Black (a.k.a. MIB) (1997)\"}, {\"genres\": \"Action|Adventure|Fantasy\", \"imdbId\": \"tt82198\", \"rating\": 3, \"timestamp\": 999708350, \"title\": \"Conan the Barbarian (1982)\"}, {\"genres\": \"Comedy|Romance\", \"imdbId\": \"tt129387\", \"rating\": 3, \"timestamp\": 999707976, \"title\": \"There's Something About Mary (1998)\"}, {\"genres\": \"Children|Comedy|Sci-Fi\", \"imdbId\": \"tt104437\", \"rating\": 3, \"timestamp\": 999708009, \"title\": \"Honey, I Blew Up the Kid (1992)\"}, {\"genres\": \"Action|Adventure|Fantasy\", \"imdbId\": \"tt87469\", \"rating\": 4, \"timestamp\": 999708378, \"title\": \"Indiana Jones and the Temple of Doom (1984)\"}, {\"genres\": \"Action|Horror|Thriller\", \"imdbId\": \"tt120611\", \"rating\": 3, \"timestamp\": 999708337, \"title\": \"Blade (1998)\"}, {\"genres\": \"Action|Adventure|Sci-Fi\", \"imdbId\": \"tt78346\", \"rating\": 4, \"timestamp\": 999708378, \"title\": \"Superman (1978)\"}, {\"genres\": \"Action|Adventure|Sci-Fi|Thriller\", \"imdbId\": \"tt100802\", \"rating\": 3, \"timestamp\": 999708390, \"title\": \"Total Recall (1990)\"}]\n",
      "\n",
      "\n",
      "user_ratings_info:\n",
      "[{\"genres\": \"Action|Adventure|Thriller\", \"imdbId\": \"tt830515\", \"rating\": 4, \"timestamp\": 1273977218, \"title\": \"Quantum of Solace (2008)\"}, {\"genres\": \"Comedy\", \"imdbId\": \"tt430922\", \"rating\": 4, \"timestamp\": 1273977245, \"title\": \"Role Models (2008)\"}, {\"genres\": \"Drama\", \"imdbId\": \"tt1013753\", \"rating\": 4, \"timestamp\": 1273976702, \"title\": \"Milk (2008)\"}, {\"genres\": \"Drama|Fantasy|Romance|Thriller\", \"imdbId\": \"tt1099212\", \"rating\": 2, \"timestamp\": 1273977836, \"title\": \"Twilight (2008)\"}, {\"genres\": \"Crime|Drama\", \"imdbId\": \"tt1205489\", \"rating\": 4, \"timestamp\": 1261937993, \"title\": \"Gran Torino (2008)\"}, {\"genres\": \"Drama\", \"imdbId\": \"tt870111\", \"rating\": 4, \"timestamp\": 1273976991, \"title\": \"Frost/Nixon (2008)\"}, {\"genres\": \"Drama\", \"imdbId\": \"tt1125849\", \"rating\": 4, \"timestamp\": 1261423158, \"title\": \"Wrestler, The (2008)\"}, {\"genres\": \"Drama|Fantasy|Mystery|Romance\", \"imdbId\": \"tt421715\", \"rating\": 4, \"timestamp\": 1246413595, \"title\": \"Curious Case of Benjamin Button, The (2008)\"}, {\"genres\": \"Drama|Thriller|War\", \"imdbId\": \"tt985699\", \"rating\": 3, \"timestamp\": 1249833179, \"title\": \"Valkyrie (2008)\"}, {\"genres\": \"Drama|Romance\", \"imdbId\": \"tt959337\", \"rating\": 4, \"timestamp\": 1251142119, \"title\": \"Revolutionary Road (2008)\"}]\n",
      "\n",
      "\n"
     ]
    }
   ],
   "source": [
    "print(train_set[3][\"text\"])\n",
    "print(train_set[20][\"text\"])\n",
    "print(train_set[120][\"text\"])"
   ]
  },
  {
   "cell_type": "code",
   "execution_count": 19,
   "metadata": {},
   "outputs": [
    {
     "name": "stdout",
     "output_type": "stream",
     "text": [
      "{\"order_list\": [\"tt167404\", \"tt120863\", \"tt137363\", \"tt70909\", \"tt155267\", \"tt133093\", \"tt73802\", \"tt144214\", \"tt134273\", \"tt120915\"]     }\n",
      "{\"order_list\": [\"tt119654\", \"tt87469\", \"tt78346\", \"tt100802\", \"tt82198\", \"tt120611\", \"tt119094\", \"tt119116\", \"tt104437\", \"tt129387\"]     }\n",
      "{\"order_list\": [\"tt430922\", \"tt830515\", \"tt870111\", \"tt1013753\", \"tt1205489\", \"tt1125849\", \"tt959337\", \"tt421715\", \"tt985699\", \"tt1099212\"]     }\n"
     ]
    }
   ],
   "source": [
    "print(train_set[3][\"completion\"])\n",
    "print(train_set[20][\"completion\"])\n",
    "print(train_set[120][\"completion\"])"
   ]
  },
  {
   "cell_type": "code",
   "execution_count": 21,
   "metadata": {},
   "outputs": [],
   "source": [
    "model = get_peft_model(model, peft_params)\n",
    "\n",
    "# prameter\n",
    "epochs = 3 # 10\n",
    "\n",
    "batch_size = 2\n",
    "\n",
    "lr = 2e-4\n",
    "\n",
    "training_params = TrainingArguments(\n",
    "    output_dir=\"models\",\n",
    "    num_train_epochs=epochs,\n",
    "    per_device_train_batch_size=batch_size,\n",
    "    gradient_accumulation_steps=16,\n",
    "    optim=\"adamw_torch\",\n",
    "    save_strategy=\"epoch\",\n",
    "    evaluation_strategy=\"steps\",\n",
    "    logging_strategy=\"steps\",\n",
    "    eval_steps=20,\n",
    "    logging_steps=20,\n",
    "    learning_rate=lr,\n",
    "    weight_decay=0.001,\n",
    "    fp16=False,\n",
    "    bf16=False,\n",
    "    max_grad_norm=0.3,\n",
    "    max_steps=-1,\n",
    "    warmup_ratio=0.03,\n",
    "    group_by_length=True,\n",
    "    lr_scheduler_type=\"cosine\",\n",
    "    report_to=\"tensorboard\",\n",
    "    dataloader_num_workers=1,\n",
    ")\n"
   ]
  },
  {
   "cell_type": "code",
   "execution_count": 22,
   "metadata": {},
   "outputs": [],
   "source": [
    "# ! wandb login --relogin\n"
   ]
  },
  {
   "cell_type": "code",
   "execution_count": 23,
   "metadata": {},
   "outputs": [
    {
     "name": "stderr",
     "output_type": "stream",
     "text": [
      "/home/gpuadmin/anaconda3/envs/llm_test/lib/python3.8/site-packages/accelerate/accelerator.py:436: FutureWarning: Passing the following arguments to `Accelerator` is deprecated and will be removed in version 1.0 of Accelerate: dict_keys(['dispatch_batches', 'split_batches', 'even_batches', 'use_seedable_sampler']). Please pass an `accelerate.DataLoaderConfiguration` instead: \n",
      "dataloader_config = DataLoaderConfiguration(dispatch_batches=None, split_batches=False, even_batches=True, use_seedable_sampler=True)\n",
      "  warnings.warn(\n"
     ]
    },
    {
     "data": {
      "application/vnd.jupyter.widget-view+json": {
       "model_id": "3022a39e85c146949a9295abff0f94b9",
       "version_major": 2,
       "version_minor": 0
      },
      "text/plain": [
       "  0%|          | 0/849 [00:00<?, ?it/s]"
      ]
     },
     "metadata": {},
     "output_type": "display_data"
    },
    {
     "name": "stdout",
     "output_type": "stream",
     "text": [
      "{'loss': 0.8083, 'grad_norm': 0.05591003969311714, 'learning_rate': 0.00015384615384615385, 'epoch': 0.07}\n"
     ]
    },
    {
     "data": {
      "application/vnd.jupyter.widget-view+json": {
       "model_id": "0b641ec5f59c4b298f582c2798c5bf86",
       "version_major": 2,
       "version_minor": 0
      },
      "text/plain": [
       "  0%|          | 0/127 [00:00<?, ?it/s]"
      ]
     },
     "metadata": {},
     "output_type": "display_data"
    },
    {
     "name": "stdout",
     "output_type": "stream",
     "text": [
      "{'eval_loss': 0.7365642786026001, 'eval_runtime': 213.8874, 'eval_samples_per_second': 4.717, 'eval_steps_per_second': 0.594, 'epoch': 0.07}\n",
      "{'loss': 0.6543, 'grad_norm': 0.05999374762177467, 'learning_rate': 0.00019985723465913057, 'epoch': 0.14}\n"
     ]
    },
    {
     "data": {
      "application/vnd.jupyter.widget-view+json": {
       "model_id": "8ec7695c5e48443d8fa009c3e99b43ec",
       "version_major": 2,
       "version_minor": 0
      },
      "text/plain": [
       "  0%|          | 0/127 [00:00<?, ?it/s]"
      ]
     },
     "metadata": {},
     "output_type": "display_data"
    },
    {
     "name": "stdout",
     "output_type": "stream",
     "text": [
      "{'eval_loss': 0.6237576603889465, 'eval_runtime': 207.774, 'eval_samples_per_second': 4.856, 'eval_steps_per_second': 0.611, 'epoch': 0.14}\n",
      "{'loss': 0.6828, 'grad_norm': 0.0805821344256401, 'learning_rate': 0.00019915895699076222, 'epoch': 0.21}\n"
     ]
    },
    {
     "data": {
      "application/vnd.jupyter.widget-view+json": {
       "model_id": "a3136466b3674df0a559b804ce8432f9",
       "version_major": 2,
       "version_minor": 0
      },
      "text/plain": [
       "  0%|          | 0/127 [00:00<?, ?it/s]"
      ]
     },
     "metadata": {},
     "output_type": "display_data"
    },
    {
     "name": "stdout",
     "output_type": "stream",
     "text": [
      "{'eval_loss': 0.6108866930007935, 'eval_runtime': 207.7544, 'eval_samples_per_second': 4.857, 'eval_steps_per_second': 0.611, 'epoch': 0.21}\n",
      "{'loss': 0.6137, 'grad_norm': 0.19244645535945892, 'learning_rate': 0.00019788300765977138, 'epoch': 0.28}\n"
     ]
    },
    {
     "data": {
      "application/vnd.jupyter.widget-view+json": {
       "model_id": "3c6e7f746d57447ea16c7bee56e9e7a7",
       "version_major": 2,
       "version_minor": 0
      },
      "text/plain": [
       "  0%|          | 0/127 [00:00<?, ?it/s]"
      ]
     },
     "metadata": {},
     "output_type": "display_data"
    },
    {
     "name": "stdout",
     "output_type": "stream",
     "text": [
      "{'eval_loss': 0.666804313659668, 'eval_runtime': 207.5471, 'eval_samples_per_second': 4.862, 'eval_steps_per_second': 0.612, 'epoch': 0.28}\n",
      "{'loss': 0.6548, 'grad_norm': 0.36356648802757263, 'learning_rate': 0.00019603681998124953, 'epoch': 0.35}\n"
     ]
    },
    {
     "data": {
      "application/vnd.jupyter.widget-view+json": {
       "model_id": "bfd1d247e15742ffae14dd0012a22341",
       "version_major": 2,
       "version_minor": 0
      },
      "text/plain": [
       "  0%|          | 0/127 [00:00<?, ?it/s]"
      ]
     },
     "metadata": {},
     "output_type": "display_data"
    },
    {
     "name": "stdout",
     "output_type": "stream",
     "text": [
      "{'eval_loss': 0.6620879769325256, 'eval_runtime': 207.5269, 'eval_samples_per_second': 4.862, 'eval_steps_per_second': 0.612, 'epoch': 0.35}\n",
      "{'loss': 0.6277, 'grad_norm': 0.4650805592536926, 'learning_rate': 0.00019363114931545992, 'epoch': 0.42}\n"
     ]
    },
    {
     "data": {
      "application/vnd.jupyter.widget-view+json": {
       "model_id": "c5d8407e727545b3bb162a1eec244763",
       "version_major": 2,
       "version_minor": 0
      },
      "text/plain": [
       "  0%|          | 0/127 [00:00<?, ?it/s]"
      ]
     },
     "metadata": {},
     "output_type": "display_data"
    },
    {
     "name": "stdout",
     "output_type": "stream",
     "text": [
      "{'eval_loss': 0.6214098930358887, 'eval_runtime': 207.5941, 'eval_samples_per_second': 4.86, 'eval_steps_per_second': 0.612, 'epoch': 0.42}\n",
      "{'loss': 0.6191, 'grad_norm': 0.43630191683769226, 'learning_rate': 0.00019068001041019138, 'epoch': 0.49}\n"
     ]
    },
    {
     "data": {
      "application/vnd.jupyter.widget-view+json": {
       "model_id": "a9b24f0485574c1cba805467eafcfb41",
       "version_major": 2,
       "version_minor": 0
      },
      "text/plain": [
       "  0%|          | 0/127 [00:00<?, ?it/s]"
      ]
     },
     "metadata": {},
     "output_type": "display_data"
    },
    {
     "name": "stdout",
     "output_type": "stream",
     "text": [
      "{'eval_loss': 0.6104447841644287, 'eval_runtime': 207.6287, 'eval_samples_per_second': 4.86, 'eval_steps_per_second': 0.612, 'epoch': 0.49}\n",
      "{'loss': 0.6062, 'grad_norm': 0.5387507677078247, 'learning_rate': 0.0001872005957548546, 'epoch': 0.56}\n"
     ]
    },
    {
     "data": {
      "application/vnd.jupyter.widget-view+json": {
       "model_id": "63d2f0600d6d4f25a9c1c72f163a68a1",
       "version_major": 2,
       "version_minor": 0
      },
      "text/plain": [
       "  0%|          | 0/127 [00:00<?, ?it/s]"
      ]
     },
     "metadata": {},
     "output_type": "display_data"
    },
    {
     "name": "stdout",
     "output_type": "stream",
     "text": [
      "{'eval_loss': 0.6076178550720215, 'eval_runtime': 207.6161, 'eval_samples_per_second': 4.86, 'eval_steps_per_second': 0.612, 'epoch': 0.56}\n",
      "{'loss': 0.6066, 'grad_norm': 0.40386277437210083, 'learning_rate': 0.00018321317542196645, 'epoch': 0.63}\n"
     ]
    },
    {
     "data": {
      "application/vnd.jupyter.widget-view+json": {
       "model_id": "0c23f764f4144b36a024a6b7ddb5e0aa",
       "version_major": 2,
       "version_minor": 0
      },
      "text/plain": [
       "  0%|          | 0/127 [00:00<?, ?it/s]"
      ]
     },
     "metadata": {},
     "output_type": "display_data"
    },
    {
     "name": "stdout",
     "output_type": "stream",
     "text": [
      "{'eval_loss': 0.6145669221878052, 'eval_runtime': 207.4946, 'eval_samples_per_second': 4.863, 'eval_steps_per_second': 0.612, 'epoch': 0.63}\n",
      "{'loss': 0.6165, 'grad_norm': 0.40008285641670227, 'learning_rate': 0.00017874097897951737, 'epoch': 0.71}\n"
     ]
    },
    {
     "data": {
      "application/vnd.jupyter.widget-view+json": {
       "model_id": "1d6bdcbe73dd4887ad1cd5cfad11c464",
       "version_major": 2,
       "version_minor": 0
      },
      "text/plain": [
       "  0%|          | 0/127 [00:00<?, ?it/s]"
      ]
     },
     "metadata": {},
     "output_type": "display_data"
    },
    {
     "name": "stdout",
     "output_type": "stream",
     "text": [
      "{'eval_loss': 0.6005517244338989, 'eval_runtime': 207.378, 'eval_samples_per_second': 4.866, 'eval_steps_per_second': 0.612, 'epoch': 0.71}\n",
      "{'loss': 0.6034, 'grad_norm': 0.6814016699790955, 'learning_rate': 0.0001738100601621661, 'epoch': 0.78}\n"
     ]
    },
    {
     "data": {
      "application/vnd.jupyter.widget-view+json": {
       "model_id": "885ed51833be4b8c82fbc00a9be905e9",
       "version_major": 2,
       "version_minor": 0
      },
      "text/plain": [
       "  0%|          | 0/127 [00:00<?, ?it/s]"
      ]
     },
     "metadata": {},
     "output_type": "display_data"
    },
    {
     "name": "stdout",
     "output_type": "stream",
     "text": [
      "{'eval_loss': 0.5975922346115112, 'eval_runtime': 207.4306, 'eval_samples_per_second': 4.864, 'eval_steps_per_second': 0.612, 'epoch': 0.78}\n",
      "{'loss': 0.6036, 'grad_norm': 0.513012170791626, 'learning_rate': 0.00016844914508964935, 'epoch': 0.85}\n"
     ]
    },
    {
     "data": {
      "application/vnd.jupyter.widget-view+json": {
       "model_id": "e740577322234881990b386f4cd8fd53",
       "version_major": 2,
       "version_minor": 0
      },
      "text/plain": [
       "  0%|          | 0/127 [00:00<?, ?it/s]"
      ]
     },
     "metadata": {},
     "output_type": "display_data"
    },
    {
     "name": "stdout",
     "output_type": "stream",
     "text": [
      "{'eval_loss': 0.6095923781394958, 'eval_runtime': 207.3101, 'eval_samples_per_second': 4.867, 'eval_steps_per_second': 0.613, 'epoch': 0.85}\n",
      "{'loss': 0.606, 'grad_norm': 0.3606177568435669, 'learning_rate': 0.00016268946491664139, 'epoch': 0.92}\n"
     ]
    },
    {
     "data": {
      "application/vnd.jupyter.widget-view+json": {
       "model_id": "5dafdc7c09b8410fa4f1b509e00eda0b",
       "version_major": 2,
       "version_minor": 0
      },
      "text/plain": [
       "  0%|          | 0/127 [00:00<?, ?it/s]"
      ]
     },
     "metadata": {},
     "output_type": "display_data"
    },
    {
     "name": "stdout",
     "output_type": "stream",
     "text": [
      "{'eval_loss': 0.5979039669036865, 'eval_runtime': 207.4647, 'eval_samples_per_second': 4.863, 'eval_steps_per_second': 0.612, 'epoch': 0.92}\n",
      "{'loss': 0.5993, 'grad_norm': 0.659259021282196, 'learning_rate': 0.00015656457388899838, 'epoch': 0.99}\n"
     ]
    },
    {
     "data": {
      "application/vnd.jupyter.widget-view+json": {
       "model_id": "cdbab6b327af4e17bab70b217face3a5",
       "version_major": 2,
       "version_minor": 0
      },
      "text/plain": [
       "  0%|          | 0/127 [00:00<?, ?it/s]"
      ]
     },
     "metadata": {},
     "output_type": "display_data"
    },
    {
     "name": "stdout",
     "output_type": "stream",
     "text": [
      "{'eval_loss': 0.5970259308815002, 'eval_runtime': 207.469, 'eval_samples_per_second': 4.863, 'eval_steps_per_second': 0.612, 'epoch': 0.99}\n",
      "{'loss': 0.5997, 'grad_norm': 0.6198107004165649, 'learning_rate': 0.00015011015386633952, 'epoch': 1.06}\n"
     ]
    },
    {
     "data": {
      "application/vnd.jupyter.widget-view+json": {
       "model_id": "c28a5f2e7a8147ee9cc120da648711b9",
       "version_major": 2,
       "version_minor": 0
      },
      "text/plain": [
       "  0%|          | 0/127 [00:00<?, ?it/s]"
      ]
     },
     "metadata": {},
     "output_type": "display_data"
    },
    {
     "name": "stdout",
     "output_type": "stream",
     "text": [
      "{'eval_loss': 0.5982423424720764, 'eval_runtime': 207.312, 'eval_samples_per_second': 4.867, 'eval_steps_per_second': 0.613, 'epoch': 1.06}\n",
      "{'loss': 0.5921, 'grad_norm': 0.5937978029251099, 'learning_rate': 0.00014336380644975965, 'epoch': 1.13}\n"
     ]
    },
    {
     "data": {
      "application/vnd.jupyter.widget-view+json": {
       "model_id": "05273ef86e7c45bb962c8a394a744c6b",
       "version_major": 2,
       "version_minor": 0
      },
      "text/plain": [
       "  0%|          | 0/127 [00:00<?, ?it/s]"
      ]
     },
     "metadata": {},
     "output_type": "display_data"
    },
    {
     "name": "stdout",
     "output_type": "stream",
     "text": [
      "{'eval_loss': 0.5910354852676392, 'eval_runtime': 207.3272, 'eval_samples_per_second': 4.867, 'eval_steps_per_second': 0.613, 'epoch': 1.13}\n",
      "{'loss': 0.5945, 'grad_norm': 0.33913224935531616, 'learning_rate': 0.00013636483392567885, 'epoch': 1.2}\n"
     ]
    },
    {
     "data": {
      "application/vnd.jupyter.widget-view+json": {
       "model_id": "651b612b4028407abdf4669a5f653c4a",
       "version_major": 2,
       "version_minor": 0
      },
      "text/plain": [
       "  0%|          | 0/127 [00:00<?, ?it/s]"
      ]
     },
     "metadata": {},
     "output_type": "display_data"
    },
    {
     "name": "stdout",
     "output_type": "stream",
     "text": [
      "{'eval_loss': 0.5930391550064087, 'eval_runtime': 207.3734, 'eval_samples_per_second': 4.866, 'eval_steps_per_second': 0.612, 'epoch': 1.2}\n",
      "{'loss': 0.5879, 'grad_norm': 0.5229089856147766, 'learning_rate': 0.0001291540103019864, 'epoch': 1.27}\n"
     ]
    },
    {
     "data": {
      "application/vnd.jupyter.widget-view+json": {
       "model_id": "2596f5e7b93f47e188f41a833e012e82",
       "version_major": 2,
       "version_minor": 0
      },
      "text/plain": [
       "  0%|          | 0/127 [00:00<?, ?it/s]"
      ]
     },
     "metadata": {},
     "output_type": "display_data"
    },
    {
     "name": "stdout",
     "output_type": "stream",
     "text": [
      "{'eval_loss': 0.5855467319488525, 'eval_runtime': 207.305, 'eval_samples_per_second': 4.867, 'eval_steps_per_second': 0.613, 'epoch': 1.27}\n",
      "{'loss': 0.593, 'grad_norm': 0.6093392372131348, 'learning_rate': 0.00012177334377035738, 'epoch': 1.34}\n"
     ]
    },
    {
     "data": {
      "application/vnd.jupyter.widget-view+json": {
       "model_id": "4e5e318fee8f453fb72dca58f96cd5a1",
       "version_major": 2,
       "version_minor": 0
      },
      "text/plain": [
       "  0%|          | 0/127 [00:00<?, ?it/s]"
      ]
     },
     "metadata": {},
     "output_type": "display_data"
    },
    {
     "name": "stdout",
     "output_type": "stream",
     "text": [
      "{'eval_loss': 0.5864390730857849, 'eval_runtime': 207.3861, 'eval_samples_per_second': 4.865, 'eval_steps_per_second': 0.612, 'epoch': 1.34}\n",
      "{'loss': 0.5898, 'grad_norm': 0.5608136057853699, 'learning_rate': 0.00011426583197856858, 'epoch': 1.41}\n"
     ]
    },
    {
     "data": {
      "application/vnd.jupyter.widget-view+json": {
       "model_id": "57b207636c0e43358514d51412ebc9d8",
       "version_major": 2,
       "version_minor": 0
      },
      "text/plain": [
       "  0%|          | 0/127 [00:00<?, ?it/s]"
      ]
     },
     "metadata": {},
     "output_type": "display_data"
    },
    {
     "name": "stdout",
     "output_type": "stream",
     "text": [
      "{'eval_loss': 0.5889110565185547, 'eval_runtime': 207.3553, 'eval_samples_per_second': 4.866, 'eval_steps_per_second': 0.612, 'epoch': 1.41}\n",
      "{'loss': 0.5901, 'grad_norm': 0.3741501569747925, 'learning_rate': 0.00010667521153852603, 'epoch': 1.48}\n"
     ]
    },
    {
     "data": {
      "application/vnd.jupyter.widget-view+json": {
       "model_id": "9b6802bd59634ef8bdd231b45ff042a5",
       "version_major": 2,
       "version_minor": 0
      },
      "text/plain": [
       "  0%|          | 0/127 [00:00<?, ?it/s]"
      ]
     },
     "metadata": {},
     "output_type": "display_data"
    },
    {
     "name": "stdout",
     "output_type": "stream",
     "text": [
      "{'eval_loss': 0.5878980755805969, 'eval_runtime': 207.4135, 'eval_samples_per_second': 4.865, 'eval_steps_per_second': 0.612, 'epoch': 1.48}\n",
      "{'loss': 0.5916, 'grad_norm': 0.6314516067504883, 'learning_rate': 9.904570322930005e-05, 'epoch': 1.55}\n"
     ]
    },
    {
     "data": {
      "application/vnd.jupyter.widget-view+json": {
       "model_id": "ee3719269ca94399ad80164e9f26de85",
       "version_major": 2,
       "version_minor": 0
      },
      "text/plain": [
       "  0%|          | 0/127 [00:00<?, ?it/s]"
      ]
     },
     "metadata": {},
     "output_type": "display_data"
    },
    {
     "name": "stdout",
     "output_type": "stream",
     "text": [
      "{'eval_loss': 0.585060715675354, 'eval_runtime': 207.4067, 'eval_samples_per_second': 4.865, 'eval_steps_per_second': 0.612, 'epoch': 1.55}\n",
      "{'loss': 0.5868, 'grad_norm': 0.5129811763763428, 'learning_rate': 9.142175437954095e-05, 'epoch': 1.62}\n"
     ]
    },
    {
     "data": {
      "application/vnd.jupyter.widget-view+json": {
       "model_id": "d009c8b376104256b1094f0318757070",
       "version_major": 2,
       "version_minor": 0
      },
      "text/plain": [
       "  0%|          | 0/127 [00:00<?, ?it/s]"
      ]
     },
     "metadata": {},
     "output_type": "display_data"
    },
    {
     "name": "stdout",
     "output_type": "stream",
     "text": [
      "{'eval_loss': 0.5909923911094666, 'eval_runtime': 207.3145, 'eval_samples_per_second': 4.867, 'eval_steps_per_second': 0.613, 'epoch': 1.62}\n",
      "{'loss': 0.583, 'grad_norm': 0.5979417562484741, 'learning_rate': 8.384777993008154e-05, 'epoch': 1.69}\n"
     ]
    },
    {
     "data": {
      "application/vnd.jupyter.widget-view+json": {
       "model_id": "a4ce446e0fb1452e81877cfd1c5b07d9",
       "version_major": 2,
       "version_minor": 0
      },
      "text/plain": [
       "  0%|          | 0/127 [00:00<?, ?it/s]"
      ]
     },
     "metadata": {},
     "output_type": "display_data"
    },
    {
     "name": "stdout",
     "output_type": "stream",
     "text": [
      "{'eval_loss': 0.5874189734458923, 'eval_runtime': 207.2694, 'eval_samples_per_second': 4.868, 'eval_steps_per_second': 0.613, 'epoch': 1.69}\n",
      "{'loss': 0.5789, 'grad_norm': 0.28921717405319214, 'learning_rate': 7.636790368522208e-05, 'epoch': 1.76}\n"
     ]
    },
    {
     "data": {
      "application/vnd.jupyter.widget-view+json": {
       "model_id": "8f584de8fb6b4bbcb300f7c9aeb27ccb",
       "version_major": 2,
       "version_minor": 0
      },
      "text/plain": [
       "  0%|          | 0/127 [00:00<?, ?it/s]"
      ]
     },
     "metadata": {},
     "output_type": "display_data"
    },
    {
     "name": "stdout",
     "output_type": "stream",
     "text": [
      "{'eval_loss': 0.5834031701087952, 'eval_runtime': 207.257, 'eval_samples_per_second': 4.868, 'eval_steps_per_second': 0.613, 'epoch': 1.76}\n",
      "{'loss': 0.5768, 'grad_norm': 0.585538923740387, 'learning_rate': 6.90257012600931e-05, 'epoch': 1.83}\n"
     ]
    },
    {
     "data": {
      "application/vnd.jupyter.widget-view+json": {
       "model_id": "a875b27c403b437592f7ebfd8b26d22b",
       "version_major": 2,
       "version_minor": 0
      },
      "text/plain": [
       "  0%|          | 0/127 [00:00<?, ?it/s]"
      ]
     },
     "metadata": {},
     "output_type": "display_data"
    },
    {
     "name": "stdout",
     "output_type": "stream",
     "text": [
      "{'eval_loss': 0.5828379392623901, 'eval_runtime': 207.1675, 'eval_samples_per_second': 4.87, 'eval_steps_per_second': 0.613, 'epoch': 1.83}\n",
      "{'loss': 0.5833, 'grad_norm': 0.6589730381965637, 'learning_rate': 6.186394622161136e-05, 'epoch': 1.9}\n"
     ]
    },
    {
     "data": {
      "application/vnd.jupyter.widget-view+json": {
       "model_id": "3e05d8f1cf074d7a82a036327431a436",
       "version_major": 2,
       "version_minor": 0
      },
      "text/plain": [
       "  0%|          | 0/127 [00:00<?, ?it/s]"
      ]
     },
     "metadata": {},
     "output_type": "display_data"
    },
    {
     "name": "stdout",
     "output_type": "stream",
     "text": [
      "{'eval_loss': 0.5833718180656433, 'eval_runtime': 207.16, 'eval_samples_per_second': 4.871, 'eval_steps_per_second': 0.613, 'epoch': 1.9}\n",
      "{'loss': 0.5799, 'grad_norm': 0.5575891137123108, 'learning_rate': 5.4924360901938574e-05, 'epoch': 1.97}\n"
     ]
    },
    {
     "data": {
      "application/vnd.jupyter.widget-view+json": {
       "model_id": "a07ed11941554fbc9a6786c06fb808c6",
       "version_major": 2,
       "version_minor": 0
      },
      "text/plain": [
       "  0%|          | 0/127 [00:00<?, ?it/s]"
      ]
     },
     "metadata": {},
     "output_type": "display_data"
    },
    {
     "name": "stdout",
     "output_type": "stream",
     "text": [
      "{'eval_loss': 0.5830432176589966, 'eval_runtime': 207.2632, 'eval_samples_per_second': 4.868, 'eval_steps_per_second': 0.613, 'epoch': 1.97}\n",
      "{'loss': 0.5802, 'grad_norm': 0.7015810012817383, 'learning_rate': 4.8247373336132565e-05, 'epoch': 2.04}\n"
     ]
    },
    {
     "data": {
      "application/vnd.jupyter.widget-view+json": {
       "model_id": "d5f587c0c0f84300833bb459f8ebbab2",
       "version_major": 2,
       "version_minor": 0
      },
      "text/plain": [
       "  0%|          | 0/127 [00:00<?, ?it/s]"
      ]
     },
     "metadata": {},
     "output_type": "display_data"
    },
    {
     "name": "stdout",
     "output_type": "stream",
     "text": [
      "{'eval_loss': 0.5808414220809937, 'eval_runtime': 207.208, 'eval_samples_per_second': 4.87, 'eval_steps_per_second': 0.613, 'epoch': 2.04}\n",
      "{'loss': 0.5774, 'grad_norm': 0.7528380751609802, 'learning_rate': 4.187188174000262e-05, 'epoch': 2.12}\n"
     ]
    },
    {
     "data": {
      "application/vnd.jupyter.widget-view+json": {
       "model_id": "b237309d68ce43b8aeda23d2450910a3",
       "version_major": 2,
       "version_minor": 0
      },
      "text/plain": [
       "  0%|          | 0/127 [00:00<?, ?it/s]"
      ]
     },
     "metadata": {},
     "output_type": "display_data"
    },
    {
     "name": "stdout",
     "output_type": "stream",
     "text": [
      "{'eval_loss': 0.5814663767814636, 'eval_runtime': 207.2397, 'eval_samples_per_second': 4.869, 'eval_steps_per_second': 0.613, 'epoch': 2.12}\n",
      "{'loss': 0.5755, 'grad_norm': 0.36207103729248047, 'learning_rate': 3.5835027900253036e-05, 'epoch': 2.19}\n"
     ]
    },
    {
     "data": {
      "application/vnd.jupyter.widget-view+json": {
       "model_id": "b52faf81b5504bce857fbc286eecd55f",
       "version_major": 2,
       "version_minor": 0
      },
      "text/plain": [
       "  0%|          | 0/127 [00:00<?, ?it/s]"
      ]
     },
     "metadata": {},
     "output_type": "display_data"
    },
    {
     "name": "stdout",
     "output_type": "stream",
     "text": [
      "{'eval_loss': 0.5809035897254944, 'eval_runtime': 207.2332, 'eval_samples_per_second': 4.869, 'eval_steps_per_second': 0.613, 'epoch': 2.19}\n",
      "{'loss': 0.5799, 'grad_norm': 0.36780938506126404, 'learning_rate': 3.017198079707937e-05, 'epoch': 2.26}\n"
     ]
    },
    {
     "data": {
      "application/vnd.jupyter.widget-view+json": {
       "model_id": "746ef29a17dd4c5ba5ecc28b496e9fad",
       "version_major": 2,
       "version_minor": 0
      },
      "text/plain": [
       "  0%|          | 0/127 [00:00<?, ?it/s]"
      ]
     },
     "metadata": {},
     "output_type": "display_data"
    },
    {
     "name": "stdout",
     "output_type": "stream",
     "text": [
      "{'eval_loss': 0.580021858215332, 'eval_runtime': 207.2024, 'eval_samples_per_second': 4.87, 'eval_steps_per_second': 0.613, 'epoch': 2.26}\n",
      "{'loss': 0.5778, 'grad_norm': 0.39794638752937317, 'learning_rate': 2.491573171976982e-05, 'epoch': 2.33}\n"
     ]
    },
    {
     "data": {
      "application/vnd.jupyter.widget-view+json": {
       "model_id": "6ebdbd12efd747e399d7781f86f6b71d",
       "version_major": 2,
       "version_minor": 0
      },
      "text/plain": [
       "  0%|          | 0/127 [00:00<?, ?it/s]"
      ]
     },
     "metadata": {},
     "output_type": "display_data"
    },
    {
     "name": "stdout",
     "output_type": "stream",
     "text": [
      "{'eval_loss': 0.5811988711357117, 'eval_runtime': 207.0345, 'eval_samples_per_second': 4.874, 'eval_steps_per_second': 0.613, 'epoch': 2.33}\n",
      "{'loss': 0.5752, 'grad_norm': 0.3086383640766144, 'learning_rate': 2.009690206890984e-05, 'epoch': 2.4}\n"
     ]
    },
    {
     "data": {
      "application/vnd.jupyter.widget-view+json": {
       "model_id": "0cd132530aac497b867fe490f882b327",
       "version_major": 2,
       "version_minor": 0
      },
      "text/plain": [
       "  0%|          | 0/127 [00:00<?, ?it/s]"
      ]
     },
     "metadata": {},
     "output_type": "display_data"
    },
    {
     "name": "stdout",
     "output_type": "stream",
     "text": [
      "{'eval_loss': 0.5787782073020935, 'eval_runtime': 207.1691, 'eval_samples_per_second': 4.87, 'eval_steps_per_second': 0.613, 'epoch': 2.4}\n",
      "{'loss': 0.577, 'grad_norm': 0.4183196723461151, 'learning_rate': 1.5743564964878867e-05, 'epoch': 2.47}\n"
     ]
    },
    {
     "data": {
      "application/vnd.jupyter.widget-view+json": {
       "model_id": "71d1d92ef3154361ae2233aa6e89b1e7",
       "version_major": 2,
       "version_minor": 0
      },
      "text/plain": [
       "  0%|          | 0/127 [00:00<?, ?it/s]"
      ]
     },
     "metadata": {},
     "output_type": "display_data"
    },
    {
     "name": "stdout",
     "output_type": "stream",
     "text": [
      "{'eval_loss': 0.5787116289138794, 'eval_runtime': 207.0783, 'eval_samples_per_second': 4.873, 'eval_steps_per_second': 0.613, 'epoch': 2.47}\n",
      "{'loss': 0.5745, 'grad_norm': 0.31973886489868164, 'learning_rate': 1.1881081701897445e-05, 'epoch': 2.54}\n"
     ]
    },
    {
     "data": {
      "application/vnd.jupyter.widget-view+json": {
       "model_id": "14ba5d15450f4ed3858ad59b785e1cc4",
       "version_major": 2,
       "version_minor": 0
      },
      "text/plain": [
       "  0%|          | 0/127 [00:00<?, ?it/s]"
      ]
     },
     "metadata": {},
     "output_type": "display_data"
    },
    {
     "name": "stdout",
     "output_type": "stream",
     "text": [
      "{'eval_loss': 0.5773187875747681, 'eval_runtime': 207.1977, 'eval_samples_per_second': 4.87, 'eval_steps_per_second': 0.613, 'epoch': 2.54}\n",
      "{'loss': 0.5739, 'grad_norm': 0.33428066968917847, 'learning_rate': 8.531954000395991e-06, 'epoch': 2.61}\n"
     ]
    },
    {
     "data": {
      "application/vnd.jupyter.widget-view+json": {
       "model_id": "5bc03a60b8464e9cb0f723d5c66117be",
       "version_major": 2,
       "version_minor": 0
      },
      "text/plain": [
       "  0%|          | 0/127 [00:00<?, ?it/s]"
      ]
     },
     "metadata": {},
     "output_type": "display_data"
    },
    {
     "name": "stdout",
     "output_type": "stream",
     "text": [
      "{'eval_loss': 0.5783634781837463, 'eval_runtime': 207.1812, 'eval_samples_per_second': 4.87, 'eval_steps_per_second': 0.613, 'epoch': 2.61}\n",
      "{'loss': 0.5769, 'grad_norm': 0.4052993953227997, 'learning_rate': 5.715692918441029e-06, 'epoch': 2.68}\n"
     ]
    },
    {
     "data": {
      "application/vnd.jupyter.widget-view+json": {
       "model_id": "879060a60dec439280cab48c9719daf4",
       "version_major": 2,
       "version_minor": 0
      },
      "text/plain": [
       "  0%|          | 0/127 [00:00<?, ?it/s]"
      ]
     },
     "metadata": {},
     "output_type": "display_data"
    },
    {
     "name": "stdout",
     "output_type": "stream",
     "text": [
      "{'eval_loss': 0.5779235363006592, 'eval_runtime': 207.1182, 'eval_samples_per_second': 4.872, 'eval_steps_per_second': 0.613, 'epoch': 2.68}\n",
      "{'loss': 0.5749, 'grad_norm': 0.31276705861091614, 'learning_rate': 3.4487051859031004e-06, 'epoch': 2.75}\n"
     ]
    },
    {
     "data": {
      "application/vnd.jupyter.widget-view+json": {
       "model_id": "03b932ad32934bacb984453565460c94",
       "version_major": 2,
       "version_minor": 0
      },
      "text/plain": [
       "  0%|          | 0/127 [00:00<?, ?it/s]"
      ]
     },
     "metadata": {},
     "output_type": "display_data"
    },
    {
     "name": "stdout",
     "output_type": "stream",
     "text": [
      "{'eval_loss': 0.5773125886917114, 'eval_runtime': 207.0416, 'eval_samples_per_second': 4.873, 'eval_steps_per_second': 0.613, 'epoch': 2.75}\n",
      "{'loss': 0.5739, 'grad_norm': 0.28618577122688293, 'learning_rate': 1.7441976235509917e-06, 'epoch': 2.82}\n"
     ]
    },
    {
     "data": {
      "application/vnd.jupyter.widget-view+json": {
       "model_id": "02a985f2f87347ba8e5c7b7f039496f8",
       "version_major": 2,
       "version_minor": 0
      },
      "text/plain": [
       "  0%|          | 0/127 [00:00<?, ?it/s]"
      ]
     },
     "metadata": {},
     "output_type": "display_data"
    },
    {
     "name": "stdout",
     "output_type": "stream",
     "text": [
      "{'eval_loss': 0.5769160985946655, 'eval_runtime': 207.0569, 'eval_samples_per_second': 4.873, 'eval_steps_per_second': 0.613, 'epoch': 2.82}\n",
      "{'loss': 0.5721, 'grad_norm': 0.23402521014213562, 'learning_rate': 6.12100203899335e-07, 'epoch': 2.89}\n"
     ]
    },
    {
     "data": {
      "application/vnd.jupyter.widget-view+json": {
       "model_id": "e06a3798957b4ea9aa9728d2d851a877",
       "version_major": 2,
       "version_minor": 0
      },
      "text/plain": [
       "  0%|          | 0/127 [00:00<?, ?it/s]"
      ]
     },
     "metadata": {},
     "output_type": "display_data"
    },
    {
     "name": "stdout",
     "output_type": "stream",
     "text": [
      "{'eval_loss': 0.5767371654510498, 'eval_runtime': 207.1175, 'eval_samples_per_second': 4.872, 'eval_steps_per_second': 0.613, 'epoch': 2.89}\n",
      "{'loss': 0.5703, 'grad_norm': 0.28843173384666443, 'learning_rate': 5.900820203481594e-08, 'epoch': 2.96}\n"
     ]
    },
    {
     "data": {
      "application/vnd.jupyter.widget-view+json": {
       "model_id": "a18092c45e1a4eeda74be343289943b0",
       "version_major": 2,
       "version_minor": 0
      },
      "text/plain": [
       "  0%|          | 0/127 [00:00<?, ?it/s]"
      ]
     },
     "metadata": {},
     "output_type": "display_data"
    },
    {
     "name": "stdout",
     "output_type": "stream",
     "text": [
      "{'eval_loss': 0.5767733454704285, 'eval_runtime': 207.1256, 'eval_samples_per_second': 4.871, 'eval_steps_per_second': 0.613, 'epoch': 2.96}\n",
      "{'train_runtime': 26880.8085, 'train_samples_per_second': 1.013, 'train_steps_per_second': 0.032, 'train_loss': 0.599503926590559, 'epoch': 2.99}\n"
     ]
    },
    {
     "data": {
      "text/plain": [
       "TrainOutput(global_step=849, training_loss=0.599503926590559, metrics={'train_runtime': 26880.8085, 'train_samples_per_second': 1.013, 'train_steps_per_second': 0.032, 'train_loss': 0.599503926590559, 'epoch': 2.99})"
      ]
     },
     "execution_count": 23,
     "metadata": {},
     "output_type": "execute_result"
    }
   ],
   "source": [
    "import transformers\n",
    "import warnings\n",
    "warnings.filterwarnings(\"ignore\", category=UserWarning)\n",
    "\n",
    "trainer = Trainer(\n",
    "    model=model,\n",
    "    args=training_params,\n",
    "    train_dataset=train_set,\n",
    "    eval_dataset=eval_set,\n",
    "    tokenizer=tokenizer,\n",
    "    data_collator=transformers.DataCollatorForLanguageModeling(tokenizer, mlm=False),\n",
    ")\n",
    "\n",
    "trainer.train()"
   ]
  },
  {
   "cell_type": "code",
   "execution_count": 24,
   "metadata": {},
   "outputs": [
    {
     "data": {
      "text/html": [
       "\n",
       "      <iframe id=\"tensorboard-frame-1c80317fa3b1799d\" width=\"100%\" height=\"800\" frameborder=\"0\">\n",
       "      </iframe>\n",
       "      <script>\n",
       "        (function() {\n",
       "          const frame = document.getElementById(\"tensorboard-frame-1c80317fa3b1799d\");\n",
       "          const url = new URL(\"/\", window.location);\n",
       "          const port = 4000;\n",
       "          if (port) {\n",
       "            url.port = port;\n",
       "          }\n",
       "          frame.src = url;\n",
       "        })();\n",
       "      </script>\n",
       "    "
      ],
      "text/plain": [
       "<IPython.core.display.HTML object>"
      ]
     },
     "metadata": {},
     "output_type": "display_data"
    }
   ],
   "source": [
    "from tensorboard import notebook\n",
    "log_dir = \"./models\" \n",
    "notebook.start(\"--logdir {} --port 4000\".format(log_dir))"
   ]
  },
  {
   "cell_type": "code",
   "execution_count": 29,
   "metadata": {},
   "outputs": [],
   "source": [
    "instruction = \"사용자의 영화 평점 기록을 바탕으로 영화를 추천해줍니다. 영화 title 리스트를 생성해주고, 관련한 메타메이터를 보여줍니다. must return json format\"\n",
    "user_rating_str = [{\"genres\": \"Adventure|Animation|Children|Comedy|Crime\", \"imdbId\": \"tt432283\", \"rating\": 4, \"timestamp\": 1490115587, \"title\": \"Fantastic Mr. Fox (2009)\"}, {\"genres\": \"Drama\", \"imdbId\": \"tt878804\", \"rating\": 4, \"timestamp\": 1490115555, \"title\": \"Blind Side, The  (2009)\"}, {\"genres\": \"Action|Adventure|Sci-Fi|IMAX\", \"imdbId\": \"tt499549\", \"rating\": 3, \"timestamp\": 1490114868, \"title\": \"Avatar (2009)\"}, {\"genres\": \"Action|Crime|Mystery|Thriller\", \"imdbId\": \"tt988045\", \"rating\": 4, \"timestamp\": 1490203284, \"title\": \"Sherlock Holmes (2009)\"}, {\"genres\": \"Action|Drama|Thriller|War\", \"imdbId\": \"tt947810\", \"rating\": 3, \"timestamp\": 1498429805, \"title\": \"Green Zone (2010)\"}, {\"genres\": \"Adventure|Animation|Children|Fantasy|IMAX\", \"imdbId\": \"tt892769\", \"rating\": 2, \"timestamp\": 1523216857, \"title\": \"How to Train Your Dragon (2010)\"}, {\"genres\": \"Action|Comedy\", \"imdbId\": \"tt1250777\", \"rating\": 4, \"timestamp\": 1490114728, \"title\": \"Kick-Ass (2010)\"}, {\"genres\": \"Action|Adventure|Sci-Fi|Thriller|IMAX\", \"imdbId\": \"tt1228705\", \"rating\": 3, \"timestamp\": 1523217071, \"title\": \"Iron Man 2 (2010)\"}, {\"genres\": \"Comedy|Drama\", \"imdbId\": \"tt1341167\", \"rating\": 4, \"timestamp\": 1503761720, \"title\": \"Four Lions (2010)\"}, {\"genres\": \"Animation|Children|Comedy|Crime\", \"imdbId\": \"tt1323594\", \"rating\": 4, \"timestamp\": 1523216677, \"title\": \"Despicable Me (2010)\"}]\n"
   ]
  },
  {
   "cell_type": "code",
   "execution_count": null,
   "metadata": {},
   "outputs": [],
   "source": [
    "user_ratings_info:\n"
   ]
  },
  {
   "cell_type": "code",
   "execution_count": 33,
   "metadata": {},
   "outputs": [],
   "source": [
    "instruction = '''\n",
    "사용자의 영화 평점 정보 목록을 바탕으로 영화 추천 목록의 우선순위를 정해줄거야. 우선순위에 따라 정렬된 영화 imdb_id의 추천 리스트를 반환하고, 해당 imdb_id에 대한 메타메이터를 출력할거야. must return json format\n",
    "'''\n",
    "key_info_str = {\"keywords\": ['toy', 'love', 'universe']}\n",
    "# genres_str={\"genres\":['animation']}\n"
   ]
  },
  {
   "cell_type": "code",
   "execution_count": 34,
   "metadata": {},
   "outputs": [
    {
     "name": "stdout",
     "output_type": "stream",
     "text": [
      "<s> \n",
      "###instruction:\n",
      "\n",
      "사용자의 영화 평점 기록을 바탕으로 영화를 추천해줍니다. 영화 title 리스트를 생성해주고, 관련한 메타메이터를 보여줍니다. must return json format\n",
      "\n",
      "\n",
      "\n",
      "user_ratings_info:\n",
      "[{'genres': 'Adventure|Animation|Children|Comedy|Crime', 'imdbId': 'tt432283', 'rating': 4, 'timestamp': 1490115587, 'title': 'Fantastic Mr. Fox (2009)'}, {'genres': 'Drama', 'imdbId': 'tt878804', 'rating': 4, 'timestamp': 1490115555, 'title': 'Blind Side, The  (2009)'}, {'genres': 'Action|Adventure|Sci-Fi|IMAX', 'imdbId': 'tt499549', 'rating': 3, 'timestamp': 1490114868, 'title': 'Avatar (2009)'}, {'genres': 'Action|Crime|Mystery|Thriller', 'imdbId': 'tt988045', 'rating': 4, 'timestamp': 1490203284, 'title': 'Sherlock Holmes (2009)'}, {'genres': 'Action|Drama|Thriller|War', 'imdbId': 'tt947810', 'rating': 3, 'timestamp': 1498429805, 'title': 'Green Zone (2010)'}, {'genres': 'Adventure|Animation|Children|Fantasy|IMAX', 'imdbId': 'tt892769', 'rating': 2, 'timestamp': 1523216857, 'title': 'How to Train Your Dragon (2010)'}, {'genres': 'Action|Comedy', 'imdbId': 'tt1250777', 'rating': 4, 'timestamp': 1490114728, 'title': 'Kick-Ass (2010)'}, {'genres': 'Action|Adventure|Sci-Fi|Thriller|IMAX', 'imdbId': 'tt1228705', 'rating': 3, 'timestamp': 1523217071, 'title': 'Iron Man 2 (2010)'}, {'genres': 'Comedy|Drama', 'imdbId': 'tt1341167', 'rating': 4, 'timestamp': 1503761720, 'title': 'Four Lions (2010)'}, {'genres': 'Animation|Children|Comedy|Crime', 'imdbId': 'tt1323594', 'rating': 4, 'timestamp': 1523216677, 'title': 'Despicable Me (2010)'}]\n",
      "Sensor:\n",
      "SPA:\n",
      "SPA:\n",
      "SPA:\n",
      "Car:Stt\":SLtt:\n",
      "CAT:\n",
      "SPA:\n",
      "Car:\n",
      "SPA:\n",
      "SPA:\n",
      "SPA:\n",
      "SPA:\n",
      "SPA:\n",
      "SPA:\n",
      "SPA:\n",
      "SPA:SLI:SPA:SLPA:SPA:SLPA:SPA:SLAT:SIII:SPA:SPA:SPA:SPA:SPA:SPA:SPA:SPA:SPA:SPA:SPA:SPA:SPA:SLATS:SLPA:SLATS:SPA:SLPA:SPA:SPA:SLPA:SPA:SPA:SPA:SPA:SPA:SPA:SPA:SLPA:SPA:SPA:SPA:SLPA:SPA:SLPA:SLI:SLPA:SLSIPASSLSWLSLI:SPASLSLSIHSSLPASSWSL\n"
     ]
    }
   ],
   "source": [
    "# ###instruction:\n",
    "# {instruction}\n",
    "\n",
    "text = f'''\n",
    "###instruction:\n",
    "{instruction}\n",
    "\n",
    "\n",
    "user_ratings_info:\n",
    "{user_rating_str}\n",
    "'''\n",
    "inputs = tokenizer(text, return_tensors=\"pt\").to(\"cuda\")\n",
    "outputs = model.generate(\n",
    "    input_ids=inputs[\"input_ids\"].to(\"cuda\"), \n",
    "    attention_mask=inputs[\"attention_mask\"], \n",
    "    max_new_tokens=256,\n",
    "    early_stopping=True,\n",
    "    pad_token_id=tokenizer.eos_token_id\n",
    ")\n",
    "output = tokenizer.decode(outputs[0])\n",
    "print(output)\n"
   ]
  },
  {
   "cell_type": "code",
   "execution_count": null,
   "metadata": {},
   "outputs": [],
   "source": []
  }
 ],
 "metadata": {
  "kernelspec": {
   "display_name": "llm_rec_test",
   "language": "python",
   "name": "python3"
  },
  "language_info": {
   "codemirror_mode": {
    "name": "ipython",
    "version": 3
   },
   "file_extension": ".py",
   "mimetype": "text/x-python",
   "name": "python",
   "nbconvert_exporter": "python",
   "pygments_lexer": "ipython3",
   "version": "3.8.19"
  }
 },
 "nbformat": 4,
 "nbformat_minor": 2
}
