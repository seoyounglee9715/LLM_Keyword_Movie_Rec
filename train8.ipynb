{
 "cells": [
  {
   "cell_type": "code",
   "execution_count": 1,
   "metadata": {},
   "outputs": [],
   "source": [
    "# dataset: new_ratings_4.json\n",
    "# row data: 10000개"
   ]
  },
  {
   "cell_type": "code",
   "execution_count": 1,
   "metadata": {},
   "outputs": [
    {
     "name": "stderr",
     "output_type": "stream",
     "text": [
      "2024-04-19 12:49:33.415539: I tensorflow/core/platform/cpu_feature_guard.cc:193] This TensorFlow binary is optimized with oneAPI Deep Neural Network Library (oneDNN) to use the following CPU instructions in performance-critical operations:  AVX2 AVX512F AVX512_VNNI FMA\n",
      "To enable them in other operations, rebuild TensorFlow with the appropriate compiler flags.\n",
      "2024-04-19 12:49:33.524274: I tensorflow/core/util/port.cc:104] oneDNN custom operations are on. You may see slightly different numerical results due to floating-point round-off errors from different computation orders. To turn them off, set the environment variable `TF_ENABLE_ONEDNN_OPTS=0`.\n",
      "2024-04-19 12:49:34.030679: W tensorflow/compiler/xla/stream_executor/platform/default/dso_loader.cc:64] Could not load dynamic library 'libnvinfer.so.7'; dlerror: libnvinfer.so.7: cannot open shared object file: No such file or directory; LD_LIBRARY_PATH: /usr/local/cuda/lib64:\n",
      "2024-04-19 12:49:34.030737: W tensorflow/compiler/xla/stream_executor/platform/default/dso_loader.cc:64] Could not load dynamic library 'libnvinfer_plugin.so.7'; dlerror: libnvinfer_plugin.so.7: cannot open shared object file: No such file or directory; LD_LIBRARY_PATH: /usr/local/cuda/lib64:\n",
      "2024-04-19 12:49:34.030742: W tensorflow/compiler/tf2tensorrt/utils/py_utils.cc:38] TF-TRT Warning: Cannot dlopen some TensorRT libraries. If you would like to use Nvidia GPU with TensorRT, please make sure the missing libraries mentioned above are installed properly.\n"
     ]
    }
   ],
   "source": [
    "import torch\n",
    "from transformers import (\n",
    "    AutoModelForCausalLM,\n",
    "    LlamaTokenizerFast,\n",
    "    TrainingArguments,\n",
    "    Trainer,\n",
    "    BitsAndBytesConfig,\n",
    ")\n",
    "from peft import (\n",
    "    LoraConfig,\n",
    "    get_peft_model,\n",
    ")"
   ]
  },
  {
   "cell_type": "code",
   "execution_count": 2,
   "metadata": {},
   "outputs": [],
   "source": [
    "# https://huggingface.co/meta-llama/Llama-2-7b-hf\n",
    "# base_model = \"meta-llama/Llama-2-7b-hf\"\n",
    "base_model = \"meta-llama/Llama-2-7b-chat-hf\"\n",
    "# base_model=\"beomi/open-llama-2-ko-7b\"\n",
    "# base_model = \"huggingface-projects/llama-2-7b-chat\"\n",
    "# base_model = \"TinyPixel/Llama-2-7B-bf16-sharded\""
   ]
  },
  {
   "cell_type": "code",
   "execution_count": 3,
   "metadata": {},
   "outputs": [],
   "source": [
    "# # Fine-tuned model\n",
    "# new_model = \"llama-2-7b-hf-fine-tuned-test1\""
   ]
  },
  {
   "cell_type": "code",
   "execution_count": 3,
   "metadata": {},
   "outputs": [],
   "source": [
    "# QLoRA 모델을 사용하기 위한 설정\n",
    "\n",
    "bnb_config = BitsAndBytesConfig(\n",
    "    load_in_4bit=True,\n",
    "    bnb_4bit_use_double_quant=True,\n",
    "    bnb_4bit_quant_type=\"nf4\",\n",
    "    bnb_4bit_compute_dtype=torch.bfloat16 \n",
    ")\n",
    "\n"
   ]
  },
  {
   "cell_type": "code",
   "execution_count": 4,
   "metadata": {},
   "outputs": [
    {
     "data": {
      "application/vnd.jupyter.widget-view+json": {
       "model_id": "4ae490a50d46488d9a618028d21275ee",
       "version_major": 2,
       "version_minor": 0
      },
      "text/plain": [
       "Loading checkpoint shards:   0%|          | 0/2 [00:00<?, ?it/s]"
      ]
     },
     "metadata": {},
     "output_type": "display_data"
    }
   ],
   "source": [
    "# 라마2 모델 불러오기\n",
    "model = AutoModelForCausalLM.from_pretrained(\n",
    "    base_model,\n",
    "    quantization_config=bnb_config,\n",
    "    device_map=\"auto\",\n",
    ")\n",
    "model.config.use_cache = False\n",
    "model.config.pretraining_tp = 1"
   ]
  },
  {
   "cell_type": "code",
   "execution_count": 5,
   "metadata": {},
   "outputs": [],
   "source": [
    "# 토크나이저 로드\n",
    "import os\n",
    "os.environ[\"TOKENIZERS_PARALLELISM\"] = \"false\" # 토크나이저 병렬처리 방지(오류 방지)\n",
    "os.environ['TRANSFORMERS_NO_ADVISORY_WARNINGS'] = 'true' # __cell__ 오류 방지\n",
    "\n",
    "tokenizer = LlamaTokenizerFast.from_pretrained(\n",
    "    base_model,\n",
    "    trust_remote_code=True\n",
    ")\n",
    "tokenizer.pad_token = tokenizer.eos_token # 패딩 토큰을 문장의 끝으로 설정 </s>\n",
    "tokenizer.padding_side = \"right\" # 패딩을 문장 뒤에 추가"
   ]
  },
  {
   "cell_type": "code",
   "execution_count": 24,
   "metadata": {},
   "outputs": [],
   "source": [
    "# 학습 양식\n",
    "import json\n",
    "from datasets import load_dataset\n",
    "file_name = 'preprocess/dataset3/new_ratings_4.json'"
   ]
  },
  {
   "cell_type": "code",
   "execution_count": 25,
   "metadata": {},
   "outputs": [],
   "source": [
    "import json\n",
    "\n",
    "# JSON 파일 불러오기\n",
    "input_file = file_name\n",
    "with open(input_file, 'r') as f:\n",
    "    data = json.load(f)\n",
    "\n",
    "# 불러온 데이터 확인\n",
    "# print(data)"
   ]
  },
  {
   "cell_type": "code",
   "execution_count": 26,
   "metadata": {},
   "outputs": [
    {
     "name": "stdout",
     "output_type": "stream",
     "text": [
      "[{'title': 'Toy Story (1995)', 'rating': 4.0, 'imdbId': 'tt114709', 'timestamp': 964982703}, {'title': 'Grumpier Old Men (1995)', 'rating': 4.0, 'imdbId': 'tt113228', 'timestamp': 964981247}, {'title': 'Heat (1995)', 'rating': 4.0, 'imdbId': 'tt113277', 'timestamp': 964982224}, {'title': 'Seven (a.k.a. Se7en) (1995)', 'rating': 5.0, 'imdbId': 'tt114369', 'timestamp': 964983815}, {'title': 'Usual Suspects, The (1995)', 'rating': 5.0, 'imdbId': 'tt114814', 'timestamp': 964982931}, {'title': 'From Dusk Till Dawn (1996)', 'rating': 3.0, 'imdbId': 'tt116367', 'timestamp': 964982400}, {'title': 'Bottle Rocket (1996)', 'rating': 5.0, 'imdbId': 'tt115734', 'timestamp': 964980868}, {'title': 'Braveheart (1995)', 'rating': 4.0, 'imdbId': 'tt112573', 'timestamp': 964982176}, {'title': 'Rob Roy (1995)', 'rating': 5.0, 'imdbId': 'tt114287', 'timestamp': 964984041}, {'title': 'Canadian Bacon (1995)', 'rating': 5.0, 'imdbId': 'tt109370', 'timestamp': 964984100}]\n",
      "<class 'list'>\n",
      "{'title': 'Toy Story (1995)', 'rating': 4.0, 'imdbId': 'tt114709', 'timestamp': 964982703}\n",
      "<class 'dict'>\n",
      "[{'title': 'Canadian Bacon (1995)'}, {'title': 'Rob Roy (1995)'}, {'title': 'Seven (a.k.a. Se7en) (1995)'}, {'title': 'Usual Suspects, The (1995)'}, {'title': 'Bottle Rocket (1996)'}, {'title': 'Toy Story (1995)'}, {'title': 'Heat (1995)'}, {'title': 'Braveheart (1995)'}, {'title': 'Grumpier Old Men (1995)'}, {'title': 'From Dusk Till Dawn (1996)'}]\n"
     ]
    }
   ],
   "source": [
    "# print(data[1])\n",
    "\n",
    "print(data[0][\"ratings\"]) # 영화 평점들 정보 모음\n",
    "print(type(data[0][\"ratings\"])) \n",
    "\n",
    "print(data[0][\"ratings\"][0]) # 평점 1개\n",
    "print(type(data[0][\"ratings\"][0])) \n",
    "print(data[0][\"rank\"])"
   ]
  },
  {
   "cell_type": "code",
   "execution_count": 27,
   "metadata": {},
   "outputs": [],
   "source": [
    "instruction = '''\n",
    "I will sort the movie list in descending order based on user rating information. I will show the title for the corresponding movie. It must return in JSON format.\n",
    "'''"
   ]
  },
  {
   "cell_type": "code",
   "execution_count": 28,
   "metadata": {},
   "outputs": [],
   "source": [
    "# 데이터 매핑 함수 정의\n",
    "def map_data_to_format(example):\n",
    "\n",
    "    user_ratings_str = json.dumps(example['ratings'], ensure_ascii=False)\n",
    "    rank_list_str = json.dumps(example[\"rank\"], ensure_ascii=False)\n",
    "    \n",
    "    text = (\n",
    "        f\"###instruction:\\n{instruction}\\n\\n\"\n",
    "        f\"user_rating_information:\\n{user_ratings_str}\\n\\n\"\n",
    "        f\"###response:\\n{rank_list_str}\\n\\n\"\n",
    "    )\n",
    "    \n",
    "    # completion은 모델이 생성해야 할 예상 출력을 포함함\n",
    "    # 여기서는 우선순위에 따라 정렬된 영화 imdb_id의 리스트를 반환합니다.\n",
    "    completion = f\"{{\\\"rank\\\": {rank_list_str}}}\"\n",
    "    \n",
    "    return {'text': text, 'completion': completion}"
   ]
  },
  {
   "cell_type": "code",
   "execution_count": 29,
   "metadata": {},
   "outputs": [
    {
     "data": {
      "application/vnd.jupyter.widget-view+json": {
       "model_id": "f0f26997c49d49cca670c61bd6b2b2cb",
       "version_major": 2,
       "version_minor": 0
      },
      "text/plain": [
       "Downloading data files:   0%|          | 0/1 [00:00<?, ?it/s]"
      ]
     },
     "metadata": {},
     "output_type": "display_data"
    },
    {
     "data": {
      "application/vnd.jupyter.widget-view+json": {
       "model_id": "66c27cf737104f1abd59c494011174a3",
       "version_major": 2,
       "version_minor": 0
      },
      "text/plain": [
       "Extracting data files:   0%|          | 0/1 [00:00<?, ?it/s]"
      ]
     },
     "metadata": {},
     "output_type": "display_data"
    },
    {
     "data": {
      "application/vnd.jupyter.widget-view+json": {
       "model_id": "73f976acd72b4aa1849c7fb08b484b12",
       "version_major": 2,
       "version_minor": 0
      },
      "text/plain": [
       "Generating train split: 0 examples [00:00, ? examples/s]"
      ]
     },
     "metadata": {},
     "output_type": "display_data"
    }
   ],
   "source": [
    "# 데이터셋 로드\n",
    "data = load_dataset('json', data_files=file_name, split=\"train\")"
   ]
  },
  {
   "cell_type": "code",
   "execution_count": 30,
   "metadata": {},
   "outputs": [
    {
     "name": "stdout",
     "output_type": "stream",
     "text": [
      "Dataset({\n",
      "    features: ['rank', 'ratings', 'userId'],\n",
      "    num_rows: 10000\n",
      "})\n"
     ]
    }
   ],
   "source": [
    "print(data)"
   ]
  },
  {
   "cell_type": "code",
   "execution_count": 31,
   "metadata": {},
   "outputs": [],
   "source": [
    "# print(data['ratings'])\n"
   ]
  },
  {
   "cell_type": "code",
   "execution_count": 32,
   "metadata": {},
   "outputs": [],
   "source": [
    "# print(data['order']) # [['tt109370', 'tt114287', 'tt114369', 'tt114814', 'tt115734', 'tt114709', 'tt113277', 'tt112573', 'tt113228', 'tt116367'], ...]"
   ]
  },
  {
   "cell_type": "code",
   "execution_count": 33,
   "metadata": {},
   "outputs": [],
   "source": [
    "# print(data['userId']) # [1, 2, 3, 4, 5, 6, 7, 8, 9, 10, ...]"
   ]
  },
  {
   "cell_type": "code",
   "execution_count": 34,
   "metadata": {},
   "outputs": [
    {
     "data": {
      "application/vnd.jupyter.widget-view+json": {
       "model_id": "b4d110567fab4d7d8aa62e4b671615f7",
       "version_major": 2,
       "version_minor": 0
      },
      "text/plain": [
       "Map:   0%|          | 0/10000 [00:00<?, ? examples/s]"
      ]
     },
     "metadata": {},
     "output_type": "display_data"
    }
   ],
   "source": [
    "# 데이터 매핑 적용\n",
    "mapped_data = data.map(map_data_to_format)"
   ]
  },
  {
   "cell_type": "code",
   "execution_count": 35,
   "metadata": {},
   "outputs": [
    {
     "name": "stdout",
     "output_type": "stream",
     "text": [
      "Dataset({\n",
      "    features: ['rank', 'ratings', 'userId', 'text', 'completion'],\n",
      "    num_rows: 10000\n",
      "})\n"
     ]
    }
   ],
   "source": [
    "print(mapped_data)\n"
   ]
  },
  {
   "cell_type": "code",
   "execution_count": 36,
   "metadata": {},
   "outputs": [
    {
     "data": {
      "application/vnd.jupyter.widget-view+json": {
       "model_id": "4feef503324141e2919956788d5abfbb",
       "version_major": 2,
       "version_minor": 0
      },
      "text/plain": [
       "Map:   0%|          | 0/9000 [00:00<?, ? examples/s]"
      ]
     },
     "metadata": {},
     "output_type": "display_data"
    },
    {
     "data": {
      "application/vnd.jupyter.widget-view+json": {
       "model_id": "17398e6c5d4c4106b4714a2f70378944",
       "version_major": 2,
       "version_minor": 0
      },
      "text/plain": [
       "Map:   0%|          | 0/1000 [00:00<?, ? examples/s]"
      ]
     },
     "metadata": {},
     "output_type": "display_data"
    }
   ],
   "source": [
    "# 데이터셋 분할\n",
    "split_data = mapped_data.train_test_split(test_size=0.1)  # 10%를 테스트셋으로 사용\n",
    "\n",
    "train_set = split_data['train']\n",
    "eval_set = split_data['test']\n",
    "\n",
    "train_set = train_set.map(lambda samples: tokenizer(samples[\"text\"], padding=True, truncation=True, return_tensors=\"pt\"), batched=True)\n",
    "eval_set = eval_set.map(lambda samples: tokenizer(samples[\"text\"], padding=True, truncation=True, return_tensors=\"pt\"), batched=True)\n",
    "\n",
    "# lora 파라미터 설정\n",
    "peft_params = LoraConfig(\n",
    "    lora_alpha=16,\n",
    "    lora_dropout=0.1,\n",
    "    r=64,\n",
    "    bias=\"none\",\n",
    "    task_type=\"CAUSAL_LM\",\n",
    ")\n"
   ]
  },
  {
   "cell_type": "code",
   "execution_count": 37,
   "metadata": {},
   "outputs": [
    {
     "data": {
      "text/plain": [
       "Dataset({\n",
       "    features: ['rank', 'ratings', 'userId', 'text', 'completion', 'input_ids', 'attention_mask'],\n",
       "    num_rows: 9000\n",
       "})"
      ]
     },
     "execution_count": 37,
     "metadata": {},
     "output_type": "execute_result"
    }
   ],
   "source": [
    "train_set"
   ]
  },
  {
   "cell_type": "code",
   "execution_count": 38,
   "metadata": {},
   "outputs": [
    {
     "name": "stdout",
     "output_type": "stream",
     "text": [
      "###instruction:\n",
      "\n",
      "I will sort the movie list in descending order based on user rating information. I will show the title for the corresponding movie. It must return in JSON format.\n",
      "\n",
      "\n",
      "user_rating_information:\n",
      "[{\"imdbId\": \"tt304141\", \"rating\": 4.5, \"timestamp\": 1498029832, \"title\": \"Harry Potter and the Prisoner of Azkaban (2004)\"}, {\"imdbId\": \"tt296572\", \"rating\": 4.5, \"timestamp\": 1498030995, \"title\": \"Chronicles of Riddick, The (2004)\"}, {\"imdbId\": \"tt316654\", \"rating\": 4.5, \"timestamp\": 1498029835, \"title\": \"Spider-Man 2 (2004)\"}, {\"imdbId\": \"tt343818\", \"rating\": 4.5, \"timestamp\": 1498030305, \"title\": \"I, Robot (2004)\"}, {\"imdbId\": \"tt372183\", \"rating\": 4.0, \"timestamp\": 1498030190, \"title\": \"Bourne Supremacy, The (2004)\"}, {\"imdbId\": \"tt307453\", \"rating\": 3.5, \"timestamp\": 1498031399, \"title\": \"Shark Tale (2004)\"}, {\"imdbId\": \"tt317705\", \"rating\": 4.5, \"timestamp\": 1498030114, \"title\": \"Incredibles, The (2004)\"}, {\"imdbId\": \"tt338348\", \"rating\": 4.5, \"timestamp\": 1498031404, \"title\": \"Polar Express, The (2004)\"}, {\"imdbId\": \"tt347149\", \"rating\": 5.0, \"timestamp\": 1498030622, \"title\": \"Howl's Moving Castle (Hauru no ugoku shiro) (2004)\"}, {\"imdbId\": \"tt386588\", \"rating\": 4.5, \"timestamp\": 1498030793, \"title\": \"Hitch (2005)\"}]\n",
      "\n",
      "###response:\n",
      "[{\"title\": \"Howl's Moving Castle (Hauru no ugoku shiro) (2004)\"}, {\"title\": \"Polar Express, The (2004)\"}, {\"title\": \"Chronicles of Riddick, The (2004)\"}, {\"title\": \"Hitch (2005)\"}, {\"title\": \"I, Robot (2004)\"}, {\"title\": \"Incredibles, The (2004)\"}, {\"title\": \"Spider-Man 2 (2004)\"}, {\"title\": \"Harry Potter and the Prisoner of Azkaban (2004)\"}, {\"title\": \"Bourne Supremacy, The (2004)\"}, {\"title\": \"Shark Tale (2004)\"}]\n",
      "\n",
      "\n",
      "\n",
      "\n",
      "<class 'str'>\n",
      "\n",
      "\n",
      "###instruction:\n",
      "\n",
      "I will sort the movie list in descending order based on user rating information. I will show the title for the corresponding movie. It must return in JSON format.\n",
      "\n",
      "\n",
      "user_rating_information:\n",
      "[{\"imdbId\": \"tt163978\", \"rating\": 2.0, \"timestamp\": 1447598431, \"title\": \"Beach, The (2000)\"}, {\"imdbId\": \"tt134847\", \"rating\": 2.0, \"timestamp\": 1449592124, \"title\": \"Pitch Black (2000)\"}, {\"imdbId\": \"tt190138\", \"rating\": 2.5, \"timestamp\": 1447598333, \"title\": \"Whole Nine Yards, The (2000)\"}, {\"imdbId\": \"tt21749\", \"rating\": 3.0, \"timestamp\": 1447584639, \"title\": \"City Lights (1931)\"}, {\"imdbId\": \"tt184858\", \"rating\": 1.0, \"timestamp\": 1449592685, \"title\": \"Reindeer Games (2000)\"}, {\"imdbId\": \"tt185014\", \"rating\": 3.0, \"timestamp\": 1447598360, \"title\": \"Wonder Boys (2000)\"}, {\"imdbId\": \"tt195685\", \"rating\": 1.5, \"timestamp\": 1447598147, \"title\": \"Erin Brockovich (2000)\"}, {\"imdbId\": \"tt195714\", \"rating\": 1.0, \"timestamp\": 1449592206, \"title\": \"Final Destination (2000)\"}, {\"imdbId\": \"tt77975\", \"rating\": 3.0, \"timestamp\": 1447584529, \"title\": \"Animal House (1978)\"}, {\"imdbId\": \"tt27977\", \"rating\": 4.0, \"timestamp\": 1449756314, \"title\": \"Modern Times (1936)\"}]\n",
      "\n",
      "###response:\n",
      "[{\"title\": \"Modern Times (1936)\"}, {\"title\": \"Wonder Boys (2000)\"}, {\"title\": \"City Lights (1931)\"}, {\"title\": \"Animal House (1978)\"}, {\"title\": \"Whole Nine Yards, The (2000)\"}, {\"title\": \"Pitch Black (2000)\"}, {\"title\": \"Beach, The (2000)\"}, {\"title\": \"Erin Brockovich (2000)\"}, {\"title\": \"Reindeer Games (2000)\"}, {\"title\": \"Final Destination (2000)\"}]\n",
      "\n",
      "\n"
     ]
    }
   ],
   "source": [
    "print(train_set[3][\"text\"])\n",
    "print(\"\\n\")\n",
    "print(type(train_set[3][\"text\"]))\n",
    "print(\"\\n\")\n",
    "# print(train_set[20][\"text\"])\n",
    "print(train_set[79][\"text\"])"
   ]
  },
  {
   "cell_type": "code",
   "execution_count": 39,
   "metadata": {},
   "outputs": [
    {
     "name": "stdout",
     "output_type": "stream",
     "text": [
      "###instruction:\n",
      "\n",
      "I will sort the movie list in descending order based on user rating information. I will show the title for the corresponding movie. It must return in JSON format.\n",
      "\n",
      "\n",
      "user_rating_information:\n",
      "[{\"imdbId\": \"tt420223\", \"rating\": 1.0, \"timestamp\": 1508641051, \"title\": \"Stranger than Fiction (2006)\"}, {\"imdbId\": \"tt454921\", \"rating\": 5.0, \"timestamp\": 1508640302, \"title\": \"Pursuit of Happyness, The (2006)\"}, {\"imdbId\": \"tt457939\", \"rating\": 2.0, \"timestamp\": 1508641212, \"title\": \"Holiday, The (2006)\"}, {\"imdbId\": \"tt467406\", \"rating\": 5.0, \"timestamp\": 1508640402, \"title\": \"Juno (2007)\"}, {\"imdbId\": \"tt910970\", \"rating\": 2.0, \"timestamp\": 1508640225, \"title\": \"WALL·E (2008)\"}, {\"imdbId\": \"tt1010048\", \"rating\": 0.5, \"timestamp\": 1508640286, \"title\": \"Slumdog Millionaire (2008)\"}, {\"imdbId\": \"tt421715\", \"rating\": 4.0, \"timestamp\": 1508640383, \"title\": \"Curious Case of Benjamin Button, The (2008)\"}, {\"imdbId\": \"tt1068680\", \"rating\": 4.0, \"timestamp\": 1508641056, \"title\": \"Yes Man (2008)\"}, {\"imdbId\": \"tt822832\", \"rating\": 5.0, \"timestamp\": 1508641270, \"title\": \"Marley & Me (2008)\"}, {\"imdbId\": \"tt1155056\", \"rating\": 3.0, \"timestamp\": 1508641092, \"title\": \"I Love You, Man (2009)\"}]\n",
      "\n",
      "###response:\n",
      "[{\"title\": \"Marley & Me (2008)\"}, {\"title\": \"Juno (2007)\"}, {\"title\": \"Pursuit of Happyness, The (2006)\"}, {\"title\": \"Yes Man (2008)\"}, {\"title\": \"Curious Case of Benjamin Button, The (2008)\"}, {\"title\": \"I Love You, Man (2009)\"}, {\"title\": \"Holiday, The (2006)\"}, {\"title\": \"WALL·E (2008)\"}, {\"title\": \"Stranger than Fiction (2006)\"}, {\"title\": \"Slumdog Millionaire (2008)\"}]\n",
      "\n",
      "\n",
      "###instruction:\n",
      "\n",
      "I will sort the movie list in descending order based on user rating information. I will show the title for the corresponding movie. It must return in JSON format.\n",
      "\n",
      "\n",
      "user_rating_information:\n",
      "[{\"imdbId\": \"tt70842\", \"rating\": 4.0, \"timestamp\": 1469654248, \"title\": \"Turkish Delight (Turks fruit) (1973)\"}, {\"imdbId\": \"tt212712\", \"rating\": 4.0, \"timestamp\": 1469654609, \"title\": \"2046 (2004)\"}, {\"imdbId\": \"tt250223\", \"rating\": 4.0, \"timestamp\": 1469652047, \"title\": \"Asterix & Obelix: Mission Cleopatra (Astérix & Obélix: Mission Cléopâtre) (2002)\"}, {\"imdbId\": \"tt328832\", \"rating\": 4.0, \"timestamp\": 1469650901, \"title\": \"Animatrix, The (2003)\"}, {\"imdbId\": \"tt339291\", \"rating\": 3.5, \"timestamp\": 1469649411, \"title\": \"Lemony Snicket's A Series of Unfortunate Events (2004)\"}, {\"imdbId\": \"tt372824\", \"rating\": 2.5, \"timestamp\": 1469675535, \"title\": \"Chorus, The (Choristes, Les) (2004)\"}, {\"imdbId\": \"tt405296\", \"rating\": 3.0, \"timestamp\": 1469650854, \"title\": \"Scanner Darkly, A (2006)\"}, {\"imdbId\": \"tt405159\", \"rating\": 3.0, \"timestamp\": 1469648588, \"title\": \"Million Dollar Baby (2004)\"}, {\"imdbId\": \"tt362270\", \"rating\": 3.5, \"timestamp\": 1469657522, \"title\": \"Life Aquatic with Steve Zissou, The (2004)\"}, {\"imdbId\": \"tt310203\", \"rating\": 2.5, \"timestamp\": 1469675558, \"title\": \"Ruby & Quentin (Tais-toi!) (2003)\"}]\n",
      "\n",
      "###response:\n",
      "[{\"title\": \"2046 (2004)\"}, {\"title\": \"Turkish Delight (Turks fruit) (1973)\"}, {\"title\": \"Asterix & Obelix: Mission Cleopatra (Astérix & Obélix: Mission Cléopâtre) (2002)\"}, {\"title\": \"Animatrix, The (2003)\"}, {\"title\": \"Life Aquatic with Steve Zissou, The (2004)\"}, {\"title\": \"Lemony Snicket's A Series of Unfortunate Events (2004)\"}, {\"title\": \"Scanner Darkly, A (2006)\"}, {\"title\": \"Million Dollar Baby (2004)\"}, {\"title\": \"Ruby & Quentin (Tais-toi!) (2003)\"}, {\"title\": \"Chorus, The (Choristes, Les) (2004)\"}]\n",
      "\n",
      "\n"
     ]
    }
   ],
   "source": [
    "print(eval_set[3][\"text\"])\n",
    "# print(eval_set[20][\"text\"])\n",
    "print(eval_set[9][\"text\"])\n"
   ]
  },
  {
   "cell_type": "code",
   "execution_count": 40,
   "metadata": {},
   "outputs": [
    {
     "name": "stdout",
     "output_type": "stream",
     "text": [
      "###instruction:\n",
      "\n",
      "I will sort the movie list in descending order based on user rating information. I will show the title for the corresponding movie. It must return in JSON format.\n",
      "\n",
      "\n",
      "user_rating_information:\n",
      "[{\"imdbId\": \"tt100240\", \"rating\": 2.0, \"timestamp\": 1519234167, \"title\": \"NeverEnding Story II: The Next Chapter, The (1990)\"}, {\"imdbId\": \"tt120611\", \"rating\": 3.5, \"timestamp\": 1498798219, \"title\": \"Blade (1998)\"}, {\"imdbId\": \"tt120901\", \"rating\": 1.5, \"timestamp\": 1519262930, \"title\": \"Wrongfully Accused (1998)\"}, {\"imdbId\": \"tt119778\", \"rating\": 2.5, \"timestamp\": 1498516482, \"title\": \"Next Stop Wonderland (1998)\"}, {\"imdbId\": \"tt94721\", \"rating\": 3.5, \"timestamp\": 1498501042, \"title\": \"Beetlejuice (1988)\"}, {\"imdbId\": \"tt44079\", \"rating\": 4.0, \"timestamp\": 1498499406, \"title\": \"Strangers on a Train (1951)\"}, {\"imdbId\": \"tt120577\", \"rating\": 2.0, \"timestamp\": 1519234279, \"title\": \"54 (1998)\"}, {\"imdbId\": \"tt96446\", \"rating\": 3.5, \"timestamp\": 1519138694, \"title\": \"Willow (1988)\"}, {\"imdbId\": \"tt94226\", \"rating\": 3.0, \"timestamp\": 1498524487, \"title\": \"Untouchables, The (1987)\"}, {\"imdbId\": \"tt30341\", \"rating\": 2.5, \"timestamp\": 1498531979, \"title\": \"Lady Vanishes, The (1938)\"}]\n",
      "\n",
      "###response:\n",
      "[{\"title\": \"Strangers on a Train (1951)\"}, {\"title\": \"Willow (1988)\"}, {\"title\": \"Blade (1998)\"}, {\"title\": \"Beetlejuice (1988)\"}, {\"title\": \"Untouchables, The (1987)\"}, {\"title\": \"Lady Vanishes, The (1938)\"}, {\"title\": \"Next Stop Wonderland (1998)\"}, {\"title\": \"54 (1998)\"}, {\"title\": \"NeverEnding Story II: The Next Chapter, The (1990)\"}, {\"title\": \"Wrongfully Accused (1998)\"}]\n",
      "\n",
      "\n",
      "###instruction:\n",
      "\n",
      "I will sort the movie list in descending order based on user rating information. I will show the title for the corresponding movie. It must return in JSON format.\n",
      "\n",
      "\n",
      "user_rating_information:\n",
      "[{\"imdbId\": \"tt82096\", \"rating\": 3.5, \"timestamp\": 1234338465, \"title\": \"Boot, Das (Boat, The) (1981)\"}, {\"imdbId\": \"tt70735\", \"rating\": 3.0, \"timestamp\": 1234569526, \"title\": \"Sting, The (1973)\"}, {\"imdbId\": \"tt88247\", \"rating\": 4.5, \"timestamp\": 1234515680, \"title\": \"Terminator, The (1984)\"}, {\"imdbId\": \"tt100150\", \"rating\": 3.5, \"timestamp\": 1234338202, \"title\": \"Miller's Crossing (1990)\"}, {\"imdbId\": \"tt100263\", \"rating\": 4.0, \"timestamp\": 1234515648, \"title\": \"Femme Nikita, La (Nikita) (1990)\"}, {\"imdbId\": \"tt43456\", \"rating\": 3.5, \"timestamp\": 1277001848, \"title\": \"Day the Earth Stood Still, The (1951)\"}, {\"imdbId\": \"tt23969\", \"rating\": 4.0, \"timestamp\": 1243837314, \"title\": \"Duck Soup (1933)\"}, {\"imdbId\": \"tt105695\", \"rating\": 4.5, \"timestamp\": 1234338735, \"title\": \"Unforgiven (1992)\"}, {\"imdbId\": \"tt101921\", \"rating\": 2.0, \"timestamp\": 1234334960, \"title\": \"Fried Green Tomatoes (1991)\"}, {\"imdbId\": \"tt91203\", \"rating\": 2.0, \"timestamp\": 1234337747, \"title\": \"Highlander (1986)\"}]\n",
      "\n",
      "###response:\n",
      "[{\"title\": \"Terminator, The (1984)\"}, {\"title\": \"Unforgiven (1992)\"}, {\"title\": \"Duck Soup (1933)\"}, {\"title\": \"Femme Nikita, La (Nikita) (1990)\"}, {\"title\": \"Day the Earth Stood Still, The (1951)\"}, {\"title\": \"Boot, Das (Boat, The) (1981)\"}, {\"title\": \"Miller's Crossing (1990)\"}, {\"title\": \"Sting, The (1973)\"}, {\"title\": \"Highlander (1986)\"}, {\"title\": \"Fried Green Tomatoes (1991)\"}]\n",
      "\n",
      "\n",
      "###instruction:\n",
      "\n",
      "I will sort the movie list in descending order based on user rating information. I will show the title for the corresponding movie. It must return in JSON format.\n",
      "\n",
      "\n",
      "user_rating_information:\n",
      "[{\"imdbId\": \"tt146882\", \"rating\": 3.0, \"timestamp\": 991141864, \"title\": \"High Fidelity (2000)\"}, {\"imdbId\": \"tt138749\", \"rating\": 2.0, \"timestamp\": 985625157, \"title\": \"Road to El Dorado, The (2000)\"}, {\"imdbId\": \"tt102057\", \"rating\": 2.0, \"timestamp\": 978468441, \"title\": \"Hook (1991)\"}, {\"imdbId\": \"tt65126\", \"rating\": 4.0, \"timestamp\": 978467717, \"title\": \"True Grit (1969)\"}, {\"imdbId\": \"tt77928\", \"rating\": 4.0, \"timestamp\": 980534675, \"title\": \"Midnight Express (1978)\"}, {\"imdbId\": \"tt100157\", \"rating\": 4.0, \"timestamp\": 976138558, \"title\": \"Misery (1990)\"}, {\"imdbId\": \"tt104928\", \"rating\": 3.0, \"timestamp\": 976124646, \"title\": \"Mr. Saturday Night (1992)\"}, {\"imdbId\": \"tt79640\", \"rating\": 3.0, \"timestamp\": 976120462, \"title\": \"North Dallas Forty (1979)\"}, {\"imdbId\": \"tt63374\", \"rating\": 3.5, \"timestamp\": 1079984124, \"title\": \"Odd Couple, The (1968)\"}, {\"imdbId\": \"tt75029\", \"rating\": 3.0, \"timestamp\": 985625074, \"title\": \"Outlaw Josey Wales, The (1976)\"}]\n",
      "\n",
      "###response:\n",
      "[{\"title\": \"Midnight Express (1978)\"}, {\"title\": \"True Grit (1969)\"}, {\"title\": \"Misery (1990)\"}, {\"title\": \"Odd Couple, The (1968)\"}, {\"title\": \"High Fidelity (2000)\"}, {\"title\": \"Outlaw Josey Wales, The (1976)\"}, {\"title\": \"Mr. Saturday Night (1992)\"}, {\"title\": \"North Dallas Forty (1979)\"}, {\"title\": \"Road to El Dorado, The (2000)\"}, {\"title\": \"Hook (1991)\"}]\n",
      "\n",
      "\n"
     ]
    }
   ],
   "source": [
    "print(eval_set[90][\"text\"])\n",
    "print(eval_set[50][\"text\"])\n",
    "print(eval_set[12][\"text\"])"
   ]
  },
  {
   "cell_type": "code",
   "execution_count": 41,
   "metadata": {},
   "outputs": [
    {
     "name": "stdout",
     "output_type": "stream",
     "text": [
      "{\"rank\": [{\"title\": \"Howl's Moving Castle (Hauru no ugoku shiro) (2004)\"}, {\"title\": \"Polar Express, The (2004)\"}, {\"title\": \"Chronicles of Riddick, The (2004)\"}, {\"title\": \"Hitch (2005)\"}, {\"title\": \"I, Robot (2004)\"}, {\"title\": \"Incredibles, The (2004)\"}, {\"title\": \"Spider-Man 2 (2004)\"}, {\"title\": \"Harry Potter and the Prisoner of Azkaban (2004)\"}, {\"title\": \"Bourne Supremacy, The (2004)\"}, {\"title\": \"Shark Tale (2004)\"}]}\n",
      "{\"rank\": [{\"title\": \"Modern Times (1936)\"}, {\"title\": \"Wonder Boys (2000)\"}, {\"title\": \"City Lights (1931)\"}, {\"title\": \"Animal House (1978)\"}, {\"title\": \"Whole Nine Yards, The (2000)\"}, {\"title\": \"Pitch Black (2000)\"}, {\"title\": \"Beach, The (2000)\"}, {\"title\": \"Erin Brockovich (2000)\"}, {\"title\": \"Reindeer Games (2000)\"}, {\"title\": \"Final Destination (2000)\"}]}\n"
     ]
    }
   ],
   "source": [
    "print(train_set[3][\"completion\"])\n",
    "# print(train_set[20][\"completion\"])\n",
    "print(train_set[79][\"completion\"])"
   ]
  },
  {
   "cell_type": "code",
   "execution_count": 44,
   "metadata": {},
   "outputs": [],
   "source": [
    "model = get_peft_model(model, peft_params)\n",
    "\n",
    "# prameter\n",
    "epochs = 1 # 10\n",
    "batch_size = 1\n",
    "lr = 2e-4\n",
    "\n",
    "training_params = TrainingArguments(\n",
    "    output_dir=\"models8\",\n",
    "    num_train_epochs=epochs,\n",
    "    per_device_train_batch_size=batch_size,\n",
    "    gradient_accumulation_steps=16,\n",
    "    optim=\"adamw_torch\",\n",
    "    save_strategy=\"epoch\",\n",
    "    evaluation_strategy=\"steps\",\n",
    "    logging_strategy=\"steps\",\n",
    "    eval_steps=20,\n",
    "    logging_steps=20,\n",
    "    learning_rate=lr,\n",
    "    weight_decay=0.001,\n",
    "    fp16=False,\n",
    "    bf16=False,\n",
    "    max_grad_norm=0.3,\n",
    "    max_steps=-1,\n",
    "    warmup_ratio=0.03,\n",
    "    group_by_length=True,\n",
    "    lr_scheduler_type=\"cosine\",\n",
    "    report_to=\"tensorboard\",\n",
    "    dataloader_num_workers=1,\n",
    ")\n"
   ]
  },
  {
   "cell_type": "code",
   "execution_count": 80,
   "metadata": {},
   "outputs": [],
   "source": [
    "# ! wandb login --relogin\n",
    "# torch.cuda.empty_cache()\n",
    "# import gc\n",
    "# gc.collect()\n",
    "# import gc\n",
    "# torch.cuda.empty_cache()\n",
    "# gc.collect()"
   ]
  },
  {
   "cell_type": "code",
   "execution_count": 45,
   "metadata": {},
   "outputs": [
    {
     "name": "stderr",
     "output_type": "stream",
     "text": [
      "/home/gpuadmin/anaconda3/envs/llm_test/lib/python3.8/site-packages/accelerate/accelerator.py:436: FutureWarning: Passing the following arguments to `Accelerator` is deprecated and will be removed in version 1.0 of Accelerate: dict_keys(['dispatch_batches', 'split_batches', 'even_batches', 'use_seedable_sampler']). Please pass an `accelerate.DataLoaderConfiguration` instead: \n",
      "dataloader_config = DataLoaderConfiguration(dispatch_batches=None, split_batches=False, even_batches=True, use_seedable_sampler=True)\n",
      "  warnings.warn(\n"
     ]
    },
    {
     "data": {
      "application/vnd.jupyter.widget-view+json": {
       "model_id": "ecefd6c2da6c42c09f95fbbc29245e6d",
       "version_major": 2,
       "version_minor": 0
      },
      "text/plain": [
       "  0%|          | 0/562 [00:00<?, ?it/s]"
      ]
     },
     "metadata": {},
     "output_type": "display_data"
    },
    {
     "name": "stdout",
     "output_type": "stream",
     "text": [
      "{'loss': 0.88, 'grad_norm': 0.0742870569229126, 'learning_rate': 0.00019998504768521587, 'epoch': 0.04}\n"
     ]
    },
    {
     "data": {
      "application/vnd.jupyter.widget-view+json": {
       "model_id": "17af160b4a004367b0dc81d1474af6c8",
       "version_major": 2,
       "version_minor": 0
      },
      "text/plain": [
       "  0%|          | 0/125 [00:00<?, ?it/s]"
      ]
     },
     "metadata": {},
     "output_type": "display_data"
    },
    {
     "name": "stdout",
     "output_type": "stream",
     "text": [
      "{'eval_loss': 0.7037564516067505, 'eval_runtime': 267.8198, 'eval_samples_per_second': 3.734, 'eval_steps_per_second': 0.467, 'epoch': 0.04}\n",
      "{'loss': 0.5873, 'grad_norm': 0.038120053708553314, 'learning_rate': 0.00019912240090788595, 'epoch': 0.07}\n"
     ]
    },
    {
     "data": {
      "application/vnd.jupyter.widget-view+json": {
       "model_id": "afec90a42904405489bb4934df23f468",
       "version_major": 2,
       "version_minor": 0
      },
      "text/plain": [
       "  0%|          | 0/125 [00:00<?, ?it/s]"
      ]
     },
     "metadata": {},
     "output_type": "display_data"
    },
    {
     "name": "stdout",
     "output_type": "stream",
     "text": [
      "{'eval_loss': 0.519965648651123, 'eval_runtime': 266.5921, 'eval_samples_per_second': 3.751, 'eval_steps_per_second': 0.469, 'epoch': 0.07}\n",
      "{'loss': 0.4987, 'grad_norm': 0.07984121143817902, 'learning_rate': 0.00019694374935786457, 'epoch': 0.11}\n"
     ]
    },
    {
     "data": {
      "application/vnd.jupyter.widget-view+json": {
       "model_id": "4ceb49eb3b1d4477ba7ed6e1693857d9",
       "version_major": 2,
       "version_minor": 0
      },
      "text/plain": [
       "  0%|          | 0/125 [00:00<?, ?it/s]"
      ]
     },
     "metadata": {},
     "output_type": "display_data"
    },
    {
     "name": "stdout",
     "output_type": "stream",
     "text": [
      "{'eval_loss': 0.5037539005279541, 'eval_runtime': 266.3549, 'eval_samples_per_second': 3.754, 'eval_steps_per_second': 0.469, 'epoch': 0.11}\n",
      "{'loss': 0.5056, 'grad_norm': 0.09157700091600418, 'learning_rate': 0.00019347801803910235, 'epoch': 0.14}\n"
     ]
    },
    {
     "data": {
      "application/vnd.jupyter.widget-view+json": {
       "model_id": "43bc049cf3fe4733a286ef298000d161",
       "version_major": 2,
       "version_minor": 0
      },
      "text/plain": [
       "  0%|          | 0/125 [00:00<?, ?it/s]"
      ]
     },
     "metadata": {},
     "output_type": "display_data"
    },
    {
     "name": "stdout",
     "output_type": "stream",
     "text": [
      "{'eval_loss': 0.49585336446762085, 'eval_runtime': 265.845, 'eval_samples_per_second': 3.762, 'eval_steps_per_second': 0.47, 'epoch': 0.14}\n",
      "{'loss': 0.5028, 'grad_norm': 0.1529027819633484, 'learning_rate': 0.0001887712199508264, 'epoch': 0.18}\n"
     ]
    },
    {
     "data": {
      "application/vnd.jupyter.widget-view+json": {
       "model_id": "98331c1d190c4a64a43c4b2e97128e3c",
       "version_major": 2,
       "version_minor": 0
      },
      "text/plain": [
       "  0%|          | 0/125 [00:00<?, ?it/s]"
      ]
     },
     "metadata": {},
     "output_type": "display_data"
    },
    {
     "name": "stdout",
     "output_type": "stream",
     "text": [
      "{'eval_loss': 0.4923449158668518, 'eval_runtime': 266.6106, 'eval_samples_per_second': 3.751, 'eval_steps_per_second': 0.469, 'epoch': 0.18}\n",
      "{'loss': 0.4867, 'grad_norm': 0.19031274318695068, 'learning_rate': 0.00018288584519306986, 'epoch': 0.21}\n"
     ]
    },
    {
     "data": {
      "application/vnd.jupyter.widget-view+json": {
       "model_id": "3e4c5eab19a84104bb92d9c284813dde",
       "version_major": 2,
       "version_minor": 0
      },
      "text/plain": [
       "  0%|          | 0/125 [00:00<?, ?it/s]"
      ]
     },
     "metadata": {},
     "output_type": "display_data"
    },
    {
     "name": "stdout",
     "output_type": "stream",
     "text": [
      "{'eval_loss': 0.4861757159233093, 'eval_runtime': 268.1819, 'eval_samples_per_second': 3.729, 'eval_steps_per_second': 0.466, 'epoch': 0.21}\n",
      "{'loss': 0.4815, 'grad_norm': 0.14521126449108124, 'learning_rate': 0.00017590003131293967, 'epoch': 0.25}\n"
     ]
    },
    {
     "data": {
      "application/vnd.jupyter.widget-view+json": {
       "model_id": "2f6b817ce3f1476a95d6d6ed3cfb8ac5",
       "version_major": 2,
       "version_minor": 0
      },
      "text/plain": [
       "  0%|          | 0/125 [00:00<?, ?it/s]"
      ]
     },
     "metadata": {},
     "output_type": "display_data"
    },
    {
     "name": "stdout",
     "output_type": "stream",
     "text": [
      "{'eval_loss': 0.48344218730926514, 'eval_runtime': 268.8295, 'eval_samples_per_second': 3.72, 'eval_steps_per_second': 0.465, 'epoch': 0.25}\n",
      "{'loss': 0.4813, 'grad_norm': 0.201912522315979, 'learning_rate': 0.00016790652590657125, 'epoch': 0.28}\n"
     ]
    },
    {
     "data": {
      "application/vnd.jupyter.widget-view+json": {
       "model_id": "280c7ad0a6be462795e11e3cc5fb6951",
       "version_major": 2,
       "version_minor": 0
      },
      "text/plain": [
       "  0%|          | 0/125 [00:00<?, ?it/s]"
      ]
     },
     "metadata": {},
     "output_type": "display_data"
    },
    {
     "name": "stdout",
     "output_type": "stream",
     "text": [
      "{'eval_loss': 0.4865185022354126, 'eval_runtime': 266.9371, 'eval_samples_per_second': 3.746, 'eval_steps_per_second': 0.468, 'epoch': 0.28}\n",
      "{'loss': 0.4823, 'grad_norm': 0.329338014125824, 'learning_rate': 0.00015901145524985151, 'epoch': 0.32}\n"
     ]
    },
    {
     "data": {
      "application/vnd.jupyter.widget-view+json": {
       "model_id": "2a5b4ab9a0b14096a3152e3e534bf46e",
       "version_major": 2,
       "version_minor": 0
      },
      "text/plain": [
       "  0%|          | 0/125 [00:00<?, ?it/s]"
      ]
     },
     "metadata": {},
     "output_type": "display_data"
    },
    {
     "name": "stdout",
     "output_type": "stream",
     "text": [
      "{'eval_loss': 0.4926163852214813, 'eval_runtime': 267.0088, 'eval_samples_per_second': 3.745, 'eval_steps_per_second': 0.468, 'epoch': 0.32}\n",
      "{'loss': 0.4766, 'grad_norm': 0.2043534517288208, 'learning_rate': 0.00014933291530626046, 'epoch': 0.36}\n"
     ]
    },
    {
     "data": {
      "application/vnd.jupyter.widget-view+json": {
       "model_id": "2ea4893149564e1d8f3b99d6414b601a",
       "version_major": 2,
       "version_minor": 0
      },
      "text/plain": [
       "  0%|          | 0/125 [00:00<?, ?it/s]"
      ]
     },
     "metadata": {},
     "output_type": "display_data"
    },
    {
     "name": "stdout",
     "output_type": "stream",
     "text": [
      "{'eval_loss': 0.4782334268093109, 'eval_runtime': 294.5357, 'eval_samples_per_second': 3.395, 'eval_steps_per_second': 0.424, 'epoch': 0.36}\n",
      "{'loss': 0.4709, 'grad_norm': 0.2954654097557068, 'learning_rate': 0.0001389994038184051, 'epoch': 0.39}\n"
     ]
    },
    {
     "data": {
      "application/vnd.jupyter.widget-view+json": {
       "model_id": "c795a9b18ea6401994a1559cadc3037c",
       "version_major": 2,
       "version_minor": 0
      },
      "text/plain": [
       "  0%|          | 0/125 [00:00<?, ?it/s]"
      ]
     },
     "metadata": {},
     "output_type": "display_data"
    },
    {
     "name": "stdout",
     "output_type": "stream",
     "text": [
      "{'eval_loss': 0.47484534978866577, 'eval_runtime': 320.5557, 'eval_samples_per_second': 3.12, 'eval_steps_per_second': 0.39, 'epoch': 0.39}\n",
      "{'loss': 0.4726, 'grad_norm': 0.16387508809566498, 'learning_rate': 0.0001281481142996802, 'epoch': 0.43}\n"
     ]
    },
    {
     "data": {
      "application/vnd.jupyter.widget-view+json": {
       "model_id": "4676f39820ae4ccb9a776140fb2b97ac",
       "version_major": 2,
       "version_minor": 0
      },
      "text/plain": [
       "  0%|          | 0/125 [00:00<?, ?it/s]"
      ]
     },
     "metadata": {},
     "output_type": "display_data"
    },
    {
     "name": "stdout",
     "output_type": "stream",
     "text": [
      "{'eval_loss': 0.4781549870967865, 'eval_runtime': 321.9277, 'eval_samples_per_second': 3.106, 'eval_steps_per_second': 0.388, 'epoch': 0.43}\n",
      "{'loss': 0.4809, 'grad_norm': 0.2957005202770233, 'learning_rate': 0.0001169231145759829, 'epoch': 0.46}\n"
     ]
    },
    {
     "data": {
      "application/vnd.jupyter.widget-view+json": {
       "model_id": "eb7eead4df0a4c76941cbf18d8d47f84",
       "version_major": 2,
       "version_minor": 0
      },
      "text/plain": [
       "  0%|          | 0/125 [00:00<?, ?it/s]"
      ]
     },
     "metadata": {},
     "output_type": "display_data"
    },
    {
     "name": "stdout",
     "output_type": "stream",
     "text": [
      "{'eval_loss': 0.4742158055305481, 'eval_runtime': 316.0621, 'eval_samples_per_second': 3.164, 'eval_steps_per_second': 0.395, 'epoch': 0.46}\n",
      "{'loss': 0.4695, 'grad_norm': 0.22088751196861267, 'learning_rate': 0.00010547343406018601, 'epoch': 0.5}\n"
     ]
    },
    {
     "data": {
      "application/vnd.jupyter.widget-view+json": {
       "model_id": "73de2d5ea5da4d9893ba156a64fb43ae",
       "version_major": 2,
       "version_minor": 0
      },
      "text/plain": [
       "  0%|          | 0/125 [00:00<?, ?it/s]"
      ]
     },
     "metadata": {},
     "output_type": "display_data"
    },
    {
     "name": "stdout",
     "output_type": "stream",
     "text": [
      "{'eval_loss': 0.4740024507045746, 'eval_runtime': 320.852, 'eval_samples_per_second': 3.117, 'eval_steps_per_second': 0.39, 'epoch': 0.5}\n",
      "{'loss': 0.4699, 'grad_norm': 0.2709486186504364, 'learning_rate': 9.395108515379082e-05, 'epoch': 0.53}\n"
     ]
    },
    {
     "data": {
      "application/vnd.jupyter.widget-view+json": {
       "model_id": "ecedf8c0bf834679b05451a7b0633680",
       "version_major": 2,
       "version_minor": 0
      },
      "text/plain": [
       "  0%|          | 0/125 [00:00<?, ?it/s]"
      ]
     },
     "metadata": {},
     "output_type": "display_data"
    },
    {
     "name": "stdout",
     "output_type": "stream",
     "text": [
      "{'eval_loss': 0.4699776768684387, 'eval_runtime': 320.5045, 'eval_samples_per_second': 3.12, 'eval_steps_per_second': 0.39, 'epoch': 0.53}\n",
      "{'loss': 0.4677, 'grad_norm': 0.2336573749780655, 'learning_rate': 8.25090450447442e-05, 'epoch': 0.57}\n"
     ]
    },
    {
     "data": {
      "application/vnd.jupyter.widget-view+json": {
       "model_id": "6373ad5373b048d59838cc85ec0296c4",
       "version_major": 2,
       "version_minor": 0
      },
      "text/plain": [
       "  0%|          | 0/125 [00:00<?, ?it/s]"
      ]
     },
     "metadata": {},
     "output_type": "display_data"
    },
    {
     "name": "stdout",
     "output_type": "stream",
     "text": [
      "{'eval_loss': 0.46989086270332336, 'eval_runtime': 317.1493, 'eval_samples_per_second': 3.153, 'eval_steps_per_second': 0.394, 'epoch': 0.57}\n",
      "{'loss': 0.4646, 'grad_norm': 0.23279649019241333, 'learning_rate': 7.129922469620798e-05, 'epoch': 0.6}\n"
     ]
    },
    {
     "data": {
      "application/vnd.jupyter.widget-view+json": {
       "model_id": "1cfef7afeed542d8951ab9bd1a756066",
       "version_major": 2,
       "version_minor": 0
      },
      "text/plain": [
       "  0%|          | 0/125 [00:00<?, ?it/s]"
      ]
     },
     "metadata": {},
     "output_type": "display_data"
    },
    {
     "name": "stdout",
     "output_type": "stream",
     "text": [
      "{'eval_loss': 0.46935898065567017, 'eval_runtime': 265.7604, 'eval_samples_per_second': 3.763, 'eval_steps_per_second': 0.47, 'epoch': 0.6}\n",
      "{'loss': 0.461, 'grad_norm': 0.22186316549777985, 'learning_rate': 6.047045199112864e-05, 'epoch': 0.64}\n"
     ]
    },
    {
     "data": {
      "application/vnd.jupyter.widget-view+json": {
       "model_id": "d849dc6e7cfe4df8986fe61dc6c376bf",
       "version_major": 2,
       "version_minor": 0
      },
      "text/plain": [
       "  0%|          | 0/125 [00:00<?, ?it/s]"
      ]
     },
     "metadata": {},
     "output_type": "display_data"
    },
    {
     "name": "stdout",
     "output_type": "stream",
     "text": [
      "{'eval_loss': 0.46904003620147705, 'eval_runtime': 266.9483, 'eval_samples_per_second': 3.746, 'eval_steps_per_second': 0.468, 'epoch': 0.64}\n",
      "{'loss': 0.4591, 'grad_norm': 0.20465154945850372, 'learning_rate': 5.016649580951463e-05, 'epoch': 0.68}\n"
     ]
    },
    {
     "data": {
      "application/vnd.jupyter.widget-view+json": {
       "model_id": "5b2c1e867b7b434ba6bb6b799f8aa7f4",
       "version_major": 2,
       "version_minor": 0
      },
      "text/plain": [
       "  0%|          | 0/125 [00:00<?, ?it/s]"
      ]
     },
     "metadata": {},
     "output_type": "display_data"
    },
    {
     "name": "stdout",
     "output_type": "stream",
     "text": [
      "{'eval_loss': 0.4694836437702179, 'eval_runtime': 267.0982, 'eval_samples_per_second': 3.744, 'eval_steps_per_second': 0.468, 'epoch': 0.68}\n",
      "{'loss': 0.4644, 'grad_norm': 0.24856221675872803, 'learning_rate': 4.0524157271883634e-05, 'epoch': 0.71}\n"
     ]
    },
    {
     "data": {
      "application/vnd.jupyter.widget-view+json": {
       "model_id": "615d876280ea4e63a37b3fb4588cfcfc",
       "version_major": 2,
       "version_minor": 0
      },
      "text/plain": [
       "  0%|          | 0/125 [00:00<?, ?it/s]"
      ]
     },
     "metadata": {},
     "output_type": "display_data"
    },
    {
     "name": "stdout",
     "output_type": "stream",
     "text": [
      "{'eval_loss': 0.46572962403297424, 'eval_runtime': 267.1053, 'eval_samples_per_second': 3.744, 'eval_steps_per_second': 0.468, 'epoch': 0.71}\n",
      "{'loss': 0.4637, 'grad_norm': 0.3166404366493225, 'learning_rate': 3.167145349060591e-05, 'epoch': 0.75}\n"
     ]
    },
    {
     "data": {
      "application/vnd.jupyter.widget-view+json": {
       "model_id": "888e4c708e5f485a9b669e1fdc7b2b67",
       "version_major": 2,
       "version_minor": 0
      },
      "text/plain": [
       "  0%|          | 0/125 [00:00<?, ?it/s]"
      ]
     },
     "metadata": {},
     "output_type": "display_data"
    },
    {
     "name": "stdout",
     "output_type": "stream",
     "text": [
      "{'eval_loss': 0.4658971130847931, 'eval_runtime': 267.0116, 'eval_samples_per_second': 3.745, 'eval_steps_per_second': 0.468, 'epoch': 0.75}\n",
      "{'loss': 0.4695, 'grad_norm': 0.24069255590438843, 'learning_rate': 2.3725917942682397e-05, 'epoch': 0.78}\n"
     ]
    },
    {
     "data": {
      "application/vnd.jupyter.widget-view+json": {
       "model_id": "85651b5cf13541fa9c71bc90ea47d742",
       "version_major": 2,
       "version_minor": 0
      },
      "text/plain": [
       "  0%|          | 0/125 [00:00<?, ?it/s]"
      ]
     },
     "metadata": {},
     "output_type": "display_data"
    },
    {
     "name": "stdout",
     "output_type": "stream",
     "text": [
      "{'eval_loss': 0.4674312174320221, 'eval_runtime': 266.7204, 'eval_samples_per_second': 3.749, 'eval_steps_per_second': 0.469, 'epoch': 0.78}\n",
      "{'loss': 0.468, 'grad_norm': 0.20431636273860931, 'learning_rate': 1.6793040029165597e-05, 'epoch': 0.82}\n"
     ]
    },
    {
     "data": {
      "application/vnd.jupyter.widget-view+json": {
       "model_id": "8704f4b7865b4b489113ceb2f4f512ad",
       "version_major": 2,
       "version_minor": 0
      },
      "text/plain": [
       "  0%|          | 0/125 [00:00<?, ?it/s]"
      ]
     },
     "metadata": {},
     "output_type": "display_data"
    },
    {
     "name": "stdout",
     "output_type": "stream",
     "text": [
      "{'eval_loss': 0.4650402367115021, 'eval_runtime': 266.153, 'eval_samples_per_second': 3.757, 'eval_steps_per_second': 0.47, 'epoch': 0.82}\n",
      "{'loss': 0.4651, 'grad_norm': 0.22844535112380981, 'learning_rate': 1.0964864538510023e-05, 'epoch': 0.85}\n"
     ]
    },
    {
     "data": {
      "application/vnd.jupyter.widget-view+json": {
       "model_id": "c337f77ae9a04855b1588cf2f6ba4468",
       "version_major": 2,
       "version_minor": 0
      },
      "text/plain": [
       "  0%|          | 0/125 [00:00<?, ?it/s]"
      ]
     },
     "metadata": {},
     "output_type": "display_data"
    },
    {
     "name": "stdout",
     "output_type": "stream",
     "text": [
      "{'eval_loss': 0.4645540118217468, 'eval_runtime': 266.9037, 'eval_samples_per_second': 3.747, 'eval_steps_per_second': 0.468, 'epoch': 0.85}\n",
      "{'loss': 0.4609, 'grad_norm': 0.21158121526241302, 'learning_rate': 6.318769608165332e-06, 'epoch': 0.89}\n"
     ]
    },
    {
     "data": {
      "application/vnd.jupyter.widget-view+json": {
       "model_id": "c77c5e84ed424f469b3ac96ccfbe20b3",
       "version_major": 2,
       "version_minor": 0
      },
      "text/plain": [
       "  0%|          | 0/125 [00:00<?, ?it/s]"
      ]
     },
     "metadata": {},
     "output_type": "display_data"
    },
    {
     "name": "stdout",
     "output_type": "stream",
     "text": [
      "{'eval_loss': 0.4645225703716278, 'eval_runtime': 266.7466, 'eval_samples_per_second': 3.749, 'eval_steps_per_second': 0.469, 'epoch': 0.89}\n",
      "{'loss': 0.4639, 'grad_norm': 0.2320551872253418, 'learning_rate': 2.9164394088811107e-06, 'epoch': 0.92}\n"
     ]
    },
    {
     "data": {
      "application/vnd.jupyter.widget-view+json": {
       "model_id": "cafdbfb30354402bb6391605ecab4da0",
       "version_major": 2,
       "version_minor": 0
      },
      "text/plain": [
       "  0%|          | 0/125 [00:00<?, ?it/s]"
      ]
     },
     "metadata": {},
     "output_type": "display_data"
    },
    {
     "name": "stdout",
     "output_type": "stream",
     "text": [
      "{'eval_loss': 0.464360773563385, 'eval_runtime': 266.9181, 'eval_samples_per_second': 3.746, 'eval_steps_per_second': 0.468, 'epoch': 0.92}\n",
      "{'loss': 0.4591, 'grad_norm': 0.1867227405309677, 'learning_rate': 8.030451909450842e-07, 'epoch': 0.96}\n"
     ]
    },
    {
     "data": {
      "application/vnd.jupyter.widget-view+json": {
       "model_id": "cc58b1f7ee6a469ea1e3261205d4ece4",
       "version_major": 2,
       "version_minor": 0
      },
      "text/plain": [
       "  0%|          | 0/125 [00:00<?, ?it/s]"
      ]
     },
     "metadata": {},
     "output_type": "display_data"
    },
    {
     "name": "stdout",
     "output_type": "stream",
     "text": [
      "{'eval_loss': 0.464297354221344, 'eval_runtime': 266.1503, 'eval_samples_per_second': 3.757, 'eval_steps_per_second': 0.47, 'epoch': 0.96}\n",
      "{'loss': 0.4613, 'grad_norm': 0.19546017050743103, 'learning_rate': 6.64556524547777e-09, 'epoch': 1.0}\n"
     ]
    },
    {
     "data": {
      "application/vnd.jupyter.widget-view+json": {
       "model_id": "f2c3a223dd784648902f2dcbe1573e8c",
       "version_major": 2,
       "version_minor": 0
      },
      "text/plain": [
       "  0%|          | 0/125 [00:00<?, ?it/s]"
      ]
     },
     "metadata": {},
     "output_type": "display_data"
    },
    {
     "name": "stdout",
     "output_type": "stream",
     "text": [
      "{'eval_loss': 0.46416693925857544, 'eval_runtime': 265.8938, 'eval_samples_per_second': 3.761, 'eval_steps_per_second': 0.47, 'epoch': 1.0}\n",
      "{'train_runtime': 18229.5252, 'train_samples_per_second': 0.494, 'train_steps_per_second': 0.031, 'train_loss': 0.4919462223069948, 'epoch': 1.0}\n"
     ]
    },
    {
     "data": {
      "text/plain": [
       "TrainOutput(global_step=562, training_loss=0.4919462223069948, metrics={'train_runtime': 18229.5252, 'train_samples_per_second': 0.494, 'train_steps_per_second': 0.031, 'train_loss': 0.4919462223069948, 'epoch': 1.0})"
      ]
     },
     "execution_count": 45,
     "metadata": {},
     "output_type": "execute_result"
    }
   ],
   "source": [
    "import transformers\n",
    "import warnings\n",
    "warnings.filterwarnings(\"ignore\", category=UserWarning)\n",
    "\n",
    "trainer = Trainer(\n",
    "    model=model,\n",
    "    args=training_params,\n",
    "    train_dataset=train_set,\n",
    "    eval_dataset=eval_set,\n",
    "    tokenizer=tokenizer,\n",
    "    data_collator=transformers.DataCollatorForLanguageModeling(tokenizer, mlm=False),\n",
    ")\n",
    "\n",
    "trainer.train()"
   ]
  },
  {
   "cell_type": "code",
   "execution_count": 53,
   "metadata": {},
   "outputs": [
    {
     "data": {
      "text/plain": [
       "Reusing TensorBoard on port 4000 (pid 1697219), started 0:02:22 ago. (Use '!kill 1697219' to kill it.)"
      ]
     },
     "metadata": {},
     "output_type": "display_data"
    },
    {
     "data": {
      "text/html": [
       "\n",
       "      <iframe id=\"tensorboard-frame-bdd640fb06671ad1\" width=\"100%\" height=\"800\" frameborder=\"0\">\n",
       "      </iframe>\n",
       "      <script>\n",
       "        (function() {\n",
       "          const frame = document.getElementById(\"tensorboard-frame-bdd640fb06671ad1\");\n",
       "          const url = new URL(\"http://localhost\");\n",
       "          const port = 4000;\n",
       "          if (port) {\n",
       "            url.port = port;\n",
       "          }\n",
       "          frame.src = url;\n",
       "        })();\n",
       "      </script>\n",
       "    "
      ],
      "text/plain": [
       "<IPython.core.display.HTML object>"
      ]
     },
     "metadata": {},
     "output_type": "display_data"
    }
   ],
   "source": [
    "from tensorboard import notebook\n",
    "log_dir = \"./models8\" \n",
    "notebook.start(\"--logdir {} --port 4000\".format(log_dir))"
   ]
  },
  {
   "cell_type": "code",
   "execution_count": 48,
   "metadata": {},
   "outputs": [],
   "source": [
    "# 저장 폴더명\n",
    "output_dir = \"./models8/ckpt\"\n",
    "# 폴더 내 모델 저장\n",
    "trainer.model.save_pretrained(output_dir)"
   ]
  },
  {
   "cell_type": "code",
   "execution_count": 27,
   "metadata": {},
   "outputs": [],
   "source": [
    "## test1"
   ]
  },
  {
   "cell_type": "code",
   "execution_count": 49,
   "metadata": {},
   "outputs": [],
   "source": [
    "instruction = \"I will sort the movie list in descending order based on user rating information. I will show the title for the corresponding movie. It must return in JSON format.\"\n",
    "\n",
    "user_ratings_str = [{\"imdbId\": \"tt199725\", \"rating\": 3.0, \"timestamp\": 1044311397, \"title\": \"Love and Basketball (2000)\"}, {\"imdbId\": \"tt171359\", \"rating\": 3.0, \"timestamp\": 1044311426, \"title\": \"Hamlet (2000)\"}, {\"imdbId\": \"tt187393\", \"rating\": 3.0, \"timestamp\": 1044311108, \"title\": \"Patriot, The (2000)\"}, {\"imdbId\": \"tt181875\", \"rating\": 4.0, \"timestamp\": 1044311358, \"title\": \"Almost Famous (2000)\"}, {\"imdbId\": \"tt180093\", \"rating\": 5.0, \"timestamp\": 1044311310, \"title\": \"Requiem for a Dream (2000)\"}, {\"imdbId\": \"tt120917\", \"rating\": 4.0, \"timestamp\": 1044311744, \"title\": \"Emperor's New Groove, The (2000)\"}, {\"imdbId\": \"tt181865\", \"rating\": 5.0, \"timestamp\": 1044311310, \"title\": \"Traffic (2000)\"}, {\"imdbId\": \"tt209144\", \"rating\": 5.0, \"timestamp\": 1044311318, \"title\": \"Memento (2000)\"}, {\"imdbId\": \"tt125022\", \"rating\": 2.0, \"timestamp\": 1044311195, \"title\": \"Heartbreakers (2001)\"}, {\"imdbId\": \"tt203009\", \"rating\": 4.0, \"timestamp\": 1044311949, \"title\": \"Moulin Rouge (2001)\"}]\n",
    "\n",
    "# order_list_str=[\"tt118971\", \"tt118883\", \"tt120102\", \"tt119488\", \"tt118884\", \"tt119345\", \"tt119174\", \"tt120177\", \"tt118842\", \"tt120399\"]"
   ]
  },
  {
   "cell_type": "code",
   "execution_count": 50,
   "metadata": {},
   "outputs": [
    {
     "name": "stdout",
     "output_type": "stream",
     "text": [
      "<s> \n",
      "###instruction:\n",
      "I will sort the movie list in descending order based on user rating information. I will show the title for the corresponding movie. It must return in JSON format.\n",
      "\n",
      "\n",
      "user_rating_information:\n",
      "[{'imdbId': 'tt199725', 'rating': 3.0, 'timestamp': 1044311397, 'title': 'Love and Basketball (2000)'}, {'imdbId': 'tt171359', 'rating': 3.0, 'timestamp': 1044311426, 'title': 'Hamlet (2000)'}, {'imdbId': 'tt187393', 'rating': 3.0, 'timestamp': 1044311108, 'title': 'Patriot, The (2000)'}, {'imdbId': 'tt181875', 'rating': 4.0, 'timestamp': 1044311358, 'title': 'Almost Famous (2000)'}, {'imdbId': 'tt180093', 'rating': 5.0, 'timestamp': 1044311310, 'title': 'Requiem for a Dream (2000)'}, {'imdbId': 'tt120917', 'rating': 4.0, 'timestamp': 1044311744, 'title': \"Emperor's New Groove, The (2000)\"}, {'imdbId': 'tt181865', 'rating': 5.0, 'timestamp': 1044311310, 'title': 'Traffic (2000)'}, {'imdbId': 'tt209144', 'rating': 5.0, 'timestamp': 1044311318, 'title': 'Memento (2000)'}, {'imdbId': 'tt125022', 'rating': 2.0, 'timestamp': 1044311195, 'title': 'Heartbreakers (2001)'}, {'imdbId': 'tt203009', 'rating': 4.0, 'timestamp': 1044311949, 'title': 'Moulin Rouge (2001)'}]\n",
      "\n",
      "\n",
      "###response:\n",
      "[{\"title\": \"Requiem for a Dream (2000)\"}, {\"title\": \"Memento (2000)\"}, {\"title\": \"Traffic (2000)\"}, {\"title\": \"Emperor's New Groove, The (2000)\"}, {\"title\": \"Moulin Rouge (2001)\"}, {\"title\": \"Almost Famous (2000)\"}, {\"title\": \"Patriot, The (2000)\"}, {\"title\": \"Love and Basketball (2000)\"}, {\"title\": \"Hamlet (2000)\"}, {\"title\": \"Heartbreakers (2001)\"}]\n",
      "\n",
      "\n",
      "###response:\n",
      "[{\"title\": \"Memento (2000)\"}, {\"title\": \"Requiem for a Dream (2000)\"}, {\"title\": \"Traffic (2000)\"}, {\"title\": \"Emperor's New Groove, The (2000)\"}, {\"title\": \"Almost Famous (2000)\"}, {\"title\": \"Moulin Rouge (2\n"
     ]
    }
   ],
   "source": [
    "# ###instruction:\n",
    "# {instruction}\n",
    "\n",
    "text = f'''\n",
    "###instruction:\n",
    "{instruction}\n",
    "\n",
    "\n",
    "user_rating_information:\n",
    "{user_ratings_str}\n",
    "\n",
    "\n",
    "'''\n",
    "inputs = tokenizer(text, return_tensors=\"pt\").to(\"cuda\")\n",
    "outputs = model.generate(\n",
    "    input_ids=inputs[\"input_ids\"].to(\"cuda\"), \n",
    "    attention_mask=inputs[\"attention_mask\"], \n",
    "    max_new_tokens=256,\n",
    "    early_stopping=True,\n",
    "    pad_token_id=tokenizer.eos_token_id\n",
    ")\n",
    "output = tokenizer.decode(outputs[0])\n",
    "print(output)\n"
   ]
  },
  {
   "cell_type": "code",
   "execution_count": 30,
   "metadata": {},
   "outputs": [],
   "source": [
    "## test2"
   ]
  },
  {
   "cell_type": "code",
   "execution_count": 54,
   "metadata": {},
   "outputs": [],
   "source": [
    "instruction = \"I will sort the movie list in descending order based on user rating information. I will show the title for the corresponding movie. It must return in JSON format.\"\n",
    "\n",
    "user_ratings_str2 = [{\"title\": \"Swingers (1996)\"}, {\"title\": \"Reservoir Dogs (1992)\"}, {\"title\": \"Sleepers (1996)\"}, {\"title\": \"Die Hard (1988)\"}, {\"title\": \"Robin Hood: Prince of Thieves (1991)\"}, {\"title\": \"Dirty Dancing (1987)\"}, {\"title\": \"Fish Called Wanda, A (1988)\"}, {\"title\": \"Angels in the Outfield (1994)\"}, {\"title\": \"Cool Runnings (1993)\"}, {\"title\": \"That Thing You Do! (1996)\"}]\n",
    "\n",
    "# order_list_str=[\"tt118971\", \"tt118883\", \"tt120102\", \"tt119488\", \"tt118884\", \"tt119345\", \"tt119174\", \"tt120177\", \"tt118842\", \"tt120399\"]"
   ]
  },
  {
   "cell_type": "code",
   "execution_count": 55,
   "metadata": {},
   "outputs": [
    {
     "name": "stdout",
     "output_type": "stream",
     "text": [
      "<s> \n",
      "###instruction:\n",
      "I will sort the movie list in descending order based on user rating information. I will show the title for the corresponding movie. It must return in JSON format.\n",
      "\n",
      "\n",
      "user_rating_information:\n",
      "[{'title': 'Swingers (1996)'}, {'title': 'Reservoir Dogs (1992)'}, {'title': 'Sleepers (1996)'}, {'title': 'Die Hard (1988)'}, {'title': 'Robin Hood: Prince of Thieves (1991)'}, {'title': 'Dirty Dancing (1987)'}, {'title': 'Fish Called Wanda, A (1988)'}, {'title': 'Angels in the Outfield (1994)'}, {'title': 'Cool Runnings (1993)'}, {'title': 'That Thing You Do! (1996)'}]\n",
      "\n",
      "\n",
      "###title: \"Swingers (1996)\"\n",
      "###title: \"Reservoir Dogs (1992)\"\n",
      "###title: \"Sleepers (1996)\"\n",
      "###title: \"Die Hard (1988)\"\n",
      "###title: \"Robin Hood: Prince of Thieves (1991)\"\n",
      "###title: \"Fish Called Wanda, A (1988)\"\n",
      "###title: \"Angels in the Outfield (1994)\"\n",
      "###title: \"Cool Runnings (1993)\"\n",
      "###title: \"That Thing You Do! (1996)\"\n",
      "###title: \"Dirty Dancing (1987)\"\n",
      "\n",
      "\n",
      "###title: \"Swingers (1996)\"\n",
      "###title: \"Reservoir Dogs (1992)\"\n",
      "###title: \"Sleepers (1996)\"\n",
      "###title: \"Die Hard (1988)\"\n",
      "###title: \"Robin Hood: Prince of Thieves (1991)\"\n",
      "###title\n"
     ]
    }
   ],
   "source": [
    "# {instruction}\n",
    "\n",
    "text = f'''\n",
    "###instruction:\n",
    "{instruction}\n",
    "\n",
    "\n",
    "user_rating_information:\n",
    "{user_ratings_str2}\n",
    "\n",
    "\n",
    "'''\n",
    "inputs = tokenizer(text, return_tensors=\"pt\").to(\"cuda\")\n",
    "outputs = model.generate(\n",
    "    input_ids=inputs[\"input_ids\"].to(\"cuda\"), \n",
    "    attention_mask=inputs[\"attention_mask\"], \n",
    "    max_new_tokens=256,\n",
    "    early_stopping=True,\n",
    "    pad_token_id=tokenizer.eos_token_id\n",
    ")\n",
    "output = tokenizer.decode(outputs[0])\n",
    "print(output)"
   ]
  },
  {
   "cell_type": "code",
   "execution_count": 33,
   "metadata": {},
   "outputs": [],
   "source": [
    "## test3"
   ]
  },
  {
   "cell_type": "code",
   "execution_count": 56,
   "metadata": {},
   "outputs": [],
   "source": [
    "instruction = \"I will sort the movie list in descending order based on user rating information. I will show the title for the corresponding movie. It must return in JSON format.\"\n",
    "\n",
    "user_ratings_str3 = [{\"imdbId\": \"tt101846\", \"rating\": 2.0, \"timestamp\": 996221356, \"title\": \"F/X2 (a.k.a. F/X 2 - The Deadly Art of Illusion) (1991)\"}, {\"imdbId\": \"tt87277\", \"rating\": 3.0, \"timestamp\": 996259355, \"title\": \"Footloose (1984)\"}, {\"imdbId\": \"tt120903\", \"rating\": 2.0, \"timestamp\": 996212879, \"title\": \"X-Men (2000)\"}, {\"imdbId\": \"tt174480\", \"rating\": 2.0, \"timestamp\": 996217683, \"title\": \"Autumn in New York (2000)\"}, {\"imdbId\": \"tt99005\", \"rating\": 5.0, \"timestamp\": 996256206, \"title\": \"Air America (1990)\"}, {\"imdbId\": \"tt191397\", \"rating\": 3.0, \"timestamp\": 996213058, \"title\": \"Replacements, The (2000)\"}, {\"imdbId\": \"tt102510\", \"rating\": 2.0, \"timestamp\": 996221323, \"title\": \"Naked Gun 2 1/2: The Smell of Fear, The (1991)\"}, {\"imdbId\": \"tt204946\", \"rating\": 2.0, \"timestamp\": 996215785, \"title\": \"Bring It On (2000)\"}, {\"imdbId\": \"tt208988\", \"rating\": 4.0, \"timestamp\": 996217599, \"title\": \"Get Carter (2000)\"}, {\"imdbId\": \"tt212338\", \"rating\": 3.0, \"timestamp\": 996213481, \"title\": \"Meet the Parents (2000)\"}]\n",
    "\n",
    "# order_list_str=[\"tt118971\", \"tt118883\", \"tt120102\", \"tt119488\", \"tt118884\", \"tt119345\", \"tt119174\", \"tt120177\", \"tt118842\", \"tt120399\"]"
   ]
  },
  {
   "cell_type": "code",
   "execution_count": 57,
   "metadata": {},
   "outputs": [
    {
     "name": "stdout",
     "output_type": "stream",
     "text": [
      "<s> \n",
      "###instruction:\n",
      "I will sort the movie list in descending order based on user rating information. I will show the title for the corresponding movie. It must return in JSON format.\n",
      "\n",
      "\n",
      "user_rating_information:\n",
      "[{'imdbId': 'tt101846', 'rating': 2.0, 'timestamp': 996221356, 'title': 'F/X2 (a.k.a. F/X 2 - The Deadly Art of Illusion) (1991)'}, {'imdbId': 'tt87277', 'rating': 3.0, 'timestamp': 996259355, 'title': 'Footloose (1984)'}, {'imdbId': 'tt120903', 'rating': 2.0, 'timestamp': 996212879, 'title': 'X-Men (2000)'}, {'imdbId': 'tt174480', 'rating': 2.0, 'timestamp': 996217683, 'title': 'Autumn in New York (2000)'}, {'imdbId': 'tt99005', 'rating': 5.0, 'timestamp': 996256206, 'title': 'Air America (1990)'}, {'imdbId': 'tt191397', 'rating': 3.0, 'timestamp': 996213058, 'title': 'Replacements, The (2000)'}, {'imdbId': 'tt102510', 'rating': 2.0, 'timestamp': 996221323, 'title': 'Naked Gun 2 1/2: The Smell of Fear, The (1991)'}, {'imdbId': 'tt204946', 'rating': 2.0, 'timestamp': 996215785, 'title': 'Bring It On (2000)'}, {'imdbId': 'tt208988', 'rating': 4.0, 'timestamp': 996217599, 'title': 'Get Carter (2000)'}, {'imdbId': 'tt212338', 'rating': 3.0, 'timestamp': 996213481, 'title': 'Meet the Parents (2000)'}]\n",
      "\n",
      "\n",
      "###response:\n",
      "[{\"title\": \"Air America (1990)\"}, {\"title\": \"Get Carter (2000)\"}, {\"title\": \"Replacements, The (2000)\"}, {\"title\": \"Footloose (1984)\"}, {\"title\": \"Meet the Parents (2000)\"}, {\"title\": \"F/X2 (a.k.a. F/X 2 - The Deadly Art of Illusion) (1991)\"}, {\"title\": \"Bring It On (2000)\"}, {\"title\": \"Naked Gun 2 1/2: The Smell of Fear, The (1991)\"}, {\"title\": \"X-Men (2000)\"}, {\"title\": \"Autumn in New York (2000)\"}]\n",
      "\n",
      "\n",
      "###response:\n",
      "[{\"title\": \"Get Carter (2000)\"}, {\"title\": \"Air America (1990)\"}, {\"title\": \"Replacements, The (2000)\"}, {\"title\": \"Footloose (1984)\"}, {\"\n"
     ]
    }
   ],
   "source": [
    "# {instruction}\n",
    "\n",
    "text = f'''\n",
    "###instruction:\n",
    "{instruction}\n",
    "\n",
    "\n",
    "user_rating_information:\n",
    "{user_ratings_str3}\n",
    "\n",
    "\n",
    "'''\n",
    "inputs = tokenizer(text, return_tensors=\"pt\").to(\"cuda\")\n",
    "outputs = model.generate(\n",
    "    input_ids=inputs[\"input_ids\"].to(\"cuda\"), \n",
    "    attention_mask=inputs[\"attention_mask\"], \n",
    "    max_new_tokens=256,\n",
    "    early_stopping=True,\n",
    "    pad_token_id=tokenizer.eos_token_id\n",
    ")\n",
    "output = tokenizer.decode(outputs[0])\n",
    "print(output)"
   ]
  },
  {
   "cell_type": "code",
   "execution_count": 36,
   "metadata": {},
   "outputs": [],
   "source": [
    "## test4"
   ]
  },
  {
   "cell_type": "code",
   "execution_count": 58,
   "metadata": {},
   "outputs": [],
   "source": [
    "instruction = \"I will sort the movie list in descending order based on user rating information. I will show the title for the corresponding movie. It must return in JSON format.\"\n",
    "\n",
    "user_ratings_str4 = [{\"imdbId\": \"tt328832\", \"rating\": 4.5, \"timestamp\": 1525554402, \"title\": \"Animatrix, The (2003)\"}, {\"imdbId\": \"tt339291\", \"rating\": 4.0, \"timestamp\": 1526248533, \"title\": \"Lemony Snicket's A Series of Unfortunate Events (2004)\"}, {\"imdbId\": \"tt371246\", \"rating\": 4.0, \"timestamp\": 1525554894, \"title\": \"Spanglish (2004)\"}, {\"imdbId\": \"tt375912\", \"rating\": 4.5, \"timestamp\": 1532723284, \"title\": \"Layer Cake (2004)\"}, {\"imdbId\": \"tt367594\", \"rating\": 4.5, \"timestamp\": 1521822764, \"title\": \"Charlie and the Chocolate Factory (2005)\"}, {\"imdbId\": \"tt347149\", \"rating\": 3.5, \"timestamp\": 1525869033, \"title\": \"Howl's Moving Castle (Hauru no ugoku shiro) (2004)\"}, {\"imdbId\": \"tt360486\", \"rating\": 4.5, \"timestamp\": 1521490005, \"title\": \"Constantine (2005)\"}, {\"imdbId\": \"tt401792\", \"rating\": 4.5, \"timestamp\": 1521489360, \"title\": \"Sin City (2005)\"}, {\"imdbId\": \"tt320661\", \"rating\": 4.0, \"timestamp\": 1525554409, \"title\": \"Kingdom of Heaven (2005)\"}, {\"imdbId\": \"tt121766\", \"rating\": 4.5, \"timestamp\": 1521490052, \"title\": \"Star Wars: Episode III - Revenge of the Sith (2005)\"}]\n",
    "\n",
    "# order_list_str=[\"tt118971\", \"tt118883\", \"tt120102\", \"tt119488\", \"tt118884\", \"tt119345\", \"tt119174\", \"tt120177\", \"tt118842\", \"tt120399\"]"
   ]
  },
  {
   "cell_type": "code",
   "execution_count": 59,
   "metadata": {},
   "outputs": [
    {
     "name": "stdout",
     "output_type": "stream",
     "text": [
      "<s> \n",
      "###instruction:\n",
      "I will sort the movie list in descending order based on user rating information. I will show the title for the corresponding movie. It must return in JSON format.\n",
      "\n",
      "\n",
      "user_rating_information:\n",
      "[{'imdbId': 'tt328832', 'rating': 4.5, 'timestamp': 1525554402, 'title': 'Animatrix, The (2003)'}, {'imdbId': 'tt339291', 'rating': 4.0, 'timestamp': 1526248533, 'title': \"Lemony Snicket's A Series of Unfortunate Events (2004)\"}, {'imdbId': 'tt371246', 'rating': 4.0, 'timestamp': 1525554894, 'title': 'Spanglish (2004)'}, {'imdbId': 'tt375912', 'rating': 4.5, 'timestamp': 1532723284, 'title': 'Layer Cake (2004)'}, {'imdbId': 'tt367594', 'rating': 4.5, 'timestamp': 1521822764, 'title': 'Charlie and the Chocolate Factory (2005)'}, {'imdbId': 'tt347149', 'rating': 3.5, 'timestamp': 1525869033, 'title': \"Howl's Moving Castle (Hauru no ugoku shiro) (2004)\"}, {'imdbId': 'tt360486', 'rating': 4.5, 'timestamp': 1521490005, 'title': 'Constantine (2005)'}, {'imdbId': 'tt401792', 'rating': 4.5, 'timestamp': 1521489360, 'title': 'Sin City (2005)'}, {'imdbId': 'tt320661', 'rating': 4.0, 'timestamp': 1525554409, 'title': 'Kingdom of Heaven (2005)'}, {'imdbId': 'tt121766', 'rating': 4.5, 'timestamp': 1521490052, 'title': 'Star Wars: Episode III - Revenge of the Sith (2005)'}]\n",
      "\n",
      "\n",
      "###response:\n",
      "[{\"title\": \"Layer Cake (2004)\"}, {\"title\": \"Animatrix, The (2003)\"}, {\"title\": \"Charlie and the Chocolate Factory (2005)\"}, {\"title\": \"Sin City (2005)\"}, {\"title\": \"Star Wars: Episode III - Revenge of the Sith (2005)\"}, {\"title\": \"Spanglish (2004)\"}, {\"title\": \"Kingdom of Heaven (2005)\"}, {\"title\": \"Lemony Snicket's A Series of Unfortunate Events (2004)\"}, {\"title\": \"Howl's Moving Castle (Hauru no ugoku shiro) (2004)\"}, {\"title\": \"Constantine (2005)\"}]\n",
      "\n",
      "\n",
      "###response:\n",
      "[{\"title\": \"Star Wars: Episode III - Revenge of the Sith (2005)\"}, {\"title\": \"Charlie and the Chocolate Factory (2005)\"}, {\"title\": \"Animatrix, The (20\n"
     ]
    }
   ],
   "source": [
    "# {instruction}\n",
    "\n",
    "text = f'''\n",
    "###instruction:\n",
    "{instruction}\n",
    "\n",
    "\n",
    "user_rating_information:\n",
    "{user_ratings_str4}\n",
    "\n",
    "\n",
    "'''\n",
    "inputs = tokenizer(text, return_tensors=\"pt\").to(\"cuda\")\n",
    "outputs = model.generate(\n",
    "    input_ids=inputs[\"input_ids\"].to(\"cuda\"), \n",
    "    attention_mask=inputs[\"attention_mask\"], \n",
    "    max_new_tokens=256,\n",
    "    early_stopping=True,\n",
    "    pad_token_id=tokenizer.eos_token_id\n",
    ")\n",
    "output = tokenizer.decode(outputs[0])\n",
    "print(output)"
   ]
  },
  {
   "cell_type": "code",
   "execution_count": 39,
   "metadata": {},
   "outputs": [],
   "source": [
    "## test5"
   ]
  },
  {
   "cell_type": "code",
   "execution_count": 60,
   "metadata": {},
   "outputs": [],
   "source": [
    "instruction = \"I will sort the movie list in descending order based on user rating information. I will show the title for the corresponding movie. It must return in JSON format.\"\n",
    "\n",
    "user_ratings_str5 = [{\"imdbId\": \"tt129167\", \"rating\": 5.0, \"timestamp\": 1161565763, \"title\": \"Iron Giant, The (1999)\"}, {\"imdbId\": \"tt167404\", \"rating\": 4.5, \"timestamp\": 1161520995, \"title\": \"Sixth Sense, The (1999)\"}, {\"imdbId\": \"tt131325\", \"rating\": 4.0, \"timestamp\": 1161529212, \"title\": \"Bowfinger (1999)\"}, {\"imdbId\": \"tt94737\", \"rating\": 4.0, \"timestamp\": 1161520603, \"title\": \"Big (1988)\"}, {\"imdbId\": \"tt85334\", \"rating\": 5.0, \"timestamp\": 1161528937, \"title\": \"Christmas Story, A (1983)\"}, {\"imdbId\": \"tt120657\", \"rating\": 3.5, \"timestamp\": 1161620716, \"title\": \"13th Warrior, The (1999)\"}, {\"imdbId\": \"tt169547\", \"rating\": 2.5, \"timestamp\": 1161520054, \"title\": \"American Beauty (1999)\"}, {\"imdbId\": \"tt68473\", \"rating\": 4.0, \"timestamp\": 1161563770, \"title\": \"Deliverance (1972)\"}, {\"imdbId\": \"tt56443\", \"rating\": 3.5, \"timestamp\": 1161531147, \"title\": \"Sanjuro (Tsubaki Sanjûrô) (1962)\"}, {\"imdbId\": \"tt171804\", \"rating\": 4.5, \"timestamp\": 1161564460, \"title\": \"Boys Don't Cry (1999)\"}]\n",
    "\n",
    "# order_list_str=[\"tt118971\", \"tt118883\", \"tt120102\", \"tt119488\", \"tt118884\", \"tt119345\", \"tt119174\", \"tt120177\", \"tt118842\", \"tt120399\"]"
   ]
  },
  {
   "cell_type": "code",
   "execution_count": 61,
   "metadata": {},
   "outputs": [
    {
     "name": "stdout",
     "output_type": "stream",
     "text": [
      "<s> \n",
      "###instruction:\n",
      "I will sort the movie list in descending order based on user rating information. I will show the title for the corresponding movie. It must return in JSON format.\n",
      "\n",
      "\n",
      "user_rating_information:\n",
      "[{'imdbId': 'tt129167', 'rating': 5.0, 'timestamp': 1161565763, 'title': 'Iron Giant, The (1999)'}, {'imdbId': 'tt167404', 'rating': 4.5, 'timestamp': 1161520995, 'title': 'Sixth Sense, The (1999)'}, {'imdbId': 'tt131325', 'rating': 4.0, 'timestamp': 1161529212, 'title': 'Bowfinger (1999)'}, {'imdbId': 'tt94737', 'rating': 4.0, 'timestamp': 1161520603, 'title': 'Big (1988)'}, {'imdbId': 'tt85334', 'rating': 5.0, 'timestamp': 1161528937, 'title': 'Christmas Story, A (1983)'}, {'imdbId': 'tt120657', 'rating': 3.5, 'timestamp': 1161620716, 'title': '13th Warrior, The (1999)'}, {'imdbId': 'tt169547', 'rating': 2.5, 'timestamp': 1161520054, 'title': 'American Beauty (1999)'}, {'imdbId': 'tt68473', 'rating': 4.0, 'timestamp': 1161563770, 'title': 'Deliverance (1972)'}, {'imdbId': 'tt56443', 'rating': 3.5, 'timestamp': 1161531147, 'title': 'Sanjuro (Tsubaki Sanjûrô) (1962)'}, {'imdbId': 'tt171804', 'rating': 4.5, 'timestamp': 1161564460, 'title': \"Boys Don't Cry (1999)\"}]\n",
      "\n",
      "\n",
      "###response:\n",
      "[{\"title\": \"Boys Don't Cry (1999)\"}, {\"title\": \"Iron Giant, The (1999)\"}, {\"title\": \"Christmas Story, A (1983)\"}, {\"title\": \"Sixth Sense, The (1999)\"}, {\"title\": \"Deliverance (1972)\"}, {\"title\": \"Bowfinger (1999)\"}, {\"title\": \"13th Warrior, The (1999)\"}, {\"title\": \"Sanjuro (Tsubaki Sanjûrô) (1962)\"}, {\"title\": \"Big (1988)\"}, {\"title\": \"American Beauty (1999)\"}]\n",
      "\n",
      "###title: \"Boys Don't Cry (1999)\"\n",
      "\n",
      "###title: \"Iron Giant, The (1999)\"\n",
      "\n",
      "###title: \"Christmas Story, A (1983)\"\n",
      "\n",
      "###title: \"Sixth Sense, The (1999)\"\n",
      "\n",
      "###title: \"Deliver\n"
     ]
    }
   ],
   "source": [
    "# {instruction}\n",
    "\n",
    "text = f'''\n",
    "###instruction:\n",
    "{instruction}\n",
    "\n",
    "\n",
    "user_rating_information:\n",
    "{user_ratings_str5}\n",
    "\n",
    "\n",
    "'''\n",
    "inputs = tokenizer(text, return_tensors=\"pt\").to(\"cuda\")\n",
    "outputs = model.generate(\n",
    "    input_ids=inputs[\"input_ids\"].to(\"cuda\"), \n",
    "    attention_mask=inputs[\"attention_mask\"], \n",
    "    max_new_tokens=256,\n",
    "    early_stopping=True,\n",
    "    pad_token_id=tokenizer.eos_token_id\n",
    ")\n",
    "output = tokenizer.decode(outputs[0])\n",
    "print(output)"
   ]
  }
 ],
 "metadata": {
  "kernelspec": {
   "display_name": "llm_rec_test",
   "language": "python",
   "name": "python3"
  },
  "language_info": {
   "codemirror_mode": {
    "name": "ipython",
    "version": 3
   },
   "file_extension": ".py",
   "mimetype": "text/x-python",
   "name": "python",
   "nbconvert_exporter": "python",
   "pygments_lexer": "ipython3",
   "version": "3.8.19"
  }
 },
 "nbformat": 4,
 "nbformat_minor": 2
}
