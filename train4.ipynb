{
 "cells": [
  {
   "cell_type": "code",
   "execution_count": 1,
   "metadata": {},
   "outputs": [
    {
     "name": "stderr",
     "output_type": "stream",
     "text": [
      "2024-04-18 10:37:18.706317: I tensorflow/core/platform/cpu_feature_guard.cc:193] This TensorFlow binary is optimized with oneAPI Deep Neural Network Library (oneDNN) to use the following CPU instructions in performance-critical operations:  AVX2 AVX512F AVX512_VNNI FMA\n",
      "To enable them in other operations, rebuild TensorFlow with the appropriate compiler flags.\n",
      "2024-04-18 10:37:18.814490: I tensorflow/core/util/port.cc:104] oneDNN custom operations are on. You may see slightly different numerical results due to floating-point round-off errors from different computation orders. To turn them off, set the environment variable `TF_ENABLE_ONEDNN_OPTS=0`.\n",
      "2024-04-18 10:37:19.342040: W tensorflow/compiler/xla/stream_executor/platform/default/dso_loader.cc:64] Could not load dynamic library 'libnvinfer.so.7'; dlerror: libnvinfer.so.7: cannot open shared object file: No such file or directory; LD_LIBRARY_PATH: /usr/local/cuda/lib64:\n",
      "2024-04-18 10:37:19.342096: W tensorflow/compiler/xla/stream_executor/platform/default/dso_loader.cc:64] Could not load dynamic library 'libnvinfer_plugin.so.7'; dlerror: libnvinfer_plugin.so.7: cannot open shared object file: No such file or directory; LD_LIBRARY_PATH: /usr/local/cuda/lib64:\n",
      "2024-04-18 10:37:19.342101: W tensorflow/compiler/tf2tensorrt/utils/py_utils.cc:38] TF-TRT Warning: Cannot dlopen some TensorRT libraries. If you would like to use Nvidia GPU with TensorRT, please make sure the missing libraries mentioned above are installed properly.\n"
     ]
    }
   ],
   "source": [
    "import torch\n",
    "from transformers import (\n",
    "    AutoModelForCausalLM,\n",
    "    LlamaTokenizerFast,\n",
    "    TrainingArguments,\n",
    "    Trainer,\n",
    "    BitsAndBytesConfig,\n",
    ")\n",
    "from peft import (\n",
    "    LoraConfig,\n",
    "    get_peft_model,\n",
    ")"
   ]
  },
  {
   "cell_type": "code",
   "execution_count": 2,
   "metadata": {},
   "outputs": [],
   "source": [
    "# https://huggingface.co/meta-llama/Llama-2-7b-hf\n",
    "base_model = \"meta-llama/Llama-2-7b-hf\"\n",
    "# base_model = \"TinyPixel/Llama-2-7B-bf16-sharded\""
   ]
  },
  {
   "cell_type": "code",
   "execution_count": 3,
   "metadata": {},
   "outputs": [],
   "source": [
    "# # Fine-tuned model\n",
    "# new_model = \"llama-2-7b-hf-fine-tuned-test1\""
   ]
  },
  {
   "cell_type": "code",
   "execution_count": 3,
   "metadata": {},
   "outputs": [],
   "source": [
    "# QLoRA 모델을 사용하기 위한 설정\n",
    "\n",
    "bnb_config = BitsAndBytesConfig(\n",
    "    load_in_4bit=True,\n",
    "    bnb_4bit_use_double_quant=True,\n",
    "    bnb_4bit_quant_type=\"nf4\",\n",
    "    bnb_4bit_compute_dtype=torch.bfloat16 \n",
    ")\n",
    "\n"
   ]
  },
  {
   "cell_type": "code",
   "execution_count": 4,
   "metadata": {},
   "outputs": [
    {
     "data": {
      "application/vnd.jupyter.widget-view+json": {
       "model_id": "9624efc5d89047859d2a10bf2b7df295",
       "version_major": 2,
       "version_minor": 0
      },
      "text/plain": [
       "Loading checkpoint shards:   0%|          | 0/2 [00:00<?, ?it/s]"
      ]
     },
     "metadata": {},
     "output_type": "display_data"
    }
   ],
   "source": [
    "# 라마2 모델 불러오기\n",
    "model = AutoModelForCausalLM.from_pretrained(\n",
    "    base_model,\n",
    "    quantization_config=bnb_config,\n",
    "    device_map=\"auto\",\n",
    ")\n",
    "model.config.use_cache = False\n",
    "model.config.pretraining_tp = 1"
   ]
  },
  {
   "cell_type": "code",
   "execution_count": 5,
   "metadata": {},
   "outputs": [],
   "source": [
    "# 토크나이저 로드\n",
    "import os\n",
    "os.environ[\"TOKENIZERS_PARALLELISM\"] = \"false\" # 토크나이저 병렬처리 방지(오류 방지)\n",
    "os.environ['TRANSFORMERS_NO_ADVISORY_WARNINGS'] = 'true' # __cell__ 오류 방지\n",
    "\n",
    "tokenizer = LlamaTokenizerFast.from_pretrained(\n",
    "    base_model,\n",
    "    trust_remote_code=True\n",
    ")\n",
    "tokenizer.pad_token = tokenizer.eos_token # 패딩 토큰을 문장의 끝으로 설정 </s>\n",
    "tokenizer.padding_side = \"right\" # 패딩을 문장 뒤에 추가"
   ]
  },
  {
   "cell_type": "code",
   "execution_count": 8,
   "metadata": {},
   "outputs": [],
   "source": [
    "# 학습 양식\n",
    "import json\n",
    "from datasets import load_dataset\n",
    "file_name = 'preprocess/dataset3/new_ratings.json'"
   ]
  },
  {
   "cell_type": "code",
   "execution_count": 9,
   "metadata": {},
   "outputs": [],
   "source": [
    "import json\n",
    "\n",
    "# JSON 파일 불러오기\n",
    "input_file = file_name\n",
    "with open(input_file, 'r') as f:\n",
    "    data = json.load(f)\n",
    "\n",
    "# 불러온 데이터 확인\n",
    "# print(data)"
   ]
  },
  {
   "cell_type": "code",
   "execution_count": 10,
   "metadata": {},
   "outputs": [
    {
     "name": "stdout",
     "output_type": "stream",
     "text": [
      "[{'imdbId': 'tt114709', 'rating': 4, 'title': 'Toy Story (1995)', 'genres': 'Adventure|Animation|Children|Comedy|Fantasy', 'timestamp': 964982703}, {'imdbId': 'tt113228', 'rating': 4, 'title': 'Grumpier Old Men (1995)', 'genres': 'Comedy|Romance', 'timestamp': 964981247}, {'imdbId': 'tt113277', 'rating': 4, 'title': 'Heat (1995)', 'genres': 'Action|Crime|Thriller', 'timestamp': 964982224}, {'imdbId': 'tt114369', 'rating': 5, 'title': 'Seven (a.k.a. Se7en) (1995)', 'genres': 'Mystery|Thriller', 'timestamp': 964983815}, {'imdbId': 'tt114814', 'rating': 5, 'title': 'Usual Suspects, The (1995)', 'genres': 'Crime|Mystery|Thriller', 'timestamp': 964982931}, {'imdbId': 'tt116367', 'rating': 3, 'title': 'From Dusk Till Dawn (1996)', 'genres': 'Action|Comedy|Horror|Thriller', 'timestamp': 964982400}, {'imdbId': 'tt115734', 'rating': 5, 'title': 'Bottle Rocket (1996)', 'genres': 'Adventure|Comedy|Crime|Romance', 'timestamp': 964980868}, {'imdbId': 'tt112573', 'rating': 4, 'title': 'Braveheart (1995)', 'genres': 'Action|Drama|War', 'timestamp': 964982176}, {'imdbId': 'tt114287', 'rating': 5, 'title': 'Rob Roy (1995)', 'genres': 'Action|Drama|Romance|War', 'timestamp': 964984041}, {'imdbId': 'tt109370', 'rating': 5, 'title': 'Canadian Bacon (1995)', 'genres': 'Comedy|War', 'timestamp': 964984100}]\n",
      "<class 'list'>\n",
      "{'imdbId': 'tt114709', 'rating': 4, 'title': 'Toy Story (1995)', 'genres': 'Adventure|Animation|Children|Comedy|Fantasy', 'timestamp': 964982703}\n",
      "<class 'dict'>\n",
      "['tt109370', 'tt114287', 'tt114369', 'tt114814', 'tt115734', 'tt114709', 'tt113277', 'tt112573', 'tt113228', 'tt116367']\n"
     ]
    }
   ],
   "source": [
    "# print(data[1])\n",
    "\n",
    "print(data[0][\"ratings\"]) # 영화 평점들 정보 모음\n",
    "print(type(data[0][\"ratings\"])) \n",
    "\n",
    "print(data[0][\"ratings\"][0]) # 평점 1개\n",
    "print(type(data[0][\"ratings\"][0])) \n",
    "print(data[0][\"order\"])"
   ]
  },
  {
   "cell_type": "code",
   "execution_count": 11,
   "metadata": {},
   "outputs": [],
   "source": [
    "instruction = '''\n",
    "I'll determine the priority of the movie recommendation list based on the user's movie rating information. I'll return the recommended list of movies sorted according to priority imdb_id, and I'll output the metadata for the corresponding imdb_id. It must return in JSON format.\n",
    "'''"
   ]
  },
  {
   "cell_type": "code",
   "execution_count": 12,
   "metadata": {},
   "outputs": [],
   "source": [
    "# 데이터 매핑 함수 정의\n",
    "def map_data_to_format(example):\n",
    "\n",
    "    user_ratings_str = json.dumps(example['ratings'], ensure_ascii=False)\n",
    "    order_list_str = json.dumps(example[\"order\"], ensure_ascii=False)\n",
    "    \n",
    "    text = (\n",
    "        f\"###instruction:\\n{instruction}\\n\\n\"\n",
    "        f\"user_ratings_info:\\n{user_ratings_str}\\n\\n\"\n",
    "        f\"###order_list:\\n{order_list_str}\\n\\n\"\n",
    "    )\n",
    "    \n",
    "    # completion은 모델이 생성해야 할 예상 출력을 포함함\n",
    "    # 여기서는 우선순위에 따라 정렬된 영화 imdb_id의 리스트를 반환합니다.\n",
    "    completion = f\"{{\\\"order_list\\\": {order_list_str}}}\"\n",
    "    \n",
    "    return {'text': text, 'completion': completion}"
   ]
  },
  {
   "cell_type": "code",
   "execution_count": 13,
   "metadata": {},
   "outputs": [
    {
     "data": {
      "application/vnd.jupyter.widget-view+json": {
       "model_id": "fff87081040641268075dbf9465e07a0",
       "version_major": 2,
       "version_minor": 0
      },
      "text/plain": [
       "Downloading data files:   0%|          | 0/1 [00:00<?, ?it/s]"
      ]
     },
     "metadata": {},
     "output_type": "display_data"
    },
    {
     "data": {
      "application/vnd.jupyter.widget-view+json": {
       "model_id": "b9a0100386aa499fb6c48a32a9a01391",
       "version_major": 2,
       "version_minor": 0
      },
      "text/plain": [
       "Extracting data files:   0%|          | 0/1 [00:00<?, ?it/s]"
      ]
     },
     "metadata": {},
     "output_type": "display_data"
    },
    {
     "data": {
      "application/vnd.jupyter.widget-view+json": {
       "model_id": "0008e1cd6c3c4eeeb77a003a02c121bc",
       "version_major": 2,
       "version_minor": 0
      },
      "text/plain": [
       "Generating train split: 0 examples [00:00, ? examples/s]"
      ]
     },
     "metadata": {},
     "output_type": "display_data"
    }
   ],
   "source": [
    "# 데이터셋 로드\n",
    "data = load_dataset('json', data_files=file_name, split=\"train\")"
   ]
  },
  {
   "cell_type": "code",
   "execution_count": 14,
   "metadata": {},
   "outputs": [
    {
     "name": "stdout",
     "output_type": "stream",
     "text": [
      "Dataset({\n",
      "    features: ['ratings', 'userId', 'order'],\n",
      "    num_rows: 10084\n",
      "})\n"
     ]
    }
   ],
   "source": [
    "print(data)"
   ]
  },
  {
   "cell_type": "code",
   "execution_count": 15,
   "metadata": {},
   "outputs": [],
   "source": [
    "# print(data['ratings'])\n"
   ]
  },
  {
   "cell_type": "code",
   "execution_count": 16,
   "metadata": {},
   "outputs": [],
   "source": [
    "# print(data['order']) # [['tt109370', 'tt114287', 'tt114369', 'tt114814', 'tt115734', 'tt114709', 'tt113277', 'tt112573', 'tt113228', 'tt116367'], ...]"
   ]
  },
  {
   "cell_type": "code",
   "execution_count": 17,
   "metadata": {},
   "outputs": [],
   "source": [
    "# print(data['userId']) # [1, 2, 3, 4, 5, 6, 7, 8, 9, 10, ...]"
   ]
  },
  {
   "cell_type": "code",
   "execution_count": 18,
   "metadata": {},
   "outputs": [
    {
     "data": {
      "application/vnd.jupyter.widget-view+json": {
       "model_id": "e30f65e9ad104b5f93ec047edd4b1eb3",
       "version_major": 2,
       "version_minor": 0
      },
      "text/plain": [
       "Map:   0%|          | 0/10084 [00:00<?, ? examples/s]"
      ]
     },
     "metadata": {},
     "output_type": "display_data"
    }
   ],
   "source": [
    "# 데이터 매핑 적용\n",
    "mapped_data = data.map(map_data_to_format)"
   ]
  },
  {
   "cell_type": "code",
   "execution_count": 19,
   "metadata": {},
   "outputs": [
    {
     "name": "stdout",
     "output_type": "stream",
     "text": [
      "Dataset({\n",
      "    features: ['ratings', 'userId', 'order', 'text', 'completion'],\n",
      "    num_rows: 10084\n",
      "})\n"
     ]
    }
   ],
   "source": [
    "print(mapped_data)\n"
   ]
  },
  {
   "cell_type": "code",
   "execution_count": 20,
   "metadata": {},
   "outputs": [
    {
     "data": {
      "application/vnd.jupyter.widget-view+json": {
       "model_id": "1e538dd9babd4469b4ce21ccb5edb1ea",
       "version_major": 2,
       "version_minor": 0
      },
      "text/plain": [
       "Map:   0%|          | 0/9075 [00:00<?, ? examples/s]"
      ]
     },
     "metadata": {},
     "output_type": "display_data"
    },
    {
     "name": "stderr",
     "output_type": "stream",
     "text": [
      "Asking to truncate to max_length but no maximum length is provided and the model has no predefined maximum length. Default to no truncation.\n"
     ]
    },
    {
     "data": {
      "application/vnd.jupyter.widget-view+json": {
       "model_id": "aa2d43cdb5444a7b9073420112988cda",
       "version_major": 2,
       "version_minor": 0
      },
      "text/plain": [
       "Map:   0%|          | 0/1009 [00:00<?, ? examples/s]"
      ]
     },
     "metadata": {},
     "output_type": "display_data"
    }
   ],
   "source": [
    "# 데이터셋 분할\n",
    "split_data = mapped_data.train_test_split(test_size=0.1)  # 10%를 테스트셋으로 사용\n",
    "\n",
    "train_set = split_data['train']\n",
    "eval_set = split_data['test']\n",
    "\n",
    "train_set = train_set.map(lambda samples: tokenizer(samples[\"text\"], padding=True, truncation=True, return_tensors=\"pt\"), batched=True)\n",
    "eval_set = eval_set.map(lambda samples: tokenizer(samples[\"text\"], padding=True, truncation=True, return_tensors=\"pt\"), batched=True)\n",
    "\n",
    "# lora 파라미터 설정\n",
    "peft_params = LoraConfig(\n",
    "    lora_alpha=16,\n",
    "    lora_dropout=0.1,\n",
    "    r=64,\n",
    "    bias=\"none\",\n",
    "    task_type=\"CAUSAL_LM\",\n",
    ")\n"
   ]
  },
  {
   "cell_type": "code",
   "execution_count": 22,
   "metadata": {},
   "outputs": [
    {
     "name": "stdout",
     "output_type": "stream",
     "text": [
      "###instruction:\n",
      "\n",
      "I'll determine the priority of the movie recommendation list based on the user's movie rating information. I'll return the recommended list of movies sorted according to priority imdb_id, and I'll output the metadata for the corresponding imdb_id. It must return in JSON format.\n",
      "\n",
      "\n",
      "user_ratings_info:\n",
      "[{\"genres\": \"Action|Adventure|Thriller\", \"imdbId\": \"tt381061\", \"rating\": 4, \"timestamp\": 1521467766, \"title\": \"Casino Royale (2006)\"}, {\"genres\": \"Animation|Children|Drama\", \"imdbId\": \"tt382932\", \"rating\": 5, \"timestamp\": 1521398256, \"title\": \"Ratatouille (2007)\"}, {\"genres\": \"Action|Crime|Thriller\", \"imdbId\": \"tt440963\", \"rating\": 4, \"timestamp\": 1521467753, \"title\": \"Bourne Ultimatum, The (2007)\"}, {\"genres\": \"Action|Adventure|Sci-Fi\", \"imdbId\": \"tt371746\", \"rating\": 5, \"timestamp\": 1513712154, \"title\": \"Iron Man (2008)\"}, {\"genres\": \"Adventure|Animation|Children|Romance|Sci-Fi\", \"imdbId\": \"tt910970\", \"rating\": 5, \"timestamp\": 1513712149, \"title\": \"WALL·E (2008)\"}, {\"genres\": \"Crime|Drama|Romance\", \"imdbId\": \"tt1010048\", \"rating\": 4, \"timestamp\": 1513712159, \"title\": \"Slumdog Millionaire (2008)\"}, {\"genres\": \"Crime|Drama|Mystery|Thriller\", \"imdbId\": \"tt1132620\", \"rating\": 4, \"timestamp\": 1521397883, \"title\": \"Girl with the Dragon Tattoo, The (M?n som hatar kvinnor) (2009)\"}, {\"genres\": \"Action|Drama|War\", \"imdbId\": \"tt361748\", \"rating\": 4, \"timestamp\": 1513712157, \"title\": \"Inglourious Basterds (2009)\"}, {\"genres\": \"Adventure|Animation|Children|Drama\", \"imdbId\": \"tt1049413\", \"rating\": 5, \"timestamp\": 1513712151, \"title\": \"Up (2009)\"}, {\"genres\": \"Mystery|Sci-Fi|Thriller\", \"imdbId\": \"tt1136608\", \"rating\": 4, \"timestamp\": 1513712164, \"title\": \"District 9 (2009)\"}]\n",
      "\n",
      "###order_list:\n",
      "[\"tt382932\", \"tt371746\", \"tt1049413\", \"tt910970\", \"tt1132620\", \"tt1136608\", \"tt381061\", \"tt440963\", \"tt1010048\", \"tt361748\"]\n",
      "\n",
      "\n",
      "###instruction:\n",
      "\n",
      "I'll determine the priority of the movie recommendation list based on the user's movie rating information. I'll return the recommended list of movies sorted according to priority imdb_id, and I'll output the metadata for the corresponding imdb_id. It must return in JSON format.\n",
      "\n",
      "\n",
      "user_ratings_info:\n",
      "[{\"genres\": \"Children|Comedy|Fantasy\", \"imdbId\": \"tt322330\", \"rating\": 3, \"timestamp\": 1182909798, \"title\": \"Freaky Friday (2003)\"}, {\"genres\": \"Action|Thriller\", \"imdbId\": \"tt257076\", \"rating\": 4, \"timestamp\": 1218165908, \"title\": \"S.W.A.T. (2003)\"}, {\"genres\": \"Action|Horror|Thriller\", \"imdbId\": \"tt329101\", \"rating\": 2, \"timestamp\": 1167944697, \"title\": \"Freddy vs. Jason (2003)\"}, {\"genres\": \"Comedy\", \"imdbId\": \"tt263757\", \"rating\": 2, \"timestamp\": 1085353163, \"title\": \"Uptown Girls (2003)\"}, {\"genres\": \"Action|Adventure|Children|Fantasy\", \"imdbId\": \"tt313911\", \"rating\": 2, \"timestamp\": 1218170720, \"title\": \"Agent Cody Banks (2003)\"}, {\"genres\": \"Comedy|Crime|Drama\", \"imdbId\": \"tt325805\", \"rating\": 4, \"timestamp\": 1141776686, \"title\": \"Matchstick Men (2003)\"}, {\"genres\": \"Comedy|Drama|Romance\", \"imdbId\": \"tt335266\", \"rating\": 4, \"timestamp\": 1234141908, \"title\": \"Lost in Translation (2003)\"}, {\"genres\": \"Children|Comedy|Drama\", \"imdbId\": \"tt327137\", \"rating\": 3, \"timestamp\": 1218166879, \"title\": \"Secondhand Lions (2003)\"}, {\"genres\": \"Action|Fantasy|Horror\", \"imdbId\": \"tt320691\", \"rating\": 4, \"timestamp\": 1079651579, \"title\": \"Underworld (2003)\"}, {\"genres\": \"Comedy|Crime\", \"imdbId\": \"tt266489\", \"rating\": 3, \"timestamp\": 1218168016, \"title\": \"Duplex (2003)\"}]\n",
      "\n",
      "###order_list:\n",
      "[\"tt325805\", \"tt335266\", \"tt257076\", \"tt320691\", \"tt266489\", \"tt327137\", \"tt322330\", \"tt329101\", \"tt313911\", \"tt263757\"]\n",
      "\n",
      "\n"
     ]
    }
   ],
   "source": [
    "print(train_set[3][\"text\"])\n",
    "# print(train_set[20][\"text\"])\n",
    "print(train_set[120][\"text\"])"
   ]
  },
  {
   "cell_type": "code",
   "execution_count": 23,
   "metadata": {},
   "outputs": [
    {
     "name": "stdout",
     "output_type": "stream",
     "text": [
      "###instruction:\n",
      "\n",
      "I'll determine the priority of the movie recommendation list based on the user's movie rating information. I'll return the recommended list of movies sorted according to priority imdb_id, and I'll output the metadata for the corresponding imdb_id. It must return in JSON format.\n",
      "\n",
      "\n",
      "user_ratings_info:\n",
      "[{\"genres\": \"Drama|Sci-Fi\", \"imdbId\": \"tt118884\", \"rating\": 4, \"timestamp\": 1034135578, \"title\": \"Contact (1997)\"}, {\"genres\": \"Action|Adventure|Sci-Fi|Thriller\", \"imdbId\": \"tt120177\", \"rating\": 2, \"timestamp\": 1034138273, \"title\": \"Spawn (1997)\"}, {\"genres\": \"Drama|Mystery|Romance|Thriller\", \"imdbId\": \"tt118883\", \"rating\": 5, \"timestamp\": 1034138875, \"title\": \"Conspiracy Theory (1997)\"}, {\"genres\": \"Crime|Film-Noir|Mystery|Thriller\", \"imdbId\": \"tt119488\", \"rating\": 4, \"timestamp\": 1034136028, \"title\": \"L.A. Confidential (1997)\"}, {\"genres\": \"Adventure|Drama|War\", \"imdbId\": \"tt120102\", \"rating\": 4, \"timestamp\": 1034138678, \"title\": \"Seven Years in Tibet (1997)\"}, {\"genres\": \"Drama|Mystery|Thriller\", \"imdbId\": \"tt119174\", \"rating\": 2, \"timestamp\": 1034139049, \"title\": \"Game, The (1997)\"}, {\"genres\": \"Crime|Drama|Mystery\", \"imdbId\": \"tt120399\", \"rating\": 1, \"timestamp\": 1034139135, \"title\": \"U Turn (1997)\"}, {\"genres\": \"Comedy|Drama|Romance\", \"imdbId\": \"tt118842\", \"rating\": 2, \"timestamp\": 1034136119, \"title\": \"Chasing Amy (1997)\"}, {\"genres\": \"Horror|Mystery|Thriller\", \"imdbId\": \"tt119345\", \"rating\": 3, \"timestamp\": 1034139198, \"title\": \"I Know What You Did Last Summer (1997)\"}, {\"genres\": \"Drama|Mystery|Thriller\", \"imdbId\": \"tt118971\", \"rating\": 5, \"timestamp\": 1034139094, \"title\": \"The Devil's Advocate (1997)\"}]\n",
      "\n",
      "###order_list:\n",
      "[\"tt118971\", \"tt118883\", \"tt120102\", \"tt119488\", \"tt118884\", \"tt119345\", \"tt119174\", \"tt120177\", \"tt118842\", \"tt120399\"]\n",
      "\n",
      "\n",
      "###instruction:\n",
      "\n",
      "I'll determine the priority of the movie recommendation list based on the user's movie rating information. I'll return the recommended list of movies sorted according to priority imdb_id, and I'll output the metadata for the corresponding imdb_id. It must return in JSON format.\n",
      "\n",
      "\n",
      "user_ratings_info:\n",
      "[{\"genres\": \"Comedy|Romance\", \"imdbId\": \"tt98635\", \"rating\": 4, \"timestamp\": 1157922737, \"title\": \"When Harry Met Sally... (1989)\"}, {\"genres\": \"Comedy|Drama\", \"imdbId\": \"tt112537\", \"rating\": 2, \"timestamp\": 1174935480, \"title\": \"Blue Juice (1995)\"}, {\"genres\": \"Horror|Thriller\", \"imdbId\": \"tt56869\", \"rating\": 2, \"timestamp\": 1163148030, \"title\": \"Birds, The (1963)\"}, {\"genres\": \"Drama|Fantasy|Horror|Thriller\", \"imdbId\": \"tt74285\", \"rating\": 3, \"timestamp\": 1157968863, \"title\": \"Carrie (1976)\"}, {\"genres\": \"Comedy|Musical|Romance\", \"imdbId\": \"tt77631\", \"rating\": 3, \"timestamp\": 1157922879, \"title\": \"Grease (1978)\"}, {\"genres\": \"Action|Comedy|Sci-Fi\", \"imdbId\": \"tt116996\", \"rating\": 2, \"timestamp\": 1157922851, \"title\": \"Mars Attacks! (1996)\"}, {\"genres\": \"Drama\", \"imdbId\": \"tt116999\", \"rating\": 3, \"timestamp\": 1174935354, \"title\": \"Marvin's Room (1996)\"}, {\"genres\": \"Comedy|Horror|Mystery|Thriller\", \"imdbId\": \"tt117571\", \"rating\": 2, \"timestamp\": 1157967944, \"title\": \"Scream (1996)\"}, {\"genres\": \"Comedy|Romance\", \"imdbId\": \"tt106387\", \"rating\": 3, \"timestamp\": 1157922314, \"title\": \"Benny & Joon (1993)\"}, {\"genres\": \"Crime|Drama|Fantasy|Film-Noir|Mystery|Romance\", \"imdbId\": \"tt116922\", \"rating\": 4, \"timestamp\": 1157923634, \"title\": \"Lost Highway (1997)\"}]\n",
      "\n",
      "###order_list:\n",
      "[\"tt116922\", \"tt98635\", \"tt116999\", \"tt74285\", \"tt77631\", \"tt106387\", \"tt112537\", \"tt56869\", \"tt117571\", \"tt116996\"]\n",
      "\n",
      "\n"
     ]
    }
   ],
   "source": [
    "print(eval_set[3][\"text\"])\n",
    "# print(eval_set[20][\"text\"])\n",
    "print(eval_set[120][\"text\"])"
   ]
  },
  {
   "cell_type": "code",
   "execution_count": 24,
   "metadata": {},
   "outputs": [
    {
     "name": "stdout",
     "output_type": "stream",
     "text": [
      "{\"order_list\": [\"tt382932\", \"tt371746\", \"tt1049413\", \"tt910970\", \"tt1132620\", \"tt1136608\", \"tt381061\", \"tt440963\", \"tt1010048\", \"tt361748\"]}\n",
      "{\"order_list\": [\"tt325805\", \"tt335266\", \"tt257076\", \"tt320691\", \"tt266489\", \"tt327137\", \"tt322330\", \"tt329101\", \"tt313911\", \"tt263757\"]}\n"
     ]
    }
   ],
   "source": [
    "print(train_set[3][\"completion\"])\n",
    "# print(train_set[20][\"completion\"])\n",
    "print(train_set[120][\"completion\"])"
   ]
  },
  {
   "cell_type": "code",
   "execution_count": 25,
   "metadata": {},
   "outputs": [],
   "source": [
    "model = get_peft_model(model, peft_params)\n",
    "\n",
    "# prameter\n",
    "epochs = 3 # 10\n",
    "batch_size = 2\n",
    "lr = 2e-4\n",
    "\n",
    "training_params = TrainingArguments(\n",
    "    output_dir=\"models\",\n",
    "    num_train_epochs=epochs,\n",
    "    per_device_train_batch_size=batch_size,\n",
    "    gradient_accumulation_steps=16,\n",
    "    optim=\"adamw_torch\",\n",
    "    save_strategy=\"epoch\",\n",
    "    evaluation_strategy=\"steps\",\n",
    "    logging_strategy=\"steps\",\n",
    "    eval_steps=20,\n",
    "    logging_steps=20,\n",
    "    learning_rate=lr,\n",
    "    weight_decay=0.001,\n",
    "    fp16=False,\n",
    "    bf16=False,\n",
    "    max_grad_norm=0.3,\n",
    "    max_steps=-1,\n",
    "    warmup_ratio=0.03,\n",
    "    group_by_length=True,\n",
    "    lr_scheduler_type=\"cosine\",\n",
    "    report_to=\"tensorboard\",\n",
    "    dataloader_num_workers=1,\n",
    ")\n"
   ]
  },
  {
   "cell_type": "code",
   "execution_count": 22,
   "metadata": {},
   "outputs": [],
   "source": [
    "# ! wandb login --relogin\n"
   ]
  },
  {
   "cell_type": "code",
   "execution_count": 26,
   "metadata": {},
   "outputs": [
    {
     "name": "stderr",
     "output_type": "stream",
     "text": [
      "/home/gpuadmin/anaconda3/envs/llm_test/lib/python3.8/site-packages/accelerate/accelerator.py:436: FutureWarning: Passing the following arguments to `Accelerator` is deprecated and will be removed in version 1.0 of Accelerate: dict_keys(['dispatch_batches', 'split_batches', 'even_batches', 'use_seedable_sampler']). Please pass an `accelerate.DataLoaderConfiguration` instead: \n",
      "dataloader_config = DataLoaderConfiguration(dispatch_batches=None, split_batches=False, even_batches=True, use_seedable_sampler=True)\n",
      "  warnings.warn(\n"
     ]
    },
    {
     "data": {
      "application/vnd.jupyter.widget-view+json": {
       "model_id": "dffd3dc1bc8f4be299a85aa07038c190",
       "version_major": 2,
       "version_minor": 0
      },
      "text/plain": [
       "  0%|          | 0/849 [00:00<?, ?it/s]"
      ]
     },
     "metadata": {},
     "output_type": "display_data"
    },
    {
     "name": "stdout",
     "output_type": "stream",
     "text": [
      "{'loss': 0.8849, 'grad_norm': 0.07385071367025375, 'learning_rate': 0.00015384615384615385, 'epoch': 0.07}\n"
     ]
    },
    {
     "data": {
      "application/vnd.jupyter.widget-view+json": {
       "model_id": "de4fce869efc4fdab8fe0da6a2c31239",
       "version_major": 2,
       "version_minor": 0
      },
      "text/plain": [
       "  0%|          | 0/127 [00:00<?, ?it/s]"
      ]
     },
     "metadata": {},
     "output_type": "display_data"
    },
    {
     "name": "stdout",
     "output_type": "stream",
     "text": [
      "{'eval_loss': 0.7833625674247742, 'eval_runtime': 266.6675, 'eval_samples_per_second': 3.784, 'eval_steps_per_second': 0.476, 'epoch': 0.07}\n",
      "{'loss': 0.6164, 'grad_norm': 0.0474424809217453, 'learning_rate': 0.00019985723465913057, 'epoch': 0.14}\n"
     ]
    },
    {
     "data": {
      "application/vnd.jupyter.widget-view+json": {
       "model_id": "780e768ded604f7e82435066e540091b",
       "version_major": 2,
       "version_minor": 0
      },
      "text/plain": [
       "  0%|          | 0/127 [00:00<?, ?it/s]"
      ]
     },
     "metadata": {},
     "output_type": "display_data"
    },
    {
     "name": "stdout",
     "output_type": "stream",
     "text": [
      "{'eval_loss': 0.5095880031585693, 'eval_runtime': 266.478, 'eval_samples_per_second': 3.786, 'eval_steps_per_second': 0.477, 'epoch': 0.14}\n",
      "{'loss': 0.5751, 'grad_norm': 0.4895540177822113, 'learning_rate': 0.00019915895699076222, 'epoch': 0.21}\n"
     ]
    },
    {
     "data": {
      "application/vnd.jupyter.widget-view+json": {
       "model_id": "62c4b33a17da4e92acdfd1367e8e5751",
       "version_major": 2,
       "version_minor": 0
      },
      "text/plain": [
       "  0%|          | 0/127 [00:00<?, ?it/s]"
      ]
     },
     "metadata": {},
     "output_type": "display_data"
    },
    {
     "name": "stdout",
     "output_type": "stream",
     "text": [
      "{'eval_loss': 0.6212902069091797, 'eval_runtime': 265.3464, 'eval_samples_per_second': 3.803, 'eval_steps_per_second': 0.479, 'epoch': 0.21}\n",
      "{'loss': 0.5352, 'grad_norm': 0.16289913654327393, 'learning_rate': 0.00019788300765977138, 'epoch': 0.28}\n"
     ]
    },
    {
     "data": {
      "application/vnd.jupyter.widget-view+json": {
       "model_id": "814b569276224b80a72c2b7c2853f914",
       "version_major": 2,
       "version_minor": 0
      },
      "text/plain": [
       "  0%|          | 0/127 [00:00<?, ?it/s]"
      ]
     },
     "metadata": {},
     "output_type": "display_data"
    },
    {
     "name": "stdout",
     "output_type": "stream",
     "text": [
      "{'eval_loss': 0.5520762205123901, 'eval_runtime': 266.2927, 'eval_samples_per_second': 3.789, 'eval_steps_per_second': 0.477, 'epoch': 0.28}\n",
      "{'loss': 0.5824, 'grad_norm': 0.5329055786132812, 'learning_rate': 0.00019603681998124953, 'epoch': 0.35}\n"
     ]
    },
    {
     "data": {
      "application/vnd.jupyter.widget-view+json": {
       "model_id": "4240d0a91edc4a1f9941500317d04c81",
       "version_major": 2,
       "version_minor": 0
      },
      "text/plain": [
       "  0%|          | 0/127 [00:00<?, ?it/s]"
      ]
     },
     "metadata": {},
     "output_type": "display_data"
    },
    {
     "name": "stdout",
     "output_type": "stream",
     "text": [
      "{'eval_loss': 0.5765947103500366, 'eval_runtime': 265.9247, 'eval_samples_per_second': 3.794, 'eval_steps_per_second': 0.478, 'epoch': 0.35}\n",
      "{'loss': 0.5618, 'grad_norm': 0.48945024609565735, 'learning_rate': 0.00019363114931545992, 'epoch': 0.42}\n"
     ]
    },
    {
     "data": {
      "application/vnd.jupyter.widget-view+json": {
       "model_id": "c3c4597015db4943a369948c6e00c5ff",
       "version_major": 2,
       "version_minor": 0
      },
      "text/plain": [
       "  0%|          | 0/127 [00:00<?, ?it/s]"
      ]
     },
     "metadata": {},
     "output_type": "display_data"
    },
    {
     "name": "stdout",
     "output_type": "stream",
     "text": [
      "{'eval_loss': 0.5525993704795837, 'eval_runtime': 266.094, 'eval_samples_per_second': 3.792, 'eval_steps_per_second': 0.477, 'epoch': 0.42}\n",
      "{'loss': 0.5425, 'grad_norm': 0.33630016446113586, 'learning_rate': 0.00019068001041019138, 'epoch': 0.49}\n"
     ]
    },
    {
     "data": {
      "application/vnd.jupyter.widget-view+json": {
       "model_id": "5cde3b8bbf724161a340cf9174efee29",
       "version_major": 2,
       "version_minor": 0
      },
      "text/plain": [
       "  0%|          | 0/127 [00:00<?, ?it/s]"
      ]
     },
     "metadata": {},
     "output_type": "display_data"
    },
    {
     "name": "stdout",
     "output_type": "stream",
     "text": [
      "{'eval_loss': 0.5329896807670593, 'eval_runtime': 265.5171, 'eval_samples_per_second': 3.8, 'eval_steps_per_second': 0.478, 'epoch': 0.49}\n",
      "{'loss': 0.5407, 'grad_norm': 0.3608875274658203, 'learning_rate': 0.0001872005957548546, 'epoch': 0.56}\n"
     ]
    },
    {
     "data": {
      "application/vnd.jupyter.widget-view+json": {
       "model_id": "9d06f7e4e0e54e9d9410a196ab7b32e0",
       "version_major": 2,
       "version_minor": 0
      },
      "text/plain": [
       "  0%|          | 0/127 [00:00<?, ?it/s]"
      ]
     },
     "metadata": {},
     "output_type": "display_data"
    },
    {
     "name": "stdout",
     "output_type": "stream",
     "text": [
      "{'eval_loss': 0.5313614010810852, 'eval_runtime': 266.4147, 'eval_samples_per_second': 3.787, 'eval_steps_per_second': 0.477, 'epoch': 0.56}\n",
      "{'loss': 0.5315, 'grad_norm': 0.30110815167427063, 'learning_rate': 0.00018321317542196645, 'epoch': 0.63}\n"
     ]
    },
    {
     "data": {
      "application/vnd.jupyter.widget-view+json": {
       "model_id": "b0bf9fff5d014f9cad5fd4360c1efaf7",
       "version_major": 2,
       "version_minor": 0
      },
      "text/plain": [
       "  0%|          | 0/127 [00:00<?, ?it/s]"
      ]
     },
     "metadata": {},
     "output_type": "display_data"
    },
    {
     "name": "stdout",
     "output_type": "stream",
     "text": [
      "{'eval_loss': 0.5414902567863464, 'eval_runtime': 265.9624, 'eval_samples_per_second': 3.794, 'eval_steps_per_second': 0.478, 'epoch': 0.63}\n",
      "{'loss': 0.5339, 'grad_norm': 0.3641558885574341, 'learning_rate': 0.00017874097897951737, 'epoch': 0.71}\n"
     ]
    },
    {
     "data": {
      "application/vnd.jupyter.widget-view+json": {
       "model_id": "bcbf728b901242fa8859f9049f9af56d",
       "version_major": 2,
       "version_minor": 0
      },
      "text/plain": [
       "  0%|          | 0/127 [00:00<?, ?it/s]"
      ]
     },
     "metadata": {},
     "output_type": "display_data"
    },
    {
     "name": "stdout",
     "output_type": "stream",
     "text": [
      "{'eval_loss': 0.5337942242622375, 'eval_runtime': 267.1168, 'eval_samples_per_second': 3.777, 'eval_steps_per_second': 0.475, 'epoch': 0.71}\n",
      "{'loss': 0.5326, 'grad_norm': 0.48900139331817627, 'learning_rate': 0.0001738100601621661, 'epoch': 0.78}\n"
     ]
    },
    {
     "data": {
      "application/vnd.jupyter.widget-view+json": {
       "model_id": "97d4c22731b54992a61649d7e6dad4dd",
       "version_major": 2,
       "version_minor": 0
      },
      "text/plain": [
       "  0%|          | 0/127 [00:00<?, ?it/s]"
      ]
     },
     "metadata": {},
     "output_type": "display_data"
    },
    {
     "name": "stdout",
     "output_type": "stream",
     "text": [
      "{'eval_loss': 0.5453521013259888, 'eval_runtime': 265.7558, 'eval_samples_per_second': 3.797, 'eval_steps_per_second': 0.478, 'epoch': 0.78}\n",
      "{'loss': 0.536, 'grad_norm': 0.5223833918571472, 'learning_rate': 0.00016844914508964935, 'epoch': 0.85}\n"
     ]
    },
    {
     "data": {
      "application/vnd.jupyter.widget-view+json": {
       "model_id": "81d631b4b99b449a860c4adf7efac93f",
       "version_major": 2,
       "version_minor": 0
      },
      "text/plain": [
       "  0%|          | 0/127 [00:00<?, ?it/s]"
      ]
     },
     "metadata": {},
     "output_type": "display_data"
    },
    {
     "name": "stdout",
     "output_type": "stream",
     "text": [
      "{'eval_loss': 0.527496874332428, 'eval_runtime': 266.6123, 'eval_samples_per_second': 3.785, 'eval_steps_per_second': 0.476, 'epoch': 0.85}\n",
      "{'loss': 0.5362, 'grad_norm': 0.47824937105178833, 'learning_rate': 0.00016268946491664139, 'epoch': 0.92}\n"
     ]
    },
    {
     "data": {
      "application/vnd.jupyter.widget-view+json": {
       "model_id": "21b1ceec397c44f4a49c4217bfbaed59",
       "version_major": 2,
       "version_minor": 0
      },
      "text/plain": [
       "  0%|          | 0/127 [00:00<?, ?it/s]"
      ]
     },
     "metadata": {},
     "output_type": "display_data"
    },
    {
     "name": "stdout",
     "output_type": "stream",
     "text": [
      "{'eval_loss': 0.5281435251235962, 'eval_runtime': 266.5089, 'eval_samples_per_second': 3.786, 'eval_steps_per_second': 0.477, 'epoch': 0.92}\n",
      "{'loss': 0.5361, 'grad_norm': 0.6570889949798584, 'learning_rate': 0.00015656457388899838, 'epoch': 0.99}\n"
     ]
    },
    {
     "data": {
      "application/vnd.jupyter.widget-view+json": {
       "model_id": "8655b4456b9d4fc78b3636af64dadd71",
       "version_major": 2,
       "version_minor": 0
      },
      "text/plain": [
       "  0%|          | 0/127 [00:00<?, ?it/s]"
      ]
     },
     "metadata": {},
     "output_type": "display_data"
    },
    {
     "name": "stdout",
     "output_type": "stream",
     "text": [
      "{'eval_loss': 0.5424951910972595, 'eval_runtime': 266.2712, 'eval_samples_per_second': 3.789, 'eval_steps_per_second': 0.477, 'epoch': 0.99}\n",
      "{'loss': 0.53, 'grad_norm': 0.6494739651679993, 'learning_rate': 0.00015011015386633952, 'epoch': 1.06}\n"
     ]
    },
    {
     "data": {
      "application/vnd.jupyter.widget-view+json": {
       "model_id": "8cb3ee6f3751450b8f15b511047f4db2",
       "version_major": 2,
       "version_minor": 0
      },
      "text/plain": [
       "  0%|          | 0/127 [00:00<?, ?it/s]"
      ]
     },
     "metadata": {},
     "output_type": "display_data"
    },
    {
     "name": "stdout",
     "output_type": "stream",
     "text": [
      "{'eval_loss': 0.5300111770629883, 'eval_runtime': 266.795, 'eval_samples_per_second': 3.782, 'eval_steps_per_second': 0.476, 'epoch': 1.06}\n",
      "{'loss': 0.5282, 'grad_norm': 0.7702212929725647, 'learning_rate': 0.00014336380644975965, 'epoch': 1.13}\n"
     ]
    },
    {
     "data": {
      "application/vnd.jupyter.widget-view+json": {
       "model_id": "caae938895494b5693c2744d27af5d1f",
       "version_major": 2,
       "version_minor": 0
      },
      "text/plain": [
       "  0%|          | 0/127 [00:00<?, ?it/s]"
      ]
     },
     "metadata": {},
     "output_type": "display_data"
    },
    {
     "name": "stdout",
     "output_type": "stream",
     "text": [
      "{'eval_loss': 0.5264086723327637, 'eval_runtime': 266.6384, 'eval_samples_per_second': 3.784, 'eval_steps_per_second': 0.476, 'epoch': 1.13}\n",
      "{'loss': 0.5289, 'grad_norm': 0.6267045736312866, 'learning_rate': 0.00013636483392567885, 'epoch': 1.2}\n"
     ]
    },
    {
     "data": {
      "application/vnd.jupyter.widget-view+json": {
       "model_id": "78059b4a543e4ac1a80b525326f2172d",
       "version_major": 2,
       "version_minor": 0
      },
      "text/plain": [
       "  0%|          | 0/127 [00:00<?, ?it/s]"
      ]
     },
     "metadata": {},
     "output_type": "display_data"
    },
    {
     "name": "stdout",
     "output_type": "stream",
     "text": [
      "{'eval_loss': 0.5302799940109253, 'eval_runtime': 266.5637, 'eval_samples_per_second': 3.785, 'eval_steps_per_second': 0.476, 'epoch': 1.2}\n",
      "{'loss': 0.5233, 'grad_norm': 0.532896101474762, 'learning_rate': 0.0001291540103019864, 'epoch': 1.27}\n"
     ]
    },
    {
     "data": {
      "application/vnd.jupyter.widget-view+json": {
       "model_id": "9661ceecb4b54d57a9e0eeedf575c1f4",
       "version_major": 2,
       "version_minor": 0
      },
      "text/plain": [
       "  0%|          | 0/127 [00:00<?, ?it/s]"
      ]
     },
     "metadata": {},
     "output_type": "display_data"
    },
    {
     "name": "stdout",
     "output_type": "stream",
     "text": [
      "{'eval_loss': 0.5326438546180725, 'eval_runtime': 267.4724, 'eval_samples_per_second': 3.772, 'eval_steps_per_second': 0.475, 'epoch': 1.27}\n",
      "{'loss': 0.5258, 'grad_norm': 0.5032944679260254, 'learning_rate': 0.00012177334377035738, 'epoch': 1.34}\n"
     ]
    },
    {
     "data": {
      "application/vnd.jupyter.widget-view+json": {
       "model_id": "b005b85a053942539eeca819357bd55c",
       "version_major": 2,
       "version_minor": 0
      },
      "text/plain": [
       "  0%|          | 0/127 [00:00<?, ?it/s]"
      ]
     },
     "metadata": {},
     "output_type": "display_data"
    },
    {
     "name": "stdout",
     "output_type": "stream",
     "text": [
      "{'eval_loss': 0.5262725353240967, 'eval_runtime': 266.7661, 'eval_samples_per_second': 3.782, 'eval_steps_per_second': 0.476, 'epoch': 1.34}\n",
      "{'loss': 0.528, 'grad_norm': 0.38766083121299744, 'learning_rate': 0.00011426583197856858, 'epoch': 1.41}\n"
     ]
    },
    {
     "data": {
      "application/vnd.jupyter.widget-view+json": {
       "model_id": "34dea3305cc246858773fb2a2f3759b0",
       "version_major": 2,
       "version_minor": 0
      },
      "text/plain": [
       "  0%|          | 0/127 [00:00<?, ?it/s]"
      ]
     },
     "metadata": {},
     "output_type": "display_data"
    },
    {
     "name": "stdout",
     "output_type": "stream",
     "text": [
      "{'eval_loss': 0.5284185409545898, 'eval_runtime': 267.1001, 'eval_samples_per_second': 3.778, 'eval_steps_per_second': 0.475, 'epoch': 1.41}\n",
      "{'loss': 0.5276, 'grad_norm': 0.7043172121047974, 'learning_rate': 0.00010667521153852603, 'epoch': 1.48}\n"
     ]
    },
    {
     "data": {
      "application/vnd.jupyter.widget-view+json": {
       "model_id": "910fa77bba1b44b9bf990bb50d210290",
       "version_major": 2,
       "version_minor": 0
      },
      "text/plain": [
       "  0%|          | 0/127 [00:00<?, ?it/s]"
      ]
     },
     "metadata": {},
     "output_type": "display_data"
    },
    {
     "name": "stdout",
     "output_type": "stream",
     "text": [
      "{'eval_loss': 0.5235955119132996, 'eval_runtime': 267.5827, 'eval_samples_per_second': 3.771, 'eval_steps_per_second': 0.475, 'epoch': 1.48}\n",
      "{'loss': 0.5244, 'grad_norm': 0.5747101306915283, 'learning_rate': 9.904570322930005e-05, 'epoch': 1.55}\n"
     ]
    },
    {
     "data": {
      "application/vnd.jupyter.widget-view+json": {
       "model_id": "685d4402413741b68c4155eb1ae4935b",
       "version_major": 2,
       "version_minor": 0
      },
      "text/plain": [
       "  0%|          | 0/127 [00:00<?, ?it/s]"
      ]
     },
     "metadata": {},
     "output_type": "display_data"
    },
    {
     "name": "stdout",
     "output_type": "stream",
     "text": [
      "{'eval_loss': 0.5231614112854004, 'eval_runtime': 266.3243, 'eval_samples_per_second': 3.789, 'eval_steps_per_second': 0.477, 'epoch': 1.55}\n",
      "{'loss': 0.5215, 'grad_norm': 0.6021324992179871, 'learning_rate': 9.142175437954095e-05, 'epoch': 1.62}\n"
     ]
    },
    {
     "data": {
      "application/vnd.jupyter.widget-view+json": {
       "model_id": "2ecd2fad89a849e8b6ce901846ed6713",
       "version_major": 2,
       "version_minor": 0
      },
      "text/plain": [
       "  0%|          | 0/127 [00:00<?, ?it/s]"
      ]
     },
     "metadata": {},
     "output_type": "display_data"
    },
    {
     "name": "stdout",
     "output_type": "stream",
     "text": [
      "{'eval_loss': 0.5182010531425476, 'eval_runtime': 268.3887, 'eval_samples_per_second': 3.759, 'eval_steps_per_second': 0.473, 'epoch': 1.62}\n",
      "{'loss': 0.5226, 'grad_norm': 0.6952721476554871, 'learning_rate': 8.384777993008154e-05, 'epoch': 1.69}\n"
     ]
    },
    {
     "data": {
      "application/vnd.jupyter.widget-view+json": {
       "model_id": "aa7e3d42cd2c4c4a903951220127d47c",
       "version_major": 2,
       "version_minor": 0
      },
      "text/plain": [
       "  0%|          | 0/127 [00:00<?, ?it/s]"
      ]
     },
     "metadata": {},
     "output_type": "display_data"
    },
    {
     "name": "stdout",
     "output_type": "stream",
     "text": [
      "{'eval_loss': 0.5186762809753418, 'eval_runtime': 266.6354, 'eval_samples_per_second': 3.784, 'eval_steps_per_second': 0.476, 'epoch': 1.69}\n",
      "{'loss': 0.5198, 'grad_norm': 0.6583736538887024, 'learning_rate': 7.636790368522208e-05, 'epoch': 1.76}\n"
     ]
    },
    {
     "data": {
      "application/vnd.jupyter.widget-view+json": {
       "model_id": "75a2eb1237464fdcadc36302059c6499",
       "version_major": 2,
       "version_minor": 0
      },
      "text/plain": [
       "  0%|          | 0/127 [00:00<?, ?it/s]"
      ]
     },
     "metadata": {},
     "output_type": "display_data"
    },
    {
     "name": "stdout",
     "output_type": "stream",
     "text": [
      "{'eval_loss': 0.5137943029403687, 'eval_runtime': 267.8248, 'eval_samples_per_second': 3.767, 'eval_steps_per_second': 0.474, 'epoch': 1.76}\n",
      "{'loss': 0.518, 'grad_norm': 0.46092110872268677, 'learning_rate': 6.90257012600931e-05, 'epoch': 1.83}\n"
     ]
    },
    {
     "data": {
      "application/vnd.jupyter.widget-view+json": {
       "model_id": "234c3b94706b4aca8a8579c3ac81d1e2",
       "version_major": 2,
       "version_minor": 0
      },
      "text/plain": [
       "  0%|          | 0/127 [00:00<?, ?it/s]"
      ]
     },
     "metadata": {},
     "output_type": "display_data"
    },
    {
     "name": "stdout",
     "output_type": "stream",
     "text": [
      "{'eval_loss': 0.5182417035102844, 'eval_runtime': 266.528, 'eval_samples_per_second': 3.786, 'eval_steps_per_second': 0.476, 'epoch': 1.83}\n",
      "{'loss': 0.5198, 'grad_norm': 0.42848697304725647, 'learning_rate': 6.186394622161136e-05, 'epoch': 1.9}\n"
     ]
    },
    {
     "data": {
      "application/vnd.jupyter.widget-view+json": {
       "model_id": "d3f210d147cd43f8b18f896fa5680651",
       "version_major": 2,
       "version_minor": 0
      },
      "text/plain": [
       "  0%|          | 0/127 [00:00<?, ?it/s]"
      ]
     },
     "metadata": {},
     "output_type": "display_data"
    },
    {
     "name": "stdout",
     "output_type": "stream",
     "text": [
      "{'eval_loss': 0.5133994221687317, 'eval_runtime': 267.3354, 'eval_samples_per_second': 3.774, 'eval_steps_per_second': 0.475, 'epoch': 1.9}\n",
      "{'loss': 0.5264, 'grad_norm': 0.447173148393631, 'learning_rate': 5.4924360901938574e-05, 'epoch': 1.97}\n"
     ]
    },
    {
     "data": {
      "application/vnd.jupyter.widget-view+json": {
       "model_id": "62a45cd9eccf4d8ba469fe9116bf340e",
       "version_major": 2,
       "version_minor": 0
      },
      "text/plain": [
       "  0%|          | 0/127 [00:00<?, ?it/s]"
      ]
     },
     "metadata": {},
     "output_type": "display_data"
    },
    {
     "name": "stdout",
     "output_type": "stream",
     "text": [
      "{'eval_loss': 0.5192396640777588, 'eval_runtime': 266.8912, 'eval_samples_per_second': 3.781, 'eval_steps_per_second': 0.476, 'epoch': 1.97}\n",
      "{'loss': 0.5172, 'grad_norm': 0.3802594840526581, 'learning_rate': 4.8247373336132565e-05, 'epoch': 2.04}\n"
     ]
    },
    {
     "data": {
      "application/vnd.jupyter.widget-view+json": {
       "model_id": "b7450d6a399b44afb14e0a5e60e3ce3b",
       "version_major": 2,
       "version_minor": 0
      },
      "text/plain": [
       "  0%|          | 0/127 [00:00<?, ?it/s]"
      ]
     },
     "metadata": {},
     "output_type": "display_data"
    },
    {
     "name": "stdout",
     "output_type": "stream",
     "text": [
      "{'eval_loss': 0.5142409801483154, 'eval_runtime': 268.0917, 'eval_samples_per_second': 3.764, 'eval_steps_per_second': 0.474, 'epoch': 2.04}\n",
      "{'loss': 0.5107, 'grad_norm': 0.5628193616867065, 'learning_rate': 4.187188174000262e-05, 'epoch': 2.12}\n"
     ]
    },
    {
     "data": {
      "application/vnd.jupyter.widget-view+json": {
       "model_id": "4e06faa096bd4c7596d1147669413bf3",
       "version_major": 2,
       "version_minor": 0
      },
      "text/plain": [
       "  0%|          | 0/127 [00:00<?, ?it/s]"
      ]
     },
     "metadata": {},
     "output_type": "display_data"
    },
    {
     "name": "stdout",
     "output_type": "stream",
     "text": [
      "{'eval_loss': 0.5143328309059143, 'eval_runtime': 266.5599, 'eval_samples_per_second': 3.785, 'eval_steps_per_second': 0.476, 'epoch': 2.12}\n",
      "{'loss': 0.5152, 'grad_norm': 0.4663352072238922, 'learning_rate': 3.5835027900253036e-05, 'epoch': 2.19}\n"
     ]
    },
    {
     "data": {
      "application/vnd.jupyter.widget-view+json": {
       "model_id": "3236eb446ddb443fad750e2b9e69dd23",
       "version_major": 2,
       "version_minor": 0
      },
      "text/plain": [
       "  0%|          | 0/127 [00:00<?, ?it/s]"
      ]
     },
     "metadata": {},
     "output_type": "display_data"
    },
    {
     "name": "stdout",
     "output_type": "stream",
     "text": [
      "{'eval_loss': 0.5140727162361145, 'eval_runtime': 267.6712, 'eval_samples_per_second': 3.77, 'eval_steps_per_second': 0.474, 'epoch': 2.19}\n",
      "{'loss': 0.5161, 'grad_norm': 0.2966443598270416, 'learning_rate': 3.017198079707937e-05, 'epoch': 2.26}\n"
     ]
    },
    {
     "data": {
      "application/vnd.jupyter.widget-view+json": {
       "model_id": "82455d7161fe42069db041dd0fc41318",
       "version_major": 2,
       "version_minor": 0
      },
      "text/plain": [
       "  0%|          | 0/127 [00:00<?, ?it/s]"
      ]
     },
     "metadata": {},
     "output_type": "display_data"
    },
    {
     "name": "stdout",
     "output_type": "stream",
     "text": [
      "{'eval_loss': 0.5130386352539062, 'eval_runtime': 266.3984, 'eval_samples_per_second': 3.788, 'eval_steps_per_second': 0.477, 'epoch': 2.26}\n",
      "{'loss': 0.5126, 'grad_norm': 0.41004878282546997, 'learning_rate': 2.491573171976982e-05, 'epoch': 2.33}\n"
     ]
    },
    {
     "data": {
      "application/vnd.jupyter.widget-view+json": {
       "model_id": "b02a8d8fad9641adb8947c1e8b6f7a83",
       "version_major": 2,
       "version_minor": 0
      },
      "text/plain": [
       "  0%|          | 0/127 [00:00<?, ?it/s]"
      ]
     },
     "metadata": {},
     "output_type": "display_data"
    },
    {
     "name": "stdout",
     "output_type": "stream",
     "text": [
      "{'eval_loss': 0.5114720463752747, 'eval_runtime': 257.6326, 'eval_samples_per_second': 3.916, 'eval_steps_per_second': 0.493, 'epoch': 2.33}\n",
      "{'loss': 0.5152, 'grad_norm': 0.2975098192691803, 'learning_rate': 2.009690206890984e-05, 'epoch': 2.4}\n"
     ]
    },
    {
     "data": {
      "application/vnd.jupyter.widget-view+json": {
       "model_id": "8d8675cbfe534d6e890ac95cf70f7659",
       "version_major": 2,
       "version_minor": 0
      },
      "text/plain": [
       "  0%|          | 0/127 [00:00<?, ?it/s]"
      ]
     },
     "metadata": {},
     "output_type": "display_data"
    },
    {
     "name": "stdout",
     "output_type": "stream",
     "text": [
      "{'eval_loss': 0.5114137530326843, 'eval_runtime': 257.6092, 'eval_samples_per_second': 3.917, 'eval_steps_per_second': 0.493, 'epoch': 2.4}\n",
      "{'loss': 0.5112, 'grad_norm': 0.273557186126709, 'learning_rate': 1.5743564964878867e-05, 'epoch': 2.47}\n"
     ]
    },
    {
     "data": {
      "application/vnd.jupyter.widget-view+json": {
       "model_id": "c4e33efb20d548c19ca598dcf10249d3",
       "version_major": 2,
       "version_minor": 0
      },
      "text/plain": [
       "  0%|          | 0/127 [00:00<?, ?it/s]"
      ]
     },
     "metadata": {},
     "output_type": "display_data"
    },
    {
     "name": "stdout",
     "output_type": "stream",
     "text": [
      "{'eval_loss': 0.5111247301101685, 'eval_runtime': 257.6576, 'eval_samples_per_second': 3.916, 'eval_steps_per_second': 0.493, 'epoch': 2.47}\n",
      "{'loss': 0.5113, 'grad_norm': 0.4346276521682739, 'learning_rate': 1.1881081701897445e-05, 'epoch': 2.54}\n"
     ]
    },
    {
     "data": {
      "application/vnd.jupyter.widget-view+json": {
       "model_id": "099636ac4b3944ec9707d5cfe9882baa",
       "version_major": 2,
       "version_minor": 0
      },
      "text/plain": [
       "  0%|          | 0/127 [00:00<?, ?it/s]"
      ]
     },
     "metadata": {},
     "output_type": "display_data"
    },
    {
     "name": "stdout",
     "output_type": "stream",
     "text": [
      "{'eval_loss': 0.5106444358825684, 'eval_runtime': 257.6327, 'eval_samples_per_second': 3.916, 'eval_steps_per_second': 0.493, 'epoch': 2.54}\n",
      "{'loss': 0.5121, 'grad_norm': 0.38515254855155945, 'learning_rate': 8.531954000395991e-06, 'epoch': 2.61}\n"
     ]
    },
    {
     "data": {
      "application/vnd.jupyter.widget-view+json": {
       "model_id": "3a33d79c4bee4fe0b0fa0e1f4ba29912",
       "version_major": 2,
       "version_minor": 0
      },
      "text/plain": [
       "  0%|          | 0/127 [00:00<?, ?it/s]"
      ]
     },
     "metadata": {},
     "output_type": "display_data"
    },
    {
     "name": "stdout",
     "output_type": "stream",
     "text": [
      "{'eval_loss': 0.5111034512519836, 'eval_runtime': 257.6221, 'eval_samples_per_second': 3.917, 'eval_steps_per_second': 0.493, 'epoch': 2.61}\n",
      "{'loss': 0.5133, 'grad_norm': 0.26416152715682983, 'learning_rate': 5.715692918441029e-06, 'epoch': 2.68}\n"
     ]
    },
    {
     "data": {
      "application/vnd.jupyter.widget-view+json": {
       "model_id": "8b0d135e46364433a92865c44fce7b84",
       "version_major": 2,
       "version_minor": 0
      },
      "text/plain": [
       "  0%|          | 0/127 [00:00<?, ?it/s]"
      ]
     },
     "metadata": {},
     "output_type": "display_data"
    },
    {
     "name": "stdout",
     "output_type": "stream",
     "text": [
      "{'eval_loss': 0.509739100933075, 'eval_runtime': 257.6125, 'eval_samples_per_second': 3.917, 'eval_steps_per_second': 0.493, 'epoch': 2.68}\n",
      "{'loss': 0.5116, 'grad_norm': 0.32467201352119446, 'learning_rate': 3.4487051859031004e-06, 'epoch': 2.75}\n"
     ]
    },
    {
     "data": {
      "application/vnd.jupyter.widget-view+json": {
       "model_id": "5569ee7fb0bf497dab1d12b1fb39547d",
       "version_major": 2,
       "version_minor": 0
      },
      "text/plain": [
       "  0%|          | 0/127 [00:00<?, ?it/s]"
      ]
     },
     "metadata": {},
     "output_type": "display_data"
    },
    {
     "name": "stdout",
     "output_type": "stream",
     "text": [
      "{'eval_loss': 0.5097690224647522, 'eval_runtime': 257.6261, 'eval_samples_per_second': 3.917, 'eval_steps_per_second': 0.493, 'epoch': 2.75}\n",
      "{'loss': 0.5069, 'grad_norm': 0.2507946193218231, 'learning_rate': 1.7441976235509917e-06, 'epoch': 2.82}\n"
     ]
    },
    {
     "data": {
      "application/vnd.jupyter.widget-view+json": {
       "model_id": "f982e34306cc43ac9540ecb941e24628",
       "version_major": 2,
       "version_minor": 0
      },
      "text/plain": [
       "  0%|          | 0/127 [00:00<?, ?it/s]"
      ]
     },
     "metadata": {},
     "output_type": "display_data"
    },
    {
     "name": "stdout",
     "output_type": "stream",
     "text": [
      "{'eval_loss': 0.5094700455665588, 'eval_runtime': 257.5498, 'eval_samples_per_second': 3.918, 'eval_steps_per_second': 0.493, 'epoch': 2.82}\n",
      "{'loss': 0.5125, 'grad_norm': 0.23914754390716553, 'learning_rate': 6.12100203899335e-07, 'epoch': 2.89}\n"
     ]
    },
    {
     "data": {
      "application/vnd.jupyter.widget-view+json": {
       "model_id": "d09d133cc0f7469cb64724a4d5f76745",
       "version_major": 2,
       "version_minor": 0
      },
      "text/plain": [
       "  0%|          | 0/127 [00:00<?, ?it/s]"
      ]
     },
     "metadata": {},
     "output_type": "display_data"
    },
    {
     "name": "stdout",
     "output_type": "stream",
     "text": [
      "{'eval_loss': 0.5095124840736389, 'eval_runtime': 257.6794, 'eval_samples_per_second': 3.916, 'eval_steps_per_second': 0.493, 'epoch': 2.89}\n",
      "{'loss': 0.5102, 'grad_norm': 0.24122254550457, 'learning_rate': 5.900820203481594e-08, 'epoch': 2.96}\n"
     ]
    },
    {
     "data": {
      "application/vnd.jupyter.widget-view+json": {
       "model_id": "e386cc55d8044b23aebd282ec14d6f52",
       "version_major": 2,
       "version_minor": 0
      },
      "text/plain": [
       "  0%|          | 0/127 [00:00<?, ?it/s]"
      ]
     },
     "metadata": {},
     "output_type": "display_data"
    },
    {
     "name": "stdout",
     "output_type": "stream",
     "text": [
      "{'eval_loss': 0.5094553232192993, 'eval_runtime': 265.8515, 'eval_samples_per_second': 3.795, 'eval_steps_per_second': 0.478, 'epoch': 2.96}\n",
      "{'train_runtime': 33845.5485, 'train_samples_per_second': 0.804, 'train_steps_per_second': 0.025, 'train_loss': 0.5370609004871022, 'epoch': 2.99}\n"
     ]
    },
    {
     "data": {
      "text/plain": [
       "TrainOutput(global_step=849, training_loss=0.5370609004871022, metrics={'train_runtime': 33845.5485, 'train_samples_per_second': 0.804, 'train_steps_per_second': 0.025, 'train_loss': 0.5370609004871022, 'epoch': 2.99})"
      ]
     },
     "execution_count": 26,
     "metadata": {},
     "output_type": "execute_result"
    }
   ],
   "source": [
    "import transformers\n",
    "import warnings\n",
    "warnings.filterwarnings(\"ignore\", category=UserWarning)\n",
    "\n",
    "trainer = Trainer(\n",
    "    model=model,\n",
    "    args=training_params,\n",
    "    train_dataset=train_set,\n",
    "    eval_dataset=eval_set,\n",
    "    tokenizer=tokenizer,\n",
    "    data_collator=transformers.DataCollatorForLanguageModeling(tokenizer, mlm=False),\n",
    ")\n",
    "\n",
    "trainer.train()"
   ]
  },
  {
   "cell_type": "code",
   "execution_count": 27,
   "metadata": {},
   "outputs": [
    {
     "data": {
      "text/html": [
       "\n",
       "      <iframe id=\"tensorboard-frame-1c80317fa3b1799d\" width=\"100%\" height=\"800\" frameborder=\"0\">\n",
       "      </iframe>\n",
       "      <script>\n",
       "        (function() {\n",
       "          const frame = document.getElementById(\"tensorboard-frame-1c80317fa3b1799d\");\n",
       "          const url = new URL(\"/\", window.location);\n",
       "          const port = 4000;\n",
       "          if (port) {\n",
       "            url.port = port;\n",
       "          }\n",
       "          frame.src = url;\n",
       "        })();\n",
       "      </script>\n",
       "    "
      ],
      "text/plain": [
       "<IPython.core.display.HTML object>"
      ]
     },
     "metadata": {},
     "output_type": "display_data"
    }
   ],
   "source": [
    "from tensorboard import notebook\n",
    "log_dir = \"./models\" \n",
    "notebook.start(\"--logdir {} --port 4000\".format(log_dir))"
   ]
  },
  {
   "cell_type": "code",
   "execution_count": 29,
   "metadata": {},
   "outputs": [],
   "source": [
    "instruction = \"I'll determine the priority of the movie recommendation list based on the user's movie rating information. I'll return the recommended list of movies sorted according to priority imdb_id, and I'll output the metadata for the corresponding imdb_id. It must return in JSON format.\"\n",
    "\n",
    "user_rating_str = [{\"genres\": \"Drama|Sci-Fi\", \"imdbId\": \"tt118884\", \"rating\": 4, \"timestamp\": 1034135578, \"title\": \"Contact (1997)\"}, {\"genres\": \"Action|Adventure|Sci-Fi|Thriller\", \"imdbId\": \"tt120177\", \"rating\": 2, \"timestamp\": 1034138273, \"title\": \"Spawn (1997)\"}, {\"genres\": \"Drama|Mystery|Romance|Thriller\", \"imdbId\": \"tt118883\", \"rating\": 5, \"timestamp\": 1034138875, \"title\": \"Conspiracy Theory (1997)\"}, {\"genres\": \"Crime|Film-Noir|Mystery|Thriller\", \"imdbId\": \"tt119488\", \"rating\": 4, \"timestamp\": 1034136028, \"title\": \"L.A. Confidential (1997)\"}, {\"genres\": \"Adventure|Drama|War\", \"imdbId\": \"tt120102\", \"rating\": 4, \"timestamp\": 1034138678, \"title\": \"Seven Years in Tibet (1997)\"}, {\"genres\": \"Drama|Mystery|Thriller\", \"imdbId\": \"tt119174\", \"rating\": 2, \"timestamp\": 1034139049, \"title\": \"Game, The (1997)\"}, {\"genres\": \"Crime|Drama|Mystery\", \"imdbId\": \"tt120399\", \"rating\": 1, \"timestamp\": 1034139135, \"title\": \"U Turn (1997)\"}, {\"genres\": \"Comedy|Drama|Romance\", \"imdbId\": \"tt118842\", \"rating\": 2, \"timestamp\": 1034136119, \"title\": \"Chasing Amy (1997)\"}, {\"genres\": \"Horror|Mystery|Thriller\", \"imdbId\": \"tt119345\", \"rating\": 3, \"timestamp\": 1034139198, \"title\": \"I Know What You Did Last Summer (1997)\"}, {\"genres\": \"Drama|Mystery|Thriller\", \"imdbId\": \"tt118971\", \"rating\": 5, \"timestamp\": 1034139094, \"title\": \"The Devil's Advocate (1997)\"}]\n",
    "\n",
    "order_list_str=[\"tt118971\", \"tt118883\", \"tt120102\", \"tt119488\", \"tt118884\", \"tt119345\", \"tt119174\", \"tt120177\", \"tt118842\", \"tt120399\"]"
   ]
  },
  {
   "cell_type": "code",
   "execution_count": 30,
   "metadata": {},
   "outputs": [
    {
     "name": "stdout",
     "output_type": "stream",
     "text": [
      "<s> \n",
      "###instruction:\n",
      "I'll determine the priority of the movie recommendation list based on the user's movie rating information. I'll return the recommended list of movies sorted according to priority imdb_id, and I'll output the metadata for the corresponding imdb_id. It must return in JSON format.\n",
      "\n",
      "\n",
      "user_ratings_info:\n",
      "[{'genres': 'Drama|Sci-Fi', 'imdbId': 'tt118884', 'rating': 4, 'timestamp': 1034135578, 'title': 'Contact (1997)'}, {'genres': 'Action|Adventure|Sci-Fi|Thriller', 'imdbId': 'tt120177', 'rating': 2, 'timestamp': 1034138273, 'title': 'Spawn (1997)'}, {'genres': 'Drama|Mystery|Romance|Thriller', 'imdbId': 'tt118883', 'rating': 5, 'timestamp': 1034138875, 'title': 'Conspiracy Theory (1997)'}, {'genres': 'Crime|Film-Noir|Mystery|Thriller', 'imdbId': 'tt119488', 'rating': 4, 'timestamp': 1034136028, 'title': 'L.A. Confidential (1997)'}, {'genres': 'Adventure|Drama|War', 'imdbId': 'tt120102', 'rating': 4, 'timestamp': 1034138678, 'title': 'Seven Years in Tibet (1997)'}, {'genres': 'Drama|Mystery|Thriller', 'imdbId': 'tt119174', 'rating': 2, 'timestamp': 1034139049, 'title': 'Game, The (1997)'}, {'genres': 'Crime|Drama|Mystery', 'imdbId': 'tt120399', 'rating': 1, 'timestamp': 1034139135, 'title': 'U Turn (1997)'}, {'genres': 'Comedy|Drama|Romance', 'imdbId': 'tt118842', 'rating': 2, 'timestamp': 1034136119, 'title': 'Chasing Amy (1997)'}, {'genres': 'Horror|Mystery|Thriller', 'imdbId': 'tt119345', 'rating': 3, 'timestamp': 1034139198, 'title': 'I Know What You Did Last Summer (1997)'}, {'genres': 'Drama|Mystery|Thriller', 'imdbId': 'tt118971', 'rating': 5, 'timestamp': 1034139094, 'title': \"The Devil's Advocate (1997)\"}]\n",
      "\n",
      "\n",
      "Mtt44444444444444444444444444444444444444444444444444DB_Dres_DBrdbBdbDttDttRdbBdb4444444444444444444444DBttDR_DBrDBttRDBBDttRDBBDBBDBRDBRdbBDBDBttDttRdbDBDBBDBBDMttDGttDBDBBDBBDttDRDRDBBDBDBDBDttRDBBDRDRdbBDBBDRDRDRDBRdbRDBBDRDRDRDRDBRDRDRDRDBRDBRDRDRDRDRDRDBRDRDRDBRDRDRDRDBRDBDBDSDttDttDDBSDttDRDBRDRDDBDBDSDDBDttDDBDRDR\n"
     ]
    }
   ],
   "source": [
    "# ###instruction:\n",
    "# {instruction}\n",
    "\n",
    "text = f'''\n",
    "###instruction:\n",
    "{instruction}\n",
    "\n",
    "\n",
    "user_ratings_info:\n",
    "{user_rating_str}\n",
    "\n",
    "\n",
    "'''\n",
    "inputs = tokenizer(text, return_tensors=\"pt\").to(\"cuda\")\n",
    "outputs = model.generate(\n",
    "    input_ids=inputs[\"input_ids\"].to(\"cuda\"), \n",
    "    attention_mask=inputs[\"attention_mask\"], \n",
    "    max_new_tokens=256,\n",
    "    early_stopping=True,\n",
    "    pad_token_id=tokenizer.eos_token_id\n",
    ")\n",
    "output = tokenizer.decode(outputs[0])\n",
    "print(output)\n"
   ]
  },
  {
   "cell_type": "code",
   "execution_count": null,
   "metadata": {},
   "outputs": [],
   "source": []
  }
 ],
 "metadata": {
  "kernelspec": {
   "display_name": "llm_rec_test",
   "language": "python",
   "name": "python3"
  },
  "language_info": {
   "codemirror_mode": {
    "name": "ipython",
    "version": 3
   },
   "file_extension": ".py",
   "mimetype": "text/x-python",
   "name": "python",
   "nbconvert_exporter": "python",
   "pygments_lexer": "ipython3",
   "version": "3.8.19"
  }
 },
 "nbformat": 4,
 "nbformat_minor": 2
}
